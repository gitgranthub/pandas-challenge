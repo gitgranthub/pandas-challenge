{
 "cells": [
  {
   "cell_type": "markdown",
   "metadata": {},
   "source": [
    "### Note\n",
    "* Instructions have been included for each segment. You do not have to follow them exactly, but they are included to help you think through the steps."
   ]
  },
  {
   "cell_type": "code",
   "execution_count": 299,
   "metadata": {},
   "outputs": [],
   "source": [
    "# Dependencies and Setup\n",
    "import pandas as pd\n",
    "import numpy as np\n",
    "\n",
    "# File to Load (Remember to Change These)\n",
    "school_data_to_load = \"Resources/schools_complete.csv\"\n",
    "student_data_to_load = \"Resources/students_complete.csv\"\n",
    "\n",
    "# Read School and Student Data File and store into Pandas DataFrames\n",
    "school_data = pd.read_csv(school_data_to_load)\n",
    "student_data = pd.read_csv(student_data_to_load)\n"
   ]
  },
  {
   "cell_type": "code",
   "execution_count": 300,
   "metadata": {},
   "outputs": [],
   "source": [
    "#change Student ID and School ID column names to school_id and student_id. Better name conventions.\n",
    "school_data=school_data.rename(columns = {'School ID':'school_id'})\n",
    "school_data=school_data.rename(columns = {'type':'school_type'})\n",
    "student_data=student_data.rename(columns = {'Student ID':'student_id'})"
   ]
  },
  {
   "cell_type": "code",
   "execution_count": 301,
   "metadata": {},
   "outputs": [],
   "source": [
    "# Combine the data into a single dataset.  \n",
    "school_data_complete = pd.merge(student_data, school_data, how=\"left\", on=[\"school_name\", \"school_name\"])\n",
    "school_data_complete\n",
    "\n",
    "#convert budget and size data type to integer \n",
    "school_data[\"budget\"] = pd.to_numeric(school_data[\"budget\"])\n",
    "school_data[\"size\"] = pd.to_numeric(school_data[\"size\"])\n",
    "\n",
    "#convert score / size / budget data type to integer \n",
    "school_data_complete[\"reading_score\"] = pd.to_numeric(school_data_complete[\"reading_score\"])\n",
    "school_data_complete[\"math_score\"] = pd.to_numeric(school_data_complete[\"math_score\"])\n",
    "school_data_complete[\"size\"] = pd.to_numeric(school_data_complete[\"size\"])\n",
    "school_data_complete[\"budget\"] = pd.to_numeric(school_data_complete[\"budget\"])\n"
   ]
  },
  {
   "cell_type": "markdown",
   "metadata": {},
   "source": [
    "## District Summary\n",
    "\n",
    "* Calculate the total number of schools"
   ]
  },
  {
   "cell_type": "code",
   "execution_count": 302,
   "metadata": {},
   "outputs": [
    {
     "data": {
      "text/plain": [
       "15"
      ]
     },
     "execution_count": 302,
     "metadata": {},
     "output_type": "execute_result"
    }
   ],
   "source": [
    "total_schools = school_data['school_name'].nunique()\n",
    "total_schools"
   ]
  },
  {
   "cell_type": "markdown",
   "metadata": {},
   "source": [
    "* Calculate the total number of students"
   ]
  },
  {
   "cell_type": "code",
   "execution_count": 303,
   "metadata": {},
   "outputs": [
    {
     "data": {
      "text/plain": [
       "39170"
      ]
     },
     "execution_count": 303,
     "metadata": {},
     "output_type": "execute_result"
    }
   ],
   "source": [
    "total_student_id = student_data['student_id'].nunique()\n",
    "total_student_id"
   ]
  },
  {
   "cell_type": "markdown",
   "metadata": {},
   "source": [
    "* Calculate the total budget"
   ]
  },
  {
   "cell_type": "code",
   "execution_count": 304,
   "metadata": {},
   "outputs": [
    {
     "data": {
      "text/plain": [
       "24649428"
      ]
     },
     "execution_count": 304,
     "metadata": {},
     "output_type": "execute_result"
    }
   ],
   "source": [
    "total_budget = school_data['budget'].sum()\n",
    "total_budget"
   ]
  },
  {
   "cell_type": "markdown",
   "metadata": {},
   "source": [
    "* Calculate the average math score"
   ]
  },
  {
   "cell_type": "code",
   "execution_count": 305,
   "metadata": {},
   "outputs": [
    {
     "data": {
      "text/plain": [
       "78.985371"
      ]
     },
     "execution_count": 305,
     "metadata": {},
     "output_type": "execute_result"
    }
   ],
   "source": [
    "avg_math = round(student_data['math_score'].mean(), 6)\n",
    "avg_math"
   ]
  },
  {
   "cell_type": "markdown",
   "metadata": {},
   "source": [
    " * Calculate the average reading score"
   ]
  },
  {
   "cell_type": "code",
   "execution_count": 306,
   "metadata": {},
   "outputs": [
    {
     "data": {
      "text/plain": [
       "81.87784"
      ]
     },
     "execution_count": 306,
     "metadata": {},
     "output_type": "execute_result"
    }
   ],
   "source": [
    "avg_reading = round(student_data['reading_score'].mean(), 6)\n",
    "avg_reading"
   ]
  },
  {
   "cell_type": "markdown",
   "metadata": {},
   "source": [
    "* Calculate the percentage of students with a passing math score (70 or greater)"
   ]
  },
  {
   "cell_type": "code",
   "execution_count": 307,
   "metadata": {},
   "outputs": [],
   "source": [
    "#Find the percentage of math students scoring above 70%\n",
    "studs_passing_math = school_data_complete.loc[school_data_complete[\"math_score\"]>=70][\"math_score\"].count()/total_student_id\n"
   ]
  },
  {
   "cell_type": "markdown",
   "metadata": {},
   "source": [
    "* Calculate the percentage of students with a passing reading score (70 or greater)"
   ]
  },
  {
   "cell_type": "code",
   "execution_count": 308,
   "metadata": {},
   "outputs": [],
   "source": [
    "#Find the percentage of reading students scoring above 70%\n",
    "studs_passing_reading = school_data_complete.loc[school_data_complete[\"reading_score\"]>=70][\"reading_score\"].count()/total_student_id\n"
   ]
  },
  {
   "cell_type": "markdown",
   "metadata": {},
   "source": [
    "* Calculate the percentage of students who passed math **and** reading (% Overall Passing)"
   ]
  },
  {
   "cell_type": "code",
   "execution_count": 309,
   "metadata": {},
   "outputs": [],
   "source": [
    "overall_passing = (studs_passing_reading + studs_passing_math)/2\n",
    "#pct_overall_passing = round((overall_passing)*100,6)\n"
   ]
  },
  {
   "cell_type": "markdown",
   "metadata": {},
   "source": [
    "* Create a dataframe to hold the above results"
   ]
  },
  {
   "cell_type": "code",
   "execution_count": 310,
   "metadata": {},
   "outputs": [
    {
     "data": {
      "text/html": [
       "<div>\n",
       "<style scoped>\n",
       "    .dataframe tbody tr th:only-of-type {\n",
       "        vertical-align: middle;\n",
       "    }\n",
       "\n",
       "    .dataframe tbody tr th {\n",
       "        vertical-align: top;\n",
       "    }\n",
       "\n",
       "    .dataframe thead th {\n",
       "        text-align: right;\n",
       "    }\n",
       "</style>\n",
       "<table border=\"1\" class=\"dataframe\">\n",
       "  <thead>\n",
       "    <tr style=\"text-align: right;\">\n",
       "      <th></th>\n",
       "      <th>Total Schools</th>\n",
       "      <th>Total Students</th>\n",
       "      <th>Total Budget</th>\n",
       "      <th>Average Math Score</th>\n",
       "      <th>Average Reading Score</th>\n",
       "      <th>% Passing Math</th>\n",
       "      <th>% Passing Reading</th>\n",
       "      <th>Overall Passing Rate</th>\n",
       "    </tr>\n",
       "  </thead>\n",
       "  <tbody>\n",
       "    <tr>\n",
       "      <th>0</th>\n",
       "      <td>15</td>\n",
       "      <td>39,170</td>\n",
       "      <td>$24,649,428.00</td>\n",
       "      <td>78.99</td>\n",
       "      <td>81.88</td>\n",
       "      <td>75.0%</td>\n",
       "      <td>85.8%</td>\n",
       "      <td>80.4%</td>\n",
       "    </tr>\n",
       "  </tbody>\n",
       "</table>\n",
       "</div>"
      ],
      "text/plain": [
       "   Total Schools Total Students    Total Budget Average Math Score  \\\n",
       "0             15         39,170  $24,649,428.00              78.99   \n",
       "\n",
       "  Average Reading Score % Passing Math % Passing Reading Overall Passing Rate  \n",
       "0                 81.88          75.0%             85.8%                80.4%  "
      ]
     },
     "execution_count": 310,
     "metadata": {},
     "output_type": "execute_result"
    }
   ],
   "source": [
    "#create a new dataframe for summary\n",
    "district_summary = pd.DataFrame({\"Total Schools\":[total_schools],\n",
    "                                 \"Total Students\":[total_student_id],\n",
    "                                 \"Total Budget\":[total_budget],\n",
    "                                 \"Average Math Score\":[avg_math],\n",
    "                                 \"Average Reading Score\":[avg_reading],\n",
    "                                 \"% Passing Math\":[studs_passing_math],\n",
    "                                 \"% Passing Reading\":[studs_passing_reading],\n",
    "                                 \"Overall Passing Rate\":[overall_passing]                            \n",
    "                                })\n",
    "\n",
    "#cleaner formating\n",
    "district_summary['Total Budget'] = district_summary['Total Budget'].map(\"${:,.2f}\".format)\n",
    "district_summary['Average Math Score'] = district_summary['Average Math Score'].map(\"{:,.2f}\".format)\n",
    "district_summary['Average Reading Score'] = district_summary['Average Reading Score'].map(\"{:,.2f}\".format)\n",
    "district_summary['Total Students'] = district_summary['Total Students'].map(\"{:,}\".format)\n",
    "district_summary['Overall Passing Rate'] = district_summary['Overall Passing Rate'].map(\"{:.1%}\".format)\n",
    "district_summary['% Passing Math'] = district_summary['% Passing Math'].map(\"{:.1%}\".format)\n",
    "district_summary['% Passing Reading'] = district_summary['% Passing Reading'].map(\"{:.1%}\".format)\n",
    "\n",
    "district_summary"
   ]
  },
  {
   "cell_type": "markdown",
   "metadata": {},
   "source": [
    "## School Summary"
   ]
  },
  {
   "cell_type": "markdown",
   "metadata": {},
   "source": [
    "* Create an overview table that summarizes key metrics about each school, including:"
   ]
  },
  {
   "cell_type": "markdown",
   "metadata": {},
   "source": [
    "* School Name"
   ]
  },
  {
   "cell_type": "code",
   "execution_count": 311,
   "metadata": {},
   "outputs": [],
   "source": [
    "#school_by = school_data_complete.set_index('school_name').groupby(['school_name'])\n",
    "#school_by = school_data_complete.groupby(['school_name'])\n",
    "school_by = school_data_complete.set_index('school_name').groupby(['school_name'])"
   ]
  },
  {
   "cell_type": "markdown",
   "metadata": {},
   "source": [
    "  * School Type"
   ]
  },
  {
   "cell_type": "code",
   "execution_count": 312,
   "metadata": {},
   "outputs": [],
   "source": [
    "#school_district = school_by['school_type'].first()\n",
    "school_district = school_data.set_index('school_name')['school_type']"
   ]
  },
  {
   "cell_type": "markdown",
   "metadata": {},
   "source": [
    "  * Total Students"
   ]
  },
  {
   "cell_type": "code",
   "execution_count": 313,
   "metadata": {},
   "outputs": [],
   "source": [
    "#students_per_school = school_by['student_id'].count()\n",
    "students_per_school = school_by[\"student_id\"].count()"
   ]
  },
  {
   "cell_type": "markdown",
   "metadata": {},
   "source": [
    "  * Total School Budget"
   ]
  },
  {
   "cell_type": "code",
   "execution_count": 314,
   "metadata": {},
   "outputs": [],
   "source": [
    "#budget_per_school = school_data.set_index('school_name')['budget']\n",
    "budget_per_school = school_data.set_index('school_name')['budget']"
   ]
  },
  {
   "cell_type": "markdown",
   "metadata": {},
   "source": [
    "  * Per Student Budget"
   ]
  },
  {
   "cell_type": "code",
   "execution_count": 315,
   "metadata": {},
   "outputs": [],
   "source": [
    "#budget_per_student = school_data.set_index('school_name')['budget']/school_data.set_index('school_name')['size']\n",
    "budget_per_student = budget_per_school/students_per_school"
   ]
  },
  {
   "cell_type": "markdown",
   "metadata": {},
   "source": [
    "  * Average Math Score"
   ]
  },
  {
   "cell_type": "code",
   "execution_count": 316,
   "metadata": {},
   "outputs": [],
   "source": [
    "#avg_math_per_school = school_by['math_score'].mean()\n",
    "avg_math_score = school_by[\"math_score\"].mean()"
   ]
  },
  {
   "cell_type": "markdown",
   "metadata": {},
   "source": [
    "  * Average Reading Score"
   ]
  },
  {
   "cell_type": "code",
   "execution_count": 317,
   "metadata": {},
   "outputs": [],
   "source": [
    "avg_reading_score = school_by['reading_score'].mean()"
   ]
  },
  {
   "cell_type": "markdown",
   "metadata": {},
   "source": [
    "  * % Passing Math"
   ]
  },
  {
   "cell_type": "code",
   "execution_count": 318,
   "metadata": {},
   "outputs": [],
   "source": [
    "percent_pass_math = school_data_complete[school_data_complete['math_score'] >= 70].groupby('school_name')['student_id'].count()/students_per_school"
   ]
  },
  {
   "cell_type": "markdown",
   "metadata": {},
   "source": [
    "  * % Passing Reading"
   ]
  },
  {
   "cell_type": "code",
   "execution_count": 319,
   "metadata": {},
   "outputs": [],
   "source": [
    "percent_pass_reading = school_data_complete[school_data_complete['reading_score'] >= 70].groupby('school_name')['student_id'].count()/students_per_school"
   ]
  },
  {
   "cell_type": "markdown",
   "metadata": {},
   "source": [
    "  * % Overall Passing (The percentage of students that passed math **and** reading.)"
   ]
  },
  {
   "cell_type": "code",
   "execution_count": 320,
   "metadata": {},
   "outputs": [],
   "source": [
    "overall_pass_rate = school_data_complete[(school_data_complete['reading_score'] >= 70) & (school_data_complete['math_score'] >= 70)].groupby('school_name')['student_id'].count()/students_per_school"
   ]
  },
  {
   "cell_type": "markdown",
   "metadata": {},
   "source": [
    "  \n",
    "* Create a dataframe to hold the above results"
   ]
  },
  {
   "cell_type": "code",
   "execution_count": 321,
   "metadata": {},
   "outputs": [
    {
     "data": {
      "text/html": [
       "<div>\n",
       "<style scoped>\n",
       "    .dataframe tbody tr th:only-of-type {\n",
       "        vertical-align: middle;\n",
       "    }\n",
       "\n",
       "    .dataframe tbody tr th {\n",
       "        vertical-align: top;\n",
       "    }\n",
       "\n",
       "    .dataframe thead th {\n",
       "        text-align: right;\n",
       "    }\n",
       "</style>\n",
       "<table border=\"1\" class=\"dataframe\">\n",
       "  <thead>\n",
       "    <tr style=\"text-align: right;\">\n",
       "      <th></th>\n",
       "      <th>School Type</th>\n",
       "      <th>Total Students</th>\n",
       "      <th>Total School Budget</th>\n",
       "      <th>Per Student Budget</th>\n",
       "      <th>Average Math Score</th>\n",
       "      <th>Average Reading Score</th>\n",
       "      <th>% Passing Math</th>\n",
       "      <th>% Passing Reading</th>\n",
       "      <th>Overall Passing Rate</th>\n",
       "    </tr>\n",
       "  </thead>\n",
       "  <tbody>\n",
       "    <tr>\n",
       "      <th>Bailey High School</th>\n",
       "      <td>District</td>\n",
       "      <td>4,976</td>\n",
       "      <td>3,124,928</td>\n",
       "      <td>628.00</td>\n",
       "      <td>77.0</td>\n",
       "      <td>81.0</td>\n",
       "      <td>66.68%</td>\n",
       "      <td>81.93%</td>\n",
       "      <td>54.64%</td>\n",
       "    </tr>\n",
       "    <tr>\n",
       "      <th>Cabrera High School</th>\n",
       "      <td>Charter</td>\n",
       "      <td>1,858</td>\n",
       "      <td>1,081,356</td>\n",
       "      <td>582.00</td>\n",
       "      <td>83.1</td>\n",
       "      <td>84.0</td>\n",
       "      <td>94.13%</td>\n",
       "      <td>97.04%</td>\n",
       "      <td>91.33%</td>\n",
       "    </tr>\n",
       "    <tr>\n",
       "      <th>Figueroa High School</th>\n",
       "      <td>District</td>\n",
       "      <td>2,949</td>\n",
       "      <td>1,884,411</td>\n",
       "      <td>639.00</td>\n",
       "      <td>76.7</td>\n",
       "      <td>81.2</td>\n",
       "      <td>65.99%</td>\n",
       "      <td>80.74%</td>\n",
       "      <td>53.20%</td>\n",
       "    </tr>\n",
       "    <tr>\n",
       "      <th>Ford High School</th>\n",
       "      <td>District</td>\n",
       "      <td>2,739</td>\n",
       "      <td>1,763,916</td>\n",
       "      <td>644.00</td>\n",
       "      <td>77.1</td>\n",
       "      <td>80.7</td>\n",
       "      <td>68.31%</td>\n",
       "      <td>79.30%</td>\n",
       "      <td>54.29%</td>\n",
       "    </tr>\n",
       "    <tr>\n",
       "      <th>Griffin High School</th>\n",
       "      <td>Charter</td>\n",
       "      <td>1,468</td>\n",
       "      <td>917,500</td>\n",
       "      <td>625.00</td>\n",
       "      <td>83.4</td>\n",
       "      <td>83.8</td>\n",
       "      <td>93.39%</td>\n",
       "      <td>97.14%</td>\n",
       "      <td>90.60%</td>\n",
       "    </tr>\n",
       "    <tr>\n",
       "      <th>Hernandez High School</th>\n",
       "      <td>District</td>\n",
       "      <td>4,635</td>\n",
       "      <td>3,022,020</td>\n",
       "      <td>652.00</td>\n",
       "      <td>77.3</td>\n",
       "      <td>80.9</td>\n",
       "      <td>66.75%</td>\n",
       "      <td>80.86%</td>\n",
       "      <td>53.53%</td>\n",
       "    </tr>\n",
       "    <tr>\n",
       "      <th>Holden High School</th>\n",
       "      <td>Charter</td>\n",
       "      <td>427</td>\n",
       "      <td>248,087</td>\n",
       "      <td>581.00</td>\n",
       "      <td>83.8</td>\n",
       "      <td>83.8</td>\n",
       "      <td>92.51%</td>\n",
       "      <td>96.25%</td>\n",
       "      <td>89.23%</td>\n",
       "    </tr>\n",
       "    <tr>\n",
       "      <th>Huang High School</th>\n",
       "      <td>District</td>\n",
       "      <td>2,917</td>\n",
       "      <td>1,910,635</td>\n",
       "      <td>655.00</td>\n",
       "      <td>76.6</td>\n",
       "      <td>81.2</td>\n",
       "      <td>65.68%</td>\n",
       "      <td>81.32%</td>\n",
       "      <td>53.51%</td>\n",
       "    </tr>\n",
       "    <tr>\n",
       "      <th>Johnson High School</th>\n",
       "      <td>District</td>\n",
       "      <td>4,761</td>\n",
       "      <td>3,094,650</td>\n",
       "      <td>650.00</td>\n",
       "      <td>77.1</td>\n",
       "      <td>81.0</td>\n",
       "      <td>66.06%</td>\n",
       "      <td>81.22%</td>\n",
       "      <td>53.54%</td>\n",
       "    </tr>\n",
       "    <tr>\n",
       "      <th>Pena High School</th>\n",
       "      <td>Charter</td>\n",
       "      <td>962</td>\n",
       "      <td>585,858</td>\n",
       "      <td>609.00</td>\n",
       "      <td>83.8</td>\n",
       "      <td>84.0</td>\n",
       "      <td>94.59%</td>\n",
       "      <td>95.95%</td>\n",
       "      <td>90.54%</td>\n",
       "    </tr>\n",
       "    <tr>\n",
       "      <th>Rodriguez High School</th>\n",
       "      <td>District</td>\n",
       "      <td>3,999</td>\n",
       "      <td>2,547,363</td>\n",
       "      <td>637.00</td>\n",
       "      <td>76.8</td>\n",
       "      <td>80.7</td>\n",
       "      <td>66.37%</td>\n",
       "      <td>80.22%</td>\n",
       "      <td>52.99%</td>\n",
       "    </tr>\n",
       "    <tr>\n",
       "      <th>Shelton High School</th>\n",
       "      <td>Charter</td>\n",
       "      <td>1,761</td>\n",
       "      <td>1,056,600</td>\n",
       "      <td>600.00</td>\n",
       "      <td>83.4</td>\n",
       "      <td>83.7</td>\n",
       "      <td>93.87%</td>\n",
       "      <td>95.85%</td>\n",
       "      <td>89.89%</td>\n",
       "    </tr>\n",
       "    <tr>\n",
       "      <th>Thomas High School</th>\n",
       "      <td>Charter</td>\n",
       "      <td>1,635</td>\n",
       "      <td>1,043,130</td>\n",
       "      <td>638.00</td>\n",
       "      <td>83.4</td>\n",
       "      <td>83.8</td>\n",
       "      <td>93.27%</td>\n",
       "      <td>97.31%</td>\n",
       "      <td>90.95%</td>\n",
       "    </tr>\n",
       "    <tr>\n",
       "      <th>Wilson High School</th>\n",
       "      <td>Charter</td>\n",
       "      <td>2,283</td>\n",
       "      <td>1,319,574</td>\n",
       "      <td>578.00</td>\n",
       "      <td>83.3</td>\n",
       "      <td>84.0</td>\n",
       "      <td>93.87%</td>\n",
       "      <td>96.54%</td>\n",
       "      <td>90.58%</td>\n",
       "    </tr>\n",
       "    <tr>\n",
       "      <th>Wright High School</th>\n",
       "      <td>Charter</td>\n",
       "      <td>1,800</td>\n",
       "      <td>1,049,400</td>\n",
       "      <td>583.00</td>\n",
       "      <td>83.7</td>\n",
       "      <td>84.0</td>\n",
       "      <td>93.33%</td>\n",
       "      <td>96.61%</td>\n",
       "      <td>90.33%</td>\n",
       "    </tr>\n",
       "  </tbody>\n",
       "</table>\n",
       "</div>"
      ],
      "text/plain": [
       "                      School Type Total Students Total School Budget  \\\n",
       "Bailey High School       District          4,976           3,124,928   \n",
       "Cabrera High School       Charter          1,858           1,081,356   \n",
       "Figueroa High School     District          2,949           1,884,411   \n",
       "Ford High School         District          2,739           1,763,916   \n",
       "Griffin High School       Charter          1,468             917,500   \n",
       "Hernandez High School    District          4,635           3,022,020   \n",
       "Holden High School        Charter            427             248,087   \n",
       "Huang High School        District          2,917           1,910,635   \n",
       "Johnson High School      District          4,761           3,094,650   \n",
       "Pena High School          Charter            962             585,858   \n",
       "Rodriguez High School    District          3,999           2,547,363   \n",
       "Shelton High School       Charter          1,761           1,056,600   \n",
       "Thomas High School        Charter          1,635           1,043,130   \n",
       "Wilson High School        Charter          2,283           1,319,574   \n",
       "Wright High School        Charter          1,800           1,049,400   \n",
       "\n",
       "                      Per Student Budget Average Math Score  \\\n",
       "Bailey High School                628.00               77.0   \n",
       "Cabrera High School               582.00               83.1   \n",
       "Figueroa High School              639.00               76.7   \n",
       "Ford High School                  644.00               77.1   \n",
       "Griffin High School               625.00               83.4   \n",
       "Hernandez High School             652.00               77.3   \n",
       "Holden High School                581.00               83.8   \n",
       "Huang High School                 655.00               76.6   \n",
       "Johnson High School               650.00               77.1   \n",
       "Pena High School                  609.00               83.8   \n",
       "Rodriguez High School             637.00               76.8   \n",
       "Shelton High School               600.00               83.4   \n",
       "Thomas High School                638.00               83.4   \n",
       "Wilson High School                578.00               83.3   \n",
       "Wright High School                583.00               83.7   \n",
       "\n",
       "                      Average Reading Score % Passing Math % Passing Reading  \\\n",
       "Bailey High School                     81.0         66.68%            81.93%   \n",
       "Cabrera High School                    84.0         94.13%            97.04%   \n",
       "Figueroa High School                   81.2         65.99%            80.74%   \n",
       "Ford High School                       80.7         68.31%            79.30%   \n",
       "Griffin High School                    83.8         93.39%            97.14%   \n",
       "Hernandez High School                  80.9         66.75%            80.86%   \n",
       "Holden High School                     83.8         92.51%            96.25%   \n",
       "Huang High School                      81.2         65.68%            81.32%   \n",
       "Johnson High School                    81.0         66.06%            81.22%   \n",
       "Pena High School                       84.0         94.59%            95.95%   \n",
       "Rodriguez High School                  80.7         66.37%            80.22%   \n",
       "Shelton High School                    83.7         93.87%            95.85%   \n",
       "Thomas High School                     83.8         93.27%            97.31%   \n",
       "Wilson High School                     84.0         93.87%            96.54%   \n",
       "Wright High School                     84.0         93.33%            96.61%   \n",
       "\n",
       "                      Overall Passing Rate  \n",
       "Bailey High School                  54.64%  \n",
       "Cabrera High School                 91.33%  \n",
       "Figueroa High School                53.20%  \n",
       "Ford High School                    54.29%  \n",
       "Griffin High School                 90.60%  \n",
       "Hernandez High School               53.53%  \n",
       "Holden High School                  89.23%  \n",
       "Huang High School                   53.51%  \n",
       "Johnson High School                 53.54%  \n",
       "Pena High School                    90.54%  \n",
       "Rodriguez High School               52.99%  \n",
       "Shelton High School                 89.89%  \n",
       "Thomas High School                  90.95%  \n",
       "Wilson High School                  90.58%  \n",
       "Wright High School                  90.33%  "
      ]
     },
     "execution_count": 321,
     "metadata": {},
     "output_type": "execute_result"
    }
   ],
   "source": [
    "school_summary = pd.DataFrame({\n",
    "                               \"School Type\" : school_district,\n",
    "                               \"Total Students\" : students_per_school,\n",
    "                               \"Total School Budget\" : budget_per_school,\n",
    "                               \"Per Student Budget\" : budget_per_student,\n",
    "                               \"Average Math Score\" : avg_math_score,\n",
    "                               \"Average Reading Score\" : avg_reading_score,\n",
    "                               \"% Passing Math\": percent_pass_math,\n",
    "                               \"% Passing Reading\" : percent_pass_reading,\n",
    "                               \"Overall Passing Rate\" : overall_pass_rate\n",
    "    \n",
    "                            })\n",
    "\n",
    "#cleaner formating\n",
    "\n",
    "school_summary['Total Students'] = school_summary['Total Students'].map(\"{:,}\".format)\n",
    "school_summary['Total School Budget'] = school_summary['Total School Budget'].map(\"{:,}\".format)\n",
    "school_summary['Per Student Budget'] = school_summary['Per Student Budget'].map(\"{:.2f}\".format)\n",
    "school_summary['Average Math Score'] = school_summary['Average Math Score'].map(\"{:.1f}\".format)\n",
    "school_summary['Average Reading Score'] = school_summary['Average Reading Score'].map(\"{:.1f}\".format)\n",
    "school_summary['% Passing Math'] = school_summary['% Passing Math'].map(\"{:.2%}\".format)\n",
    "school_summary['% Passing Reading'] = school_summary['% Passing Reading'].map(\"{:.2%}\".format)\n",
    "school_summary['Overall Passing Rate'] = school_summary['Overall Passing Rate'].map(\"{:.2%}\".format)\n",
    "\n",
    "school_summary "
   ]
  },
  {
   "cell_type": "code",
   "execution_count": null,
   "metadata": {},
   "outputs": [],
   "source": []
  },
  {
   "cell_type": "markdown",
   "metadata": {},
   "source": [
    "## Top Performing Schools (By % Overall Passing)"
   ]
  },
  {
   "cell_type": "markdown",
   "metadata": {},
   "source": [
    "* Sort and display the top five performing schools by % overall passing."
   ]
  },
  {
   "cell_type": "code",
   "execution_count": 322,
   "metadata": {
    "scrolled": true
   },
   "outputs": [
    {
     "data": {
      "text/html": [
       "<div>\n",
       "<style scoped>\n",
       "    .dataframe tbody tr th:only-of-type {\n",
       "        vertical-align: middle;\n",
       "    }\n",
       "\n",
       "    .dataframe tbody tr th {\n",
       "        vertical-align: top;\n",
       "    }\n",
       "\n",
       "    .dataframe thead th {\n",
       "        text-align: right;\n",
       "    }\n",
       "</style>\n",
       "<table border=\"1\" class=\"dataframe\">\n",
       "  <thead>\n",
       "    <tr style=\"text-align: right;\">\n",
       "      <th></th>\n",
       "      <th>School Type</th>\n",
       "      <th>Total Students</th>\n",
       "      <th>Total School Budget</th>\n",
       "      <th>Per Student Budget</th>\n",
       "      <th>Average Math Score</th>\n",
       "      <th>Average Reading Score</th>\n",
       "      <th>% Passing Math</th>\n",
       "      <th>% Passing Reading</th>\n",
       "      <th>Overall Passing Rate</th>\n",
       "    </tr>\n",
       "  </thead>\n",
       "  <tbody>\n",
       "    <tr>\n",
       "      <th>Cabrera High School</th>\n",
       "      <td>Charter</td>\n",
       "      <td>1,858</td>\n",
       "      <td>1,081,356</td>\n",
       "      <td>582.00</td>\n",
       "      <td>83.1</td>\n",
       "      <td>84.0</td>\n",
       "      <td>94.13%</td>\n",
       "      <td>97.04%</td>\n",
       "      <td>91.33%</td>\n",
       "    </tr>\n",
       "    <tr>\n",
       "      <th>Thomas High School</th>\n",
       "      <td>Charter</td>\n",
       "      <td>1,635</td>\n",
       "      <td>1,043,130</td>\n",
       "      <td>638.00</td>\n",
       "      <td>83.4</td>\n",
       "      <td>83.8</td>\n",
       "      <td>93.27%</td>\n",
       "      <td>97.31%</td>\n",
       "      <td>90.95%</td>\n",
       "    </tr>\n",
       "    <tr>\n",
       "      <th>Griffin High School</th>\n",
       "      <td>Charter</td>\n",
       "      <td>1,468</td>\n",
       "      <td>917,500</td>\n",
       "      <td>625.00</td>\n",
       "      <td>83.4</td>\n",
       "      <td>83.8</td>\n",
       "      <td>93.39%</td>\n",
       "      <td>97.14%</td>\n",
       "      <td>90.60%</td>\n",
       "    </tr>\n",
       "    <tr>\n",
       "      <th>Wilson High School</th>\n",
       "      <td>Charter</td>\n",
       "      <td>2,283</td>\n",
       "      <td>1,319,574</td>\n",
       "      <td>578.00</td>\n",
       "      <td>83.3</td>\n",
       "      <td>84.0</td>\n",
       "      <td>93.87%</td>\n",
       "      <td>96.54%</td>\n",
       "      <td>90.58%</td>\n",
       "    </tr>\n",
       "    <tr>\n",
       "      <th>Pena High School</th>\n",
       "      <td>Charter</td>\n",
       "      <td>962</td>\n",
       "      <td>585,858</td>\n",
       "      <td>609.00</td>\n",
       "      <td>83.8</td>\n",
       "      <td>84.0</td>\n",
       "      <td>94.59%</td>\n",
       "      <td>95.95%</td>\n",
       "      <td>90.54%</td>\n",
       "    </tr>\n",
       "  </tbody>\n",
       "</table>\n",
       "</div>"
      ],
      "text/plain": [
       "                    School Type Total Students Total School Budget  \\\n",
       "Cabrera High School     Charter          1,858           1,081,356   \n",
       "Thomas High School      Charter          1,635           1,043,130   \n",
       "Griffin High School     Charter          1,468             917,500   \n",
       "Wilson High School      Charter          2,283           1,319,574   \n",
       "Pena High School        Charter            962             585,858   \n",
       "\n",
       "                    Per Student Budget Average Math Score  \\\n",
       "Cabrera High School             582.00               83.1   \n",
       "Thomas High School              638.00               83.4   \n",
       "Griffin High School             625.00               83.4   \n",
       "Wilson High School              578.00               83.3   \n",
       "Pena High School                609.00               83.8   \n",
       "\n",
       "                    Average Reading Score % Passing Math % Passing Reading  \\\n",
       "Cabrera High School                  84.0         94.13%            97.04%   \n",
       "Thomas High School                   83.8         93.27%            97.31%   \n",
       "Griffin High School                  83.8         93.39%            97.14%   \n",
       "Wilson High School                   84.0         93.87%            96.54%   \n",
       "Pena High School                     84.0         94.59%            95.95%   \n",
       "\n",
       "                    Overall Passing Rate  \n",
       "Cabrera High School               91.33%  \n",
       "Thomas High School                90.95%  \n",
       "Griffin High School               90.60%  \n",
       "Wilson High School                90.58%  \n",
       "Pena High School                  90.54%  "
      ]
     },
     "execution_count": 322,
     "metadata": {},
     "output_type": "execute_result"
    }
   ],
   "source": [
    "sorting_sch = school_summary.sort_values(['Overall Passing Rate'], ascending=[False])\n",
    "sorting_sch.head(5)"
   ]
  },
  {
   "cell_type": "markdown",
   "metadata": {},
   "source": [
    "## Bottom Performing Schools (By % Overall Passing)"
   ]
  },
  {
   "cell_type": "markdown",
   "metadata": {},
   "source": [
    "* Sort and display the five worst-performing schools by % overall passing."
   ]
  },
  {
   "cell_type": "code",
   "execution_count": 323,
   "metadata": {},
   "outputs": [
    {
     "data": {
      "text/html": [
       "<div>\n",
       "<style scoped>\n",
       "    .dataframe tbody tr th:only-of-type {\n",
       "        vertical-align: middle;\n",
       "    }\n",
       "\n",
       "    .dataframe tbody tr th {\n",
       "        vertical-align: top;\n",
       "    }\n",
       "\n",
       "    .dataframe thead th {\n",
       "        text-align: right;\n",
       "    }\n",
       "</style>\n",
       "<table border=\"1\" class=\"dataframe\">\n",
       "  <thead>\n",
       "    <tr style=\"text-align: right;\">\n",
       "      <th></th>\n",
       "      <th>School Type</th>\n",
       "      <th>Total Students</th>\n",
       "      <th>Total School Budget</th>\n",
       "      <th>Per Student Budget</th>\n",
       "      <th>Average Math Score</th>\n",
       "      <th>Average Reading Score</th>\n",
       "      <th>% Passing Math</th>\n",
       "      <th>% Passing Reading</th>\n",
       "      <th>Overall Passing Rate</th>\n",
       "    </tr>\n",
       "  </thead>\n",
       "  <tbody>\n",
       "    <tr>\n",
       "      <th>Johnson High School</th>\n",
       "      <td>District</td>\n",
       "      <td>4,761</td>\n",
       "      <td>3,094,650</td>\n",
       "      <td>650.00</td>\n",
       "      <td>77.1</td>\n",
       "      <td>81.0</td>\n",
       "      <td>66.06%</td>\n",
       "      <td>81.22%</td>\n",
       "      <td>53.54%</td>\n",
       "    </tr>\n",
       "    <tr>\n",
       "      <th>Hernandez High School</th>\n",
       "      <td>District</td>\n",
       "      <td>4,635</td>\n",
       "      <td>3,022,020</td>\n",
       "      <td>652.00</td>\n",
       "      <td>77.3</td>\n",
       "      <td>80.9</td>\n",
       "      <td>66.75%</td>\n",
       "      <td>80.86%</td>\n",
       "      <td>53.53%</td>\n",
       "    </tr>\n",
       "    <tr>\n",
       "      <th>Huang High School</th>\n",
       "      <td>District</td>\n",
       "      <td>2,917</td>\n",
       "      <td>1,910,635</td>\n",
       "      <td>655.00</td>\n",
       "      <td>76.6</td>\n",
       "      <td>81.2</td>\n",
       "      <td>65.68%</td>\n",
       "      <td>81.32%</td>\n",
       "      <td>53.51%</td>\n",
       "    </tr>\n",
       "    <tr>\n",
       "      <th>Figueroa High School</th>\n",
       "      <td>District</td>\n",
       "      <td>2,949</td>\n",
       "      <td>1,884,411</td>\n",
       "      <td>639.00</td>\n",
       "      <td>76.7</td>\n",
       "      <td>81.2</td>\n",
       "      <td>65.99%</td>\n",
       "      <td>80.74%</td>\n",
       "      <td>53.20%</td>\n",
       "    </tr>\n",
       "    <tr>\n",
       "      <th>Rodriguez High School</th>\n",
       "      <td>District</td>\n",
       "      <td>3,999</td>\n",
       "      <td>2,547,363</td>\n",
       "      <td>637.00</td>\n",
       "      <td>76.8</td>\n",
       "      <td>80.7</td>\n",
       "      <td>66.37%</td>\n",
       "      <td>80.22%</td>\n",
       "      <td>52.99%</td>\n",
       "    </tr>\n",
       "  </tbody>\n",
       "</table>\n",
       "</div>"
      ],
      "text/plain": [
       "                      School Type Total Students Total School Budget  \\\n",
       "Johnson High School      District          4,761           3,094,650   \n",
       "Hernandez High School    District          4,635           3,022,020   \n",
       "Huang High School        District          2,917           1,910,635   \n",
       "Figueroa High School     District          2,949           1,884,411   \n",
       "Rodriguez High School    District          3,999           2,547,363   \n",
       "\n",
       "                      Per Student Budget Average Math Score  \\\n",
       "Johnson High School               650.00               77.1   \n",
       "Hernandez High School             652.00               77.3   \n",
       "Huang High School                 655.00               76.6   \n",
       "Figueroa High School              639.00               76.7   \n",
       "Rodriguez High School             637.00               76.8   \n",
       "\n",
       "                      Average Reading Score % Passing Math % Passing Reading  \\\n",
       "Johnson High School                    81.0         66.06%            81.22%   \n",
       "Hernandez High School                  80.9         66.75%            80.86%   \n",
       "Huang High School                      81.2         65.68%            81.32%   \n",
       "Figueroa High School                   81.2         65.99%            80.74%   \n",
       "Rodriguez High School                  80.7         66.37%            80.22%   \n",
       "\n",
       "                      Overall Passing Rate  \n",
       "Johnson High School                 53.54%  \n",
       "Hernandez High School               53.53%  \n",
       "Huang High School                   53.51%  \n",
       "Figueroa High School                53.20%  \n",
       "Rodriguez High School               52.99%  "
      ]
     },
     "execution_count": 323,
     "metadata": {},
     "output_type": "execute_result"
    }
   ],
   "source": [
    "bottom_schools = sorting_sch.tail(5)\n",
    "bottom_schools.sort_values(['Overall Passing Rate'], ascending=[True])\n",
    "bottom_schools.head(5)"
   ]
  },
  {
   "cell_type": "markdown",
   "metadata": {},
   "source": [
    "## Math Scores by Grade"
   ]
  },
  {
   "cell_type": "markdown",
   "metadata": {},
   "source": [
    "* Create a table that lists the average Reading Score for students of each grade level (9th, 10th, 11th, 12th) at each school.\n",
    "\n",
    "  * Create a pandas series for each grade. Hint: use a conditional statement.\n",
    "  * Group each series by school"
   ]
  },
  {
   "cell_type": "code",
   "execution_count": 324,
   "metadata": {},
   "outputs": [],
   "source": [
    "math_9th = school_data_complete.loc[school_data_complete[\"grade\"] == '9th'].groupby('school_name')['math_score'].mean()\n",
    "math_10th = school_data_complete.loc[school_data_complete[\"grade\"] == '10th'].groupby('school_name')['math_score'].mean()\n",
    "math_11th = school_data_complete.loc[school_data_complete[\"grade\"] == '11th'].groupby('school_name')['math_score'].mean()\n",
    "math_12th = school_data_complete.loc[school_data_complete[\"grade\"] == '12th'].groupby('school_name')['math_score'].mean()"
   ]
  },
  {
   "cell_type": "markdown",
   "metadata": {},
   "source": [
    "  \n",
    "  * Combine the series into a dataframe"
   ]
  },
  {
   "cell_type": "code",
   "execution_count": 325,
   "metadata": {},
   "outputs": [],
   "source": [
    "avg_math_df = pd.DataFrame({\"9th\": math_9th,\n",
    "                            \"10th\": math_10th,\n",
    "                            \"11th\": math_11th,\n",
    "                            \"12th\": math_12th,\n",
    "    \n",
    "                            })"
   ]
  },
  {
   "cell_type": "markdown",
   "metadata": {},
   "source": [
    "  \n",
    "  * Optional: give the displayed data cleaner formatting"
   ]
  },
  {
   "cell_type": "code",
   "execution_count": 326,
   "metadata": {},
   "outputs": [
    {
     "data": {
      "text/html": [
       "<div>\n",
       "<style scoped>\n",
       "    .dataframe tbody tr th:only-of-type {\n",
       "        vertical-align: middle;\n",
       "    }\n",
       "\n",
       "    .dataframe tbody tr th {\n",
       "        vertical-align: top;\n",
       "    }\n",
       "\n",
       "    .dataframe thead th {\n",
       "        text-align: right;\n",
       "    }\n",
       "</style>\n",
       "<table border=\"1\" class=\"dataframe\">\n",
       "  <thead>\n",
       "    <tr style=\"text-align: right;\">\n",
       "      <th></th>\n",
       "      <th>9th</th>\n",
       "      <th>10th</th>\n",
       "      <th>11th</th>\n",
       "      <th>12th</th>\n",
       "    </tr>\n",
       "    <tr>\n",
       "      <th>school_name</th>\n",
       "      <th></th>\n",
       "      <th></th>\n",
       "      <th></th>\n",
       "      <th></th>\n",
       "    </tr>\n",
       "  </thead>\n",
       "  <tbody>\n",
       "    <tr>\n",
       "      <th>Bailey High School</th>\n",
       "      <td>77.083676</td>\n",
       "      <td>76.996772</td>\n",
       "      <td>77.515588</td>\n",
       "      <td>76.492218</td>\n",
       "    </tr>\n",
       "    <tr>\n",
       "      <th>Cabrera High School</th>\n",
       "      <td>83.094697</td>\n",
       "      <td>83.154506</td>\n",
       "      <td>82.765560</td>\n",
       "      <td>83.277487</td>\n",
       "    </tr>\n",
       "    <tr>\n",
       "      <th>Figueroa High School</th>\n",
       "      <td>76.403037</td>\n",
       "      <td>76.539974</td>\n",
       "      <td>76.884344</td>\n",
       "      <td>77.151369</td>\n",
       "    </tr>\n",
       "    <tr>\n",
       "      <th>Ford High School</th>\n",
       "      <td>77.361345</td>\n",
       "      <td>77.672316</td>\n",
       "      <td>76.918058</td>\n",
       "      <td>76.179963</td>\n",
       "    </tr>\n",
       "    <tr>\n",
       "      <th>Griffin High School</th>\n",
       "      <td>82.044010</td>\n",
       "      <td>84.229064</td>\n",
       "      <td>83.842105</td>\n",
       "      <td>83.356164</td>\n",
       "    </tr>\n",
       "    <tr>\n",
       "      <th>Hernandez High School</th>\n",
       "      <td>77.438495</td>\n",
       "      <td>77.337408</td>\n",
       "      <td>77.136029</td>\n",
       "      <td>77.186567</td>\n",
       "    </tr>\n",
       "    <tr>\n",
       "      <th>Holden High School</th>\n",
       "      <td>83.787402</td>\n",
       "      <td>83.429825</td>\n",
       "      <td>85.000000</td>\n",
       "      <td>82.855422</td>\n",
       "    </tr>\n",
       "    <tr>\n",
       "      <th>Huang High School</th>\n",
       "      <td>77.027251</td>\n",
       "      <td>75.908735</td>\n",
       "      <td>76.446602</td>\n",
       "      <td>77.225641</td>\n",
       "    </tr>\n",
       "    <tr>\n",
       "      <th>Johnson High School</th>\n",
       "      <td>77.187857</td>\n",
       "      <td>76.691117</td>\n",
       "      <td>77.491653</td>\n",
       "      <td>76.863248</td>\n",
       "    </tr>\n",
       "    <tr>\n",
       "      <th>Pena High School</th>\n",
       "      <td>83.625455</td>\n",
       "      <td>83.372000</td>\n",
       "      <td>84.328125</td>\n",
       "      <td>84.121547</td>\n",
       "    </tr>\n",
       "    <tr>\n",
       "      <th>Rodriguez High School</th>\n",
       "      <td>76.859966</td>\n",
       "      <td>76.612500</td>\n",
       "      <td>76.395626</td>\n",
       "      <td>77.690748</td>\n",
       "    </tr>\n",
       "    <tr>\n",
       "      <th>Shelton High School</th>\n",
       "      <td>83.420755</td>\n",
       "      <td>82.917411</td>\n",
       "      <td>83.383495</td>\n",
       "      <td>83.778976</td>\n",
       "    </tr>\n",
       "    <tr>\n",
       "      <th>Thomas High School</th>\n",
       "      <td>83.590022</td>\n",
       "      <td>83.087886</td>\n",
       "      <td>83.498795</td>\n",
       "      <td>83.497041</td>\n",
       "    </tr>\n",
       "    <tr>\n",
       "      <th>Wilson High School</th>\n",
       "      <td>83.085578</td>\n",
       "      <td>83.724422</td>\n",
       "      <td>83.195326</td>\n",
       "      <td>83.035794</td>\n",
       "    </tr>\n",
       "    <tr>\n",
       "      <th>Wright High School</th>\n",
       "      <td>83.264706</td>\n",
       "      <td>84.010288</td>\n",
       "      <td>83.836782</td>\n",
       "      <td>83.644986</td>\n",
       "    </tr>\n",
       "  </tbody>\n",
       "</table>\n",
       "</div>"
      ],
      "text/plain": [
       "                             9th       10th       11th       12th\n",
       "school_name                                                      \n",
       "Bailey High School     77.083676  76.996772  77.515588  76.492218\n",
       "Cabrera High School    83.094697  83.154506  82.765560  83.277487\n",
       "Figueroa High School   76.403037  76.539974  76.884344  77.151369\n",
       "Ford High School       77.361345  77.672316  76.918058  76.179963\n",
       "Griffin High School    82.044010  84.229064  83.842105  83.356164\n",
       "Hernandez High School  77.438495  77.337408  77.136029  77.186567\n",
       "Holden High School     83.787402  83.429825  85.000000  82.855422\n",
       "Huang High School      77.027251  75.908735  76.446602  77.225641\n",
       "Johnson High School    77.187857  76.691117  77.491653  76.863248\n",
       "Pena High School       83.625455  83.372000  84.328125  84.121547\n",
       "Rodriguez High School  76.859966  76.612500  76.395626  77.690748\n",
       "Shelton High School    83.420755  82.917411  83.383495  83.778976\n",
       "Thomas High School     83.590022  83.087886  83.498795  83.497041\n",
       "Wilson High School     83.085578  83.724422  83.195326  83.035794\n",
       "Wright High School     83.264706  84.010288  83.836782  83.644986"
      ]
     },
     "execution_count": 326,
     "metadata": {},
     "output_type": "execute_result"
    }
   ],
   "source": [
    "#confirm the order\n",
    "avg_math_df = avg_math_df[[\"9th\",\"10th\",\"11th\",\"12th\"]]\n",
    "\n",
    "avg_math_df"
   ]
  },
  {
   "cell_type": "markdown",
   "metadata": {},
   "source": [
    "## Reading Score by Grade "
   ]
  },
  {
   "cell_type": "markdown",
   "metadata": {},
   "source": [
    "* Perform the same operations as above for reading scores"
   ]
  },
  {
   "cell_type": "code",
   "execution_count": 327,
   "metadata": {},
   "outputs": [
    {
     "data": {
      "text/html": [
       "<div>\n",
       "<style scoped>\n",
       "    .dataframe tbody tr th:only-of-type {\n",
       "        vertical-align: middle;\n",
       "    }\n",
       "\n",
       "    .dataframe tbody tr th {\n",
       "        vertical-align: top;\n",
       "    }\n",
       "\n",
       "    .dataframe thead th {\n",
       "        text-align: right;\n",
       "    }\n",
       "</style>\n",
       "<table border=\"1\" class=\"dataframe\">\n",
       "  <thead>\n",
       "    <tr style=\"text-align: right;\">\n",
       "      <th></th>\n",
       "      <th>9th</th>\n",
       "      <th>10th</th>\n",
       "      <th>11th</th>\n",
       "      <th>12th</th>\n",
       "    </tr>\n",
       "    <tr>\n",
       "      <th>school_name</th>\n",
       "      <th></th>\n",
       "      <th></th>\n",
       "      <th></th>\n",
       "      <th></th>\n",
       "    </tr>\n",
       "  </thead>\n",
       "  <tbody>\n",
       "    <tr>\n",
       "      <th>Bailey High School</th>\n",
       "      <td>81.303155</td>\n",
       "      <td>80.907183</td>\n",
       "      <td>80.945643</td>\n",
       "      <td>80.912451</td>\n",
       "    </tr>\n",
       "    <tr>\n",
       "      <th>Cabrera High School</th>\n",
       "      <td>83.676136</td>\n",
       "      <td>84.253219</td>\n",
       "      <td>83.788382</td>\n",
       "      <td>84.287958</td>\n",
       "    </tr>\n",
       "    <tr>\n",
       "      <th>Figueroa High School</th>\n",
       "      <td>81.198598</td>\n",
       "      <td>81.408912</td>\n",
       "      <td>80.640339</td>\n",
       "      <td>81.384863</td>\n",
       "    </tr>\n",
       "    <tr>\n",
       "      <th>Ford High School</th>\n",
       "      <td>80.632653</td>\n",
       "      <td>81.262712</td>\n",
       "      <td>80.403642</td>\n",
       "      <td>80.662338</td>\n",
       "    </tr>\n",
       "    <tr>\n",
       "      <th>Griffin High School</th>\n",
       "      <td>83.369193</td>\n",
       "      <td>83.706897</td>\n",
       "      <td>84.288089</td>\n",
       "      <td>84.013699</td>\n",
       "    </tr>\n",
       "    <tr>\n",
       "      <th>Hernandez High School</th>\n",
       "      <td>80.866860</td>\n",
       "      <td>80.660147</td>\n",
       "      <td>81.396140</td>\n",
       "      <td>80.857143</td>\n",
       "    </tr>\n",
       "    <tr>\n",
       "      <th>Holden High School</th>\n",
       "      <td>83.677165</td>\n",
       "      <td>83.324561</td>\n",
       "      <td>83.815534</td>\n",
       "      <td>84.698795</td>\n",
       "    </tr>\n",
       "    <tr>\n",
       "      <th>Huang High School</th>\n",
       "      <td>81.290284</td>\n",
       "      <td>81.512386</td>\n",
       "      <td>81.417476</td>\n",
       "      <td>80.305983</td>\n",
       "    </tr>\n",
       "    <tr>\n",
       "      <th>Johnson High School</th>\n",
       "      <td>81.260714</td>\n",
       "      <td>80.773431</td>\n",
       "      <td>80.616027</td>\n",
       "      <td>81.227564</td>\n",
       "    </tr>\n",
       "    <tr>\n",
       "      <th>Pena High School</th>\n",
       "      <td>83.807273</td>\n",
       "      <td>83.612000</td>\n",
       "      <td>84.335938</td>\n",
       "      <td>84.591160</td>\n",
       "    </tr>\n",
       "    <tr>\n",
       "      <th>Rodriguez High School</th>\n",
       "      <td>80.993127</td>\n",
       "      <td>80.629808</td>\n",
       "      <td>80.864811</td>\n",
       "      <td>80.376426</td>\n",
       "    </tr>\n",
       "    <tr>\n",
       "      <th>Shelton High School</th>\n",
       "      <td>84.122642</td>\n",
       "      <td>83.441964</td>\n",
       "      <td>84.373786</td>\n",
       "      <td>82.781671</td>\n",
       "    </tr>\n",
       "    <tr>\n",
       "      <th>Thomas High School</th>\n",
       "      <td>83.728850</td>\n",
       "      <td>84.254157</td>\n",
       "      <td>83.585542</td>\n",
       "      <td>83.831361</td>\n",
       "    </tr>\n",
       "    <tr>\n",
       "      <th>Wilson High School</th>\n",
       "      <td>83.939778</td>\n",
       "      <td>84.021452</td>\n",
       "      <td>83.764608</td>\n",
       "      <td>84.317673</td>\n",
       "    </tr>\n",
       "    <tr>\n",
       "      <th>Wright High School</th>\n",
       "      <td>83.833333</td>\n",
       "      <td>83.812757</td>\n",
       "      <td>84.156322</td>\n",
       "      <td>84.073171</td>\n",
       "    </tr>\n",
       "  </tbody>\n",
       "</table>\n",
       "</div>"
      ],
      "text/plain": [
       "                             9th       10th       11th       12th\n",
       "school_name                                                      \n",
       "Bailey High School     81.303155  80.907183  80.945643  80.912451\n",
       "Cabrera High School    83.676136  84.253219  83.788382  84.287958\n",
       "Figueroa High School   81.198598  81.408912  80.640339  81.384863\n",
       "Ford High School       80.632653  81.262712  80.403642  80.662338\n",
       "Griffin High School    83.369193  83.706897  84.288089  84.013699\n",
       "Hernandez High School  80.866860  80.660147  81.396140  80.857143\n",
       "Holden High School     83.677165  83.324561  83.815534  84.698795\n",
       "Huang High School      81.290284  81.512386  81.417476  80.305983\n",
       "Johnson High School    81.260714  80.773431  80.616027  81.227564\n",
       "Pena High School       83.807273  83.612000  84.335938  84.591160\n",
       "Rodriguez High School  80.993127  80.629808  80.864811  80.376426\n",
       "Shelton High School    84.122642  83.441964  84.373786  82.781671\n",
       "Thomas High School     83.728850  84.254157  83.585542  83.831361\n",
       "Wilson High School     83.939778  84.021452  83.764608  84.317673\n",
       "Wright High School     83.833333  83.812757  84.156322  84.073171"
      ]
     },
     "execution_count": 327,
     "metadata": {},
     "output_type": "execute_result"
    }
   ],
   "source": [
    "math_9th = school_data_complete.loc[school_data_complete[\"grade\"] == '9th'].groupby('school_name')['reading_score'].mean()\n",
    "math_10th = school_data_complete.loc[school_data_complete[\"grade\"] == '10th'].groupby('school_name')['reading_score'].mean()\n",
    "math_11th = school_data_complete.loc[school_data_complete[\"grade\"] == '11th'].groupby('school_name')['reading_score'].mean()\n",
    "math_12th = school_data_complete.loc[school_data_complete[\"grade\"] == '12th'].groupby('school_name')['reading_score'].mean()\n",
    "\n",
    "avg_reading_df = pd.DataFrame({\"9th\": math_9th,\n",
    "                            \"10th\": math_10th,\n",
    "                            \"11th\": math_11th,\n",
    "                            \"12th\": math_12th,\n",
    "    \n",
    "                            })\n",
    "#confirm the order\n",
    "avg_reading_df = avg_reading_df[[\"9th\",\"10th\",\"11th\",\"12th\"]]\n",
    "\n",
    "avg_reading_df"
   ]
  },
  {
   "cell_type": "markdown",
   "metadata": {},
   "source": [
    "## Scores by School Spending"
   ]
  },
  {
   "cell_type": "markdown",
   "metadata": {},
   "source": [
    "* Create a table that breaks down school performances based on average Spending Ranges (Per Student). Use 4 reasonable bins to group school spending. Include in the table each of the following:"
   ]
  },
  {
   "cell_type": "code",
   "execution_count": 381,
   "metadata": {},
   "outputs": [
    {
     "data": {
      "text/html": [
       "<div>\n",
       "<style scoped>\n",
       "    .dataframe tbody tr th:only-of-type {\n",
       "        vertical-align: middle;\n",
       "    }\n",
       "\n",
       "    .dataframe tbody tr th {\n",
       "        vertical-align: top;\n",
       "    }\n",
       "\n",
       "    .dataframe thead th {\n",
       "        text-align: right;\n",
       "    }\n",
       "</style>\n",
       "<table border=\"1\" class=\"dataframe\">\n",
       "  <thead>\n",
       "    <tr style=\"text-align: right;\">\n",
       "      <th></th>\n",
       "      <th>Average Math Score</th>\n",
       "      <th>Average Reading Score</th>\n",
       "      <th>% Passing Math</th>\n",
       "      <th>% Passing Reading</th>\n",
       "      <th>% Overall Passing Rate</th>\n",
       "    </tr>\n",
       "    <tr>\n",
       "      <th>Spending Ranges (Per Student)</th>\n",
       "      <th></th>\n",
       "      <th></th>\n",
       "      <th></th>\n",
       "      <th></th>\n",
       "      <th></th>\n",
       "    </tr>\n",
       "  </thead>\n",
       "  <tbody>\n",
       "    <tr>\n",
       "      <th>&lt; $585</th>\n",
       "      <td>83.47</td>\n",
       "      <td>83.95</td>\n",
       "      <td>93.46</td>\n",
       "      <td>96.61</td>\n",
       "      <td>95.03</td>\n",
       "    </tr>\n",
       "    <tr>\n",
       "      <th>$585-615</th>\n",
       "      <td>83.60</td>\n",
       "      <td>83.85</td>\n",
       "      <td>94.23</td>\n",
       "      <td>95.90</td>\n",
       "      <td>95.06</td>\n",
       "    </tr>\n",
       "    <tr>\n",
       "      <th>$615-645</th>\n",
       "      <td>79.07</td>\n",
       "      <td>81.87</td>\n",
       "      <td>75.67</td>\n",
       "      <td>86.11</td>\n",
       "      <td>80.89</td>\n",
       "    </tr>\n",
       "    <tr>\n",
       "      <th>&gt; $646</th>\n",
       "      <td>77.00</td>\n",
       "      <td>81.03</td>\n",
       "      <td>66.16</td>\n",
       "      <td>81.13</td>\n",
       "      <td>73.65</td>\n",
       "    </tr>\n",
       "  </tbody>\n",
       "</table>\n",
       "</div>"
      ],
      "text/plain": [
       "                              Average Math Score Average Reading Score  \\\n",
       "Spending Ranges (Per Student)                                            \n",
       "< $585                                     83.47                 83.95   \n",
       "$585-615                                   83.60                 83.85   \n",
       "$615-645                                   79.07                 81.87   \n",
       "> $646                                     77.00                 81.03   \n",
       "\n",
       "                              % Passing Math % Passing Reading  \\\n",
       "Spending Ranges (Per Student)                                    \n",
       "< $585                                 93.46             96.61   \n",
       "$585-615                               94.23             95.90   \n",
       "$615-645                               75.67             86.11   \n",
       "> $646                                 66.16             81.13   \n",
       "\n",
       "                              % Overall Passing Rate  \n",
       "Spending Ranges (Per Student)                         \n",
       "< $585                                         95.03  \n",
       "$585-615                                       95.06  \n",
       "$615-645                                       80.89  \n",
       "> $646                                         73.65  "
      ]
     },
     "execution_count": 381,
     "metadata": {},
     "output_type": "execute_result"
    }
   ],
   "source": [
    "school_summary[\"Average Math Score\"] = pd.to_numeric(school_summary[\"Average Math Score\"])\n",
    "school_summary[\"Average Reading Score\"] = pd.to_numeric(school_summary[\"Average Reading Score\"])\n",
    "\n",
    "school_summary[\"Per Student Budget\"] = pd.to_numeric(school_summary[\"Per Student Budget\"])\n",
    "\n",
    "school_summary[\"% Passing Math\"] = school_summary[\"% Passing Math\"].replace('%', '', regex=True).astype('float')\n",
    "school_summary[\"% Passing Math\"] = pd.to_numeric(school_summary[\"% Passing Math\"])\n",
    "\n",
    "school_summary[\"% Passing Reading\"] = school_summary[\"% Passing Reading\"].replace('%', '', regex=True).astype('float')\n",
    "school_summary[\"% Passing Reading\"] = pd.to_numeric(school_summary[\"% Passing Reading\"])\n",
    "\n",
    "# create the bins in which Data will be held\n",
    "bins = [0, 584.999, 614.999, 644.999, 999999]\n",
    "# create group of categories\n",
    "group_name = ['< $585', \"$585-615\", \"$615-645\", \"> $646\"]\n",
    "\n",
    "# putting data into categories\n",
    "school_summary['Spending Ranges (Per Student)'] = pd.cut(school_summary['Per Student Budget'], bins = bins, labels = group_name)\n",
    "\n",
    "# group the data set by spending ranges\n",
    "by_spending_range = school_summary.groupby(['Spending Ranges (Per Student)'])\n",
    "\n",
    "# calculate score and passing rate by Spending Ranges (Per Student)\n",
    "mean_math_score = by_spending_range[\"Average Math Score\"].mean()\n",
    "mean_reading_score = by_spending_range[\"Average Reading Score\"].mean()\n",
    "mean_percent_math = by_spending_range[\"% Passing Math\"].mean()\n",
    "mean_percent_reading = by_spending_range[\"% Passing Reading\"].mean()\n",
    "overall_percent_pass = (mean_percent_math + mean_percent_reading)/2\n",
    "\n",
    "#create a df to store Scores by School Spending\n",
    "scores_by_school_spending = pd.DataFrame({\"Average Math Score\":mean_math_score,\n",
    "                                          \"Average Reading Score\":mean_reading_score,\n",
    "                                          \"% Passing Math\":mean_percent_math,\n",
    "                                          \"% Passing Reading\":mean_percent_reading,\n",
    "                                          \"% Overall Passing Rate\":overall_percent_pass\n",
    "                                         })\n",
    "\n",
    "# reformating\n",
    "scores_by_school_spending['Average Math Score'] = scores_by_school_spending['Average Math Score'].map(\"{:,.2f}\".format)\n",
    "scores_by_school_spending['Average Reading Score'] = scores_by_school_spending['Average Reading Score'].map(\"{:,.2f}\".format)\n",
    "scores_by_school_spending['% Passing Math'] = scores_by_school_spending['% Passing Math'].map(\"{:.2f}\".format)\n",
    "scores_by_school_spending['% Passing Reading'] = scores_by_school_spending['% Passing Reading'].map(\"{:.2f}\".format)\n",
    "scores_by_school_spending['% Overall Passing Rate'] = scores_by_school_spending['% Overall Passing Rate'].map(\"{:.2f}\".format)\n",
    "\n",
    "#rearrage columns\n",
    "scores_by_school_spending = scores_by_school_spending [[\"Average Math Score\",\n",
    "                            \"Average Reading Score\",\n",
    "                            \"% Passing Math\",\n",
    "                            \"% Passing Reading\",\n",
    "                            \"% Overall Passing Rate\"]]\n",
    "\n",
    "# print out the table\n",
    "scores_by_school_spending         "
   ]
  },
  {
   "cell_type": "markdown",
   "metadata": {},
   "source": [
    "## Scores by School Size"
   ]
  },
  {
   "cell_type": "markdown",
   "metadata": {},
   "source": [
    "* Perform the same operations as above, based on school size."
   ]
  },
  {
   "cell_type": "code",
   "execution_count": 379,
   "metadata": {
    "scrolled": true
   },
   "outputs": [
    {
     "data": {
      "text/html": [
       "<div>\n",
       "<style scoped>\n",
       "    .dataframe tbody tr th:only-of-type {\n",
       "        vertical-align: middle;\n",
       "    }\n",
       "\n",
       "    .dataframe tbody tr th {\n",
       "        vertical-align: top;\n",
       "    }\n",
       "\n",
       "    .dataframe thead th {\n",
       "        text-align: right;\n",
       "    }\n",
       "</style>\n",
       "<table border=\"1\" class=\"dataframe\">\n",
       "  <thead>\n",
       "    <tr style=\"text-align: right;\">\n",
       "      <th></th>\n",
       "      <th>Average Math Score</th>\n",
       "      <th>Average Reading Score</th>\n",
       "      <th>% Passing Math</th>\n",
       "      <th>% Passing Reading</th>\n",
       "      <th>% Overall Passing Rate</th>\n",
       "    </tr>\n",
       "    <tr>\n",
       "      <th>School Size</th>\n",
       "      <th></th>\n",
       "      <th></th>\n",
       "      <th></th>\n",
       "      <th></th>\n",
       "      <th></th>\n",
       "    </tr>\n",
       "  </thead>\n",
       "  <tbody>\n",
       "    <tr>\n",
       "      <th>Small (&lt;1000)</th>\n",
       "      <td>83.80</td>\n",
       "      <td>83.90</td>\n",
       "      <td>93.55</td>\n",
       "      <td>96.10</td>\n",
       "      <td>94.83</td>\n",
       "    </tr>\n",
       "    <tr>\n",
       "      <th>Medium (1000-2000)</th>\n",
       "      <td>83.40</td>\n",
       "      <td>83.86</td>\n",
       "      <td>93.60</td>\n",
       "      <td>96.79</td>\n",
       "      <td>95.19</td>\n",
       "    </tr>\n",
       "    <tr>\n",
       "      <th>Large (&gt;2000)</th>\n",
       "      <td>77.74</td>\n",
       "      <td>81.34</td>\n",
       "      <td>69.96</td>\n",
       "      <td>82.77</td>\n",
       "      <td>76.37</td>\n",
       "    </tr>\n",
       "  </tbody>\n",
       "</table>\n",
       "</div>"
      ],
      "text/plain": [
       "                   Average Math Score Average Reading Score % Passing Math  \\\n",
       "School Size                                                                  \n",
       "Small (<1000)                   83.80                 83.90          93.55   \n",
       "Medium (1000-2000)              83.40                 83.86          93.60   \n",
       "Large (>2000)                   77.74                 81.34          69.96   \n",
       "\n",
       "                   % Passing Reading % Overall Passing Rate  \n",
       "School Size                                                  \n",
       "Small (<1000)                  96.10                  94.83  \n",
       "Medium (1000-2000)             96.79                  95.19  \n",
       "Large (>2000)                  82.77                  76.37  "
      ]
     },
     "execution_count": 379,
     "metadata": {},
     "output_type": "execute_result"
    }
   ],
   "source": [
    "# create the bins in which Data will be held\n",
    "bins1 = [0, 999.999, 1999.999, 999999]\n",
    "# create group of categories\n",
    "group_name1 = ['Small (<1000)', \"Medium (1000-2000)\", \"Large (>2000)\"]\n",
    "\n",
    "# putting data into categories\n",
    "school_summary[\"Total Students\"] = school_summary[\"Total Students\"].replace(',', '', regex=True).astype('float')\n",
    "school_summary['Total Students'] = pd.to_numeric(school_summary['Total Students'])\n",
    "school_summary['School Size'] = pd.cut(school_summary['Total Students'], bins = bins1, labels = group_name1)\n",
    "\n",
    "# group the data set by school size\n",
    "by_size = school_summary.groupby(['School Size'])\n",
    "\n",
    "# calculate score and passing rate by school size\n",
    "mean_math_score = by_size[\"Average Math Score\"].mean()\n",
    "mean_reading_score = by_size[\"Average Reading Score\"].mean()\n",
    "mean_percent_math = by_size[\"% Passing Math\"].mean()\n",
    "mean_percent_reading = by_size[\"% Passing Reading\"].mean()\n",
    "overall_percent_pass = (mean_percent_math + mean_percent_reading)/2\n",
    "\n",
    "\n",
    "\n",
    "#create a df to store Scores by School Size\n",
    "by_size_df = pd.DataFrame({\"Average Math Score\":mean_math_score,\n",
    "                                          \"Average Reading Score\":mean_reading_score,\n",
    "                                          \"% Passing Math\":mean_percent_math,\n",
    "                                          \"% Passing Reading\":mean_percent_reading,\n",
    "                                          \"% Overall Passing Rate\":overall_percent_pass\n",
    "                                         })\n",
    "\n",
    "# reformating\n",
    "by_size_df['Average Math Score'] = by_size_df['Average Math Score'].map(\"{:,.2f}\".format)\n",
    "by_size_df['Average Reading Score'] = by_size_df['Average Reading Score'].map(\"{:,.2f}\".format)\n",
    "by_size_df['% Passing Math'] = by_size_df['% Passing Math'].map(\"{:.2f}\".format)\n",
    "by_size_df['% Passing Reading'] = by_size_df['% Passing Reading'].map(\"{:.2f}\".format)\n",
    "by_size_df['% Overall Passing Rate'] = by_size_df['% Overall Passing Rate'].map(\"{:.2f}\".format)\n",
    "\n",
    "#rearrage columns\n",
    "by_size_df = by_size_df [[\"Average Math Score\",\n",
    "                            \"Average Reading Score\",\n",
    "                            \"% Passing Math\",\n",
    "                            \"% Passing Reading\",\n",
    "                            \"% Overall Passing Rate\"]]\n",
    "\n",
    "# print out the table\n",
    "by_size_df"
   ]
  },
  {
   "cell_type": "markdown",
   "metadata": {},
   "source": [
    "## Scores by School Type"
   ]
  },
  {
   "cell_type": "markdown",
   "metadata": {},
   "source": [
    "* Perform the same operations as above, based on school type"
   ]
  },
  {
   "cell_type": "code",
   "execution_count": 373,
   "metadata": {},
   "outputs": [
    {
     "data": {
      "text/html": [
       "<div>\n",
       "<style scoped>\n",
       "    .dataframe tbody tr th:only-of-type {\n",
       "        vertical-align: middle;\n",
       "    }\n",
       "\n",
       "    .dataframe tbody tr th {\n",
       "        vertical-align: top;\n",
       "    }\n",
       "\n",
       "    .dataframe thead th {\n",
       "        text-align: right;\n",
       "    }\n",
       "</style>\n",
       "<table border=\"1\" class=\"dataframe\">\n",
       "  <thead>\n",
       "    <tr style=\"text-align: right;\">\n",
       "      <th></th>\n",
       "      <th>Average Math Score</th>\n",
       "      <th>Average Reading Score</th>\n",
       "      <th>% Passing Math</th>\n",
       "      <th>% Passing Reading</th>\n",
       "      <th>% Overall Passing Rate</th>\n",
       "    </tr>\n",
       "    <tr>\n",
       "      <th>School Type</th>\n",
       "      <th></th>\n",
       "      <th></th>\n",
       "      <th></th>\n",
       "      <th></th>\n",
       "      <th></th>\n",
       "    </tr>\n",
       "  </thead>\n",
       "  <tbody>\n",
       "    <tr>\n",
       "      <th>Charter</th>\n",
       "      <td>83.487500</td>\n",
       "      <td>83.887500</td>\n",
       "      <td>93.620000</td>\n",
       "      <td>96.586250</td>\n",
       "      <td>95.103125</td>\n",
       "    </tr>\n",
       "    <tr>\n",
       "      <th>District</th>\n",
       "      <td>76.942857</td>\n",
       "      <td>80.957143</td>\n",
       "      <td>66.548571</td>\n",
       "      <td>80.798571</td>\n",
       "      <td>73.673571</td>\n",
       "    </tr>\n",
       "  </tbody>\n",
       "</table>\n",
       "</div>"
      ],
      "text/plain": [
       "             Average Math Score  Average Reading Score  % Passing Math  \\\n",
       "School Type                                                              \n",
       "Charter               83.487500              83.887500       93.620000   \n",
       "District              76.942857              80.957143       66.548571   \n",
       "\n",
       "             % Passing Reading  % Overall Passing Rate  \n",
       "School Type                                             \n",
       "Charter              96.586250               95.103125  \n",
       "District             80.798571               73.673571  "
      ]
     },
     "execution_count": 373,
     "metadata": {},
     "output_type": "execute_result"
    }
   ],
   "source": [
    "# group the data set by school type\n",
    "by_school_type = school_summary.groupby(['School Type'])\n",
    "\n",
    "# calculate score and passing rate by school type\n",
    "mean_math_score = by_school_type[\"Average Math Score\"].mean()\n",
    "mean_reading_score = by_school_type[\"Average Reading Score\"].mean()\n",
    "mean_percent_math = by_school_type[\"% Passing Math\"].mean()\n",
    "mean_percent_reading = by_school_type[\"% Passing Reading\"].mean()\n",
    "overall_percent_pass = (mean_percent_math + mean_percent_reading)/2\n",
    "\n",
    "\n",
    "\n",
    "#create a df to store Scores by School Type\n",
    "by_shool_type_df = pd.DataFrame({\"Average Math Score\":mean_math_score,\n",
    "                                          \"Average Reading Score\":mean_reading_score,\n",
    "                                          \"% Passing Math\":mean_percent_math,\n",
    "                                          \"% Passing Reading\":mean_percent_reading,\n",
    "                                          \"% Overall Passing Rate\":overall_percent_pass\n",
    "                                         })\n",
    "\n",
    "# reformating\n",
    "#by_shool_type_df['Average Math Score'] = by_shool_type_df['Average Math Score'].map(\"{:,.2f}\".format)\n",
    "#by_shool_type_df['Average Reading Score'] = by_shool_type_df['Average Reading Score'].map(\"{:,.2f}\".format)\n",
    "#by_shool_type_df['% Passing Math'] = by_shool_type_df['% Passing Math'].map(\"{:.2f}\".format)\n",
    "#by_shool_type_df['% Passing Reading'] = by_shool_type_df['% Passing Reading'].map(\"{:.2f}\".format)\n",
    "#by_shool_type_df['% Overall Passing Rate'] = by_shool_type_df['% Overall Passing Rate'].map(\"{:.2f}\".format)\n",
    "\n",
    "#rearrage columns\n",
    "by_shool_type_df = by_shool_type_df [[\"Average Math Score\",\n",
    "                            \"Average Reading Score\",\n",
    "                            \"% Passing Math\",\n",
    "                            \"% Passing Reading\",\n",
    "                            \"% Overall Passing Rate\"]]\n",
    "\n",
    "# print out the table\n",
    "by_shool_type_df"
   ]
  },
  {
   "cell_type": "code",
   "execution_count": null,
   "metadata": {},
   "outputs": [],
   "source": []
  }
 ],
 "metadata": {
  "anaconda-cloud": {},
  "kernel_info": {
   "name": "python3"
  },
  "kernelspec": {
   "display_name": "Python 3",
   "language": "python",
   "name": "python3"
  },
  "language_info": {
   "codemirror_mode": {
    "name": "ipython",
    "version": 3
   },
   "file_extension": ".py",
   "mimetype": "text/x-python",
   "name": "python",
   "nbconvert_exporter": "python",
   "pygments_lexer": "ipython3",
   "version": "3.7.6"
  },
  "latex_envs": {
   "LaTeX_envs_menu_present": true,
   "autoclose": false,
   "autocomplete": true,
   "bibliofile": "biblio.bib",
   "cite_by": "apalike",
   "current_citInitial": 1,
   "eqLabelWithNumbers": true,
   "eqNumInitial": 1,
   "hotkeys": {
    "equation": "Ctrl-E",
    "itemize": "Ctrl-I"
   },
   "labels_anchors": false,
   "latex_user_defs": false,
   "report_style_numbering": false,
   "user_envs_cfg": false
  },
  "nteract": {
   "version": "0.8.4"
  }
 },
 "nbformat": 4,
 "nbformat_minor": 4
}
