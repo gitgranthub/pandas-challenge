{
 "cells": [
  {
   "cell_type": "markdown",
   "metadata": {},
   "source": [
    "### Note\n",
    "* Instructions have been included for each segment. You do not have to follow them exactly, but they are included to help you think through the steps."
   ]
  },
  {
   "cell_type": "code",
   "execution_count": 68,
   "metadata": {},
   "outputs": [],
   "source": [
    "# Dependencies and Setup\n",
    "import pandas as pd\n",
    "\n",
    "# File to Load (Remember to Change These)\n",
    "school_data_to_load = \"Resources/schools_complete.csv\"\n",
    "student_data_to_load = \"Resources/students_complete.csv\"\n",
    "\n",
    "# Read School and Student Data File and store into Pandas DataFrames\n",
    "school_data = pd.read_csv(school_data_to_load)\n",
    "student_data = pd.read_csv(student_data_to_load)\n"
   ]
  },
  {
   "cell_type": "code",
   "execution_count": 69,
   "metadata": {},
   "outputs": [],
   "source": [
    "#change Student ID and School ID column names to school_id and student_id. Better name conventions.\n",
    "school_data=school_data.rename(columns = {'School ID':'school_id'})\n",
    "school_data=school_data.rename(columns = {'type':'school_type'})\n",
    "student_data=student_data.rename(columns = {'Student ID':'student_id'})"
   ]
  },
  {
   "cell_type": "code",
   "execution_count": 71,
   "metadata": {},
   "outputs": [
    {
     "data": {
      "text/html": [
       "<style  type=\"text/css\" >\n",
       "    #T_23e1f5d8_c002_11ea_8438_3c15c2cd11ec caption {\n",
       "          color: navy;\n",
       "          font-size: 30px;\n",
       "    }</style><table id=\"T_23e1f5d8_c002_11ea_8438_3c15c2cd11ec\" ><caption>School and Student Data Combined</caption><thead>    <tr>        <th class=\"blank level0\" ></th>        <th class=\"col_heading level0 col0\" >student_id</th>        <th class=\"col_heading level0 col1\" >student_name</th>        <th class=\"col_heading level0 col2\" >gender</th>        <th class=\"col_heading level0 col3\" >grade</th>        <th class=\"col_heading level0 col4\" >school_name</th>        <th class=\"col_heading level0 col5\" >reading_score</th>        <th class=\"col_heading level0 col6\" >math_score</th>        <th class=\"col_heading level0 col7\" >school_id</th>        <th class=\"col_heading level0 col8\" >school_type</th>        <th class=\"col_heading level0 col9\" >size</th>        <th class=\"col_heading level0 col10\" >budget</th>    </tr></thead><tbody>\n",
       "                <tr>\n",
       "                        <th id=\"T_23e1f5d8_c002_11ea_8438_3c15c2cd11eclevel0_row0\" class=\"row_heading level0 row0\" >0</th>\n",
       "                        <td id=\"T_23e1f5d8_c002_11ea_8438_3c15c2cd11ecrow0_col0\" class=\"data row0 col0\" >0</td>\n",
       "                        <td id=\"T_23e1f5d8_c002_11ea_8438_3c15c2cd11ecrow0_col1\" class=\"data row0 col1\" >Paul Bradley</td>\n",
       "                        <td id=\"T_23e1f5d8_c002_11ea_8438_3c15c2cd11ecrow0_col2\" class=\"data row0 col2\" >M</td>\n",
       "                        <td id=\"T_23e1f5d8_c002_11ea_8438_3c15c2cd11ecrow0_col3\" class=\"data row0 col3\" >9th</td>\n",
       "                        <td id=\"T_23e1f5d8_c002_11ea_8438_3c15c2cd11ecrow0_col4\" class=\"data row0 col4\" >Huang High School</td>\n",
       "                        <td id=\"T_23e1f5d8_c002_11ea_8438_3c15c2cd11ecrow0_col5\" class=\"data row0 col5\" >66</td>\n",
       "                        <td id=\"T_23e1f5d8_c002_11ea_8438_3c15c2cd11ecrow0_col6\" class=\"data row0 col6\" >79</td>\n",
       "                        <td id=\"T_23e1f5d8_c002_11ea_8438_3c15c2cd11ecrow0_col7\" class=\"data row0 col7\" >0</td>\n",
       "                        <td id=\"T_23e1f5d8_c002_11ea_8438_3c15c2cd11ecrow0_col8\" class=\"data row0 col8\" >District</td>\n",
       "                        <td id=\"T_23e1f5d8_c002_11ea_8438_3c15c2cd11ecrow0_col9\" class=\"data row0 col9\" >2917</td>\n",
       "                        <td id=\"T_23e1f5d8_c002_11ea_8438_3c15c2cd11ecrow0_col10\" class=\"data row0 col10\" >1910635</td>\n",
       "            </tr>\n",
       "            <tr>\n",
       "                        <th id=\"T_23e1f5d8_c002_11ea_8438_3c15c2cd11eclevel0_row1\" class=\"row_heading level0 row1\" >1</th>\n",
       "                        <td id=\"T_23e1f5d8_c002_11ea_8438_3c15c2cd11ecrow1_col0\" class=\"data row1 col0\" >1</td>\n",
       "                        <td id=\"T_23e1f5d8_c002_11ea_8438_3c15c2cd11ecrow1_col1\" class=\"data row1 col1\" >Victor Smith</td>\n",
       "                        <td id=\"T_23e1f5d8_c002_11ea_8438_3c15c2cd11ecrow1_col2\" class=\"data row1 col2\" >M</td>\n",
       "                        <td id=\"T_23e1f5d8_c002_11ea_8438_3c15c2cd11ecrow1_col3\" class=\"data row1 col3\" >12th</td>\n",
       "                        <td id=\"T_23e1f5d8_c002_11ea_8438_3c15c2cd11ecrow1_col4\" class=\"data row1 col4\" >Huang High School</td>\n",
       "                        <td id=\"T_23e1f5d8_c002_11ea_8438_3c15c2cd11ecrow1_col5\" class=\"data row1 col5\" >94</td>\n",
       "                        <td id=\"T_23e1f5d8_c002_11ea_8438_3c15c2cd11ecrow1_col6\" class=\"data row1 col6\" >61</td>\n",
       "                        <td id=\"T_23e1f5d8_c002_11ea_8438_3c15c2cd11ecrow1_col7\" class=\"data row1 col7\" >0</td>\n",
       "                        <td id=\"T_23e1f5d8_c002_11ea_8438_3c15c2cd11ecrow1_col8\" class=\"data row1 col8\" >District</td>\n",
       "                        <td id=\"T_23e1f5d8_c002_11ea_8438_3c15c2cd11ecrow1_col9\" class=\"data row1 col9\" >2917</td>\n",
       "                        <td id=\"T_23e1f5d8_c002_11ea_8438_3c15c2cd11ecrow1_col10\" class=\"data row1 col10\" >1910635</td>\n",
       "            </tr>\n",
       "            <tr>\n",
       "                        <th id=\"T_23e1f5d8_c002_11ea_8438_3c15c2cd11eclevel0_row2\" class=\"row_heading level0 row2\" >2</th>\n",
       "                        <td id=\"T_23e1f5d8_c002_11ea_8438_3c15c2cd11ecrow2_col0\" class=\"data row2 col0\" >2</td>\n",
       "                        <td id=\"T_23e1f5d8_c002_11ea_8438_3c15c2cd11ecrow2_col1\" class=\"data row2 col1\" >Kevin Rodriguez</td>\n",
       "                        <td id=\"T_23e1f5d8_c002_11ea_8438_3c15c2cd11ecrow2_col2\" class=\"data row2 col2\" >M</td>\n",
       "                        <td id=\"T_23e1f5d8_c002_11ea_8438_3c15c2cd11ecrow2_col3\" class=\"data row2 col3\" >12th</td>\n",
       "                        <td id=\"T_23e1f5d8_c002_11ea_8438_3c15c2cd11ecrow2_col4\" class=\"data row2 col4\" >Huang High School</td>\n",
       "                        <td id=\"T_23e1f5d8_c002_11ea_8438_3c15c2cd11ecrow2_col5\" class=\"data row2 col5\" >90</td>\n",
       "                        <td id=\"T_23e1f5d8_c002_11ea_8438_3c15c2cd11ecrow2_col6\" class=\"data row2 col6\" >60</td>\n",
       "                        <td id=\"T_23e1f5d8_c002_11ea_8438_3c15c2cd11ecrow2_col7\" class=\"data row2 col7\" >0</td>\n",
       "                        <td id=\"T_23e1f5d8_c002_11ea_8438_3c15c2cd11ecrow2_col8\" class=\"data row2 col8\" >District</td>\n",
       "                        <td id=\"T_23e1f5d8_c002_11ea_8438_3c15c2cd11ecrow2_col9\" class=\"data row2 col9\" >2917</td>\n",
       "                        <td id=\"T_23e1f5d8_c002_11ea_8438_3c15c2cd11ecrow2_col10\" class=\"data row2 col10\" >1910635</td>\n",
       "            </tr>\n",
       "            <tr>\n",
       "                        <th id=\"T_23e1f5d8_c002_11ea_8438_3c15c2cd11eclevel0_row3\" class=\"row_heading level0 row3\" >3</th>\n",
       "                        <td id=\"T_23e1f5d8_c002_11ea_8438_3c15c2cd11ecrow3_col0\" class=\"data row3 col0\" >3</td>\n",
       "                        <td id=\"T_23e1f5d8_c002_11ea_8438_3c15c2cd11ecrow3_col1\" class=\"data row3 col1\" >Dr. Richard Scott</td>\n",
       "                        <td id=\"T_23e1f5d8_c002_11ea_8438_3c15c2cd11ecrow3_col2\" class=\"data row3 col2\" >M</td>\n",
       "                        <td id=\"T_23e1f5d8_c002_11ea_8438_3c15c2cd11ecrow3_col3\" class=\"data row3 col3\" >12th</td>\n",
       "                        <td id=\"T_23e1f5d8_c002_11ea_8438_3c15c2cd11ecrow3_col4\" class=\"data row3 col4\" >Huang High School</td>\n",
       "                        <td id=\"T_23e1f5d8_c002_11ea_8438_3c15c2cd11ecrow3_col5\" class=\"data row3 col5\" >67</td>\n",
       "                        <td id=\"T_23e1f5d8_c002_11ea_8438_3c15c2cd11ecrow3_col6\" class=\"data row3 col6\" >58</td>\n",
       "                        <td id=\"T_23e1f5d8_c002_11ea_8438_3c15c2cd11ecrow3_col7\" class=\"data row3 col7\" >0</td>\n",
       "                        <td id=\"T_23e1f5d8_c002_11ea_8438_3c15c2cd11ecrow3_col8\" class=\"data row3 col8\" >District</td>\n",
       "                        <td id=\"T_23e1f5d8_c002_11ea_8438_3c15c2cd11ecrow3_col9\" class=\"data row3 col9\" >2917</td>\n",
       "                        <td id=\"T_23e1f5d8_c002_11ea_8438_3c15c2cd11ecrow3_col10\" class=\"data row3 col10\" >1910635</td>\n",
       "            </tr>\n",
       "            <tr>\n",
       "                        <th id=\"T_23e1f5d8_c002_11ea_8438_3c15c2cd11eclevel0_row4\" class=\"row_heading level0 row4\" >4</th>\n",
       "                        <td id=\"T_23e1f5d8_c002_11ea_8438_3c15c2cd11ecrow4_col0\" class=\"data row4 col0\" >4</td>\n",
       "                        <td id=\"T_23e1f5d8_c002_11ea_8438_3c15c2cd11ecrow4_col1\" class=\"data row4 col1\" >Bonnie Ray</td>\n",
       "                        <td id=\"T_23e1f5d8_c002_11ea_8438_3c15c2cd11ecrow4_col2\" class=\"data row4 col2\" >F</td>\n",
       "                        <td id=\"T_23e1f5d8_c002_11ea_8438_3c15c2cd11ecrow4_col3\" class=\"data row4 col3\" >9th</td>\n",
       "                        <td id=\"T_23e1f5d8_c002_11ea_8438_3c15c2cd11ecrow4_col4\" class=\"data row4 col4\" >Huang High School</td>\n",
       "                        <td id=\"T_23e1f5d8_c002_11ea_8438_3c15c2cd11ecrow4_col5\" class=\"data row4 col5\" >97</td>\n",
       "                        <td id=\"T_23e1f5d8_c002_11ea_8438_3c15c2cd11ecrow4_col6\" class=\"data row4 col6\" >84</td>\n",
       "                        <td id=\"T_23e1f5d8_c002_11ea_8438_3c15c2cd11ecrow4_col7\" class=\"data row4 col7\" >0</td>\n",
       "                        <td id=\"T_23e1f5d8_c002_11ea_8438_3c15c2cd11ecrow4_col8\" class=\"data row4 col8\" >District</td>\n",
       "                        <td id=\"T_23e1f5d8_c002_11ea_8438_3c15c2cd11ecrow4_col9\" class=\"data row4 col9\" >2917</td>\n",
       "                        <td id=\"T_23e1f5d8_c002_11ea_8438_3c15c2cd11ecrow4_col10\" class=\"data row4 col10\" >1910635</td>\n",
       "            </tr>\n",
       "    </tbody></table>"
      ],
      "text/plain": [
       "<pandas.io.formats.style.Styler at 0x7fa16d764d90>"
      ]
     },
     "execution_count": 71,
     "metadata": {},
     "output_type": "execute_result"
    }
   ],
   "source": [
    "# Combine the data into a single dataset.  \n",
    "school_data_complete = pd.merge(student_data, school_data, how=\"left\", on=[\"school_name\", \"school_name\"])\n",
    "\n",
    "school_data_complete.head(5).style.set_caption(\"School and Student Data Combined\").set_table_styles([{\n",
    "    'selector': 'caption',\n",
    "    'props': [\n",
    "        ('color', 'navy'),\n",
    "        ('font-size', '30px')\n",
    "    ]\n",
    "}])"
   ]
  },
  {
   "cell_type": "markdown",
   "metadata": {},
   "source": [
    "## District Summary\n",
    "\n",
    "* Calculate the total number of schools"
   ]
  },
  {
   "cell_type": "code",
   "execution_count": 54,
   "metadata": {},
   "outputs": [
    {
     "data": {
      "text/plain": [
       "15"
      ]
     },
     "execution_count": 54,
     "metadata": {},
     "output_type": "execute_result"
    }
   ],
   "source": [
    "total_schools = school_data['school_name'].nunique()\n",
    "total_schools"
   ]
  },
  {
   "cell_type": "markdown",
   "metadata": {},
   "source": [
    "* Calculate the total number of students"
   ]
  },
  {
   "cell_type": "code",
   "execution_count": 55,
   "metadata": {},
   "outputs": [
    {
     "data": {
      "text/plain": [
       "39170"
      ]
     },
     "execution_count": 55,
     "metadata": {},
     "output_type": "execute_result"
    }
   ],
   "source": [
    "total_student_id = student_data['student_id'].nunique()\n",
    "total_student_id"
   ]
  },
  {
   "cell_type": "markdown",
   "metadata": {},
   "source": [
    "* Calculate the total budget"
   ]
  },
  {
   "cell_type": "code",
   "execution_count": 56,
   "metadata": {},
   "outputs": [
    {
     "data": {
      "text/plain": [
       "24649428"
      ]
     },
     "execution_count": 56,
     "metadata": {},
     "output_type": "execute_result"
    }
   ],
   "source": [
    "total_budget = school_data['budget'].sum()\n",
    "total_budget"
   ]
  },
  {
   "cell_type": "markdown",
   "metadata": {},
   "source": [
    "* Calculate the average math score"
   ]
  },
  {
   "cell_type": "code",
   "execution_count": 57,
   "metadata": {},
   "outputs": [
    {
     "data": {
      "text/plain": [
       "78.985371"
      ]
     },
     "execution_count": 57,
     "metadata": {},
     "output_type": "execute_result"
    }
   ],
   "source": [
    "avg_math = round(student_data['math_score'].mean(), 6)\n",
    "avg_math"
   ]
  },
  {
   "cell_type": "markdown",
   "metadata": {},
   "source": [
    " * Calculate the average reading score"
   ]
  },
  {
   "cell_type": "code",
   "execution_count": 58,
   "metadata": {},
   "outputs": [
    {
     "data": {
      "text/plain": [
       "81.87784"
      ]
     },
     "execution_count": 58,
     "metadata": {},
     "output_type": "execute_result"
    }
   ],
   "source": [
    "avg_reading = round(student_data['reading_score'].mean(), 6)\n",
    "avg_reading"
   ]
  },
  {
   "cell_type": "markdown",
   "metadata": {},
   "source": [
    "* Calculate the percentage of students with a passing math score (70 or greater)"
   ]
  },
  {
   "cell_type": "code",
   "execution_count": 59,
   "metadata": {},
   "outputs": [],
   "source": [
    "studs_passing_math = school_data_complete.loc[school_data_complete[\"math_score\"]>=70][\"math_score\"].count()/total_student_id"
   ]
  },
  {
   "cell_type": "markdown",
   "metadata": {},
   "source": [
    "* Calculate the percentage of students with a passing reading score (70 or greater)"
   ]
  },
  {
   "cell_type": "code",
   "execution_count": 60,
   "metadata": {},
   "outputs": [],
   "source": [
    "studs_passing_reading = school_data_complete.loc[school_data_complete[\"reading_score\"]>=70][\"reading_score\"].count()/total_student_id"
   ]
  },
  {
   "cell_type": "markdown",
   "metadata": {},
   "source": [
    "* Calculate the percentage of students who passed math **and** reading (% Overall Passing)"
   ]
  },
  {
   "cell_type": "code",
   "execution_count": 61,
   "metadata": {},
   "outputs": [],
   "source": [
    "overall_passing = (studs_passing_reading + studs_passing_math)/2"
   ]
  },
  {
   "cell_type": "markdown",
   "metadata": {},
   "source": [
    "* Create a dataframe to hold the above results"
   ]
  },
  {
   "cell_type": "code",
   "execution_count": 62,
   "metadata": {},
   "outputs": [
    {
     "data": {
      "text/html": [
       "<style  type=\"text/css\" >\n",
       "    #T_c77f6d7a_c001_11ea_8438_3c15c2cd11ec caption {\n",
       "          color: navy;\n",
       "          font-size: 30px;\n",
       "    }</style><table id=\"T_c77f6d7a_c001_11ea_8438_3c15c2cd11ec\" ><caption>District Summary</caption><thead>    <tr>        <th class=\"blank level0\" ></th>        <th class=\"col_heading level0 col0\" >Total Schools</th>        <th class=\"col_heading level0 col1\" >Total Students</th>        <th class=\"col_heading level0 col2\" >Total Budget</th>        <th class=\"col_heading level0 col3\" >Average Math Score</th>        <th class=\"col_heading level0 col4\" >Average Reading Score</th>        <th class=\"col_heading level0 col5\" >% Passing Math</th>        <th class=\"col_heading level0 col6\" >% Passing Reading</th>        <th class=\"col_heading level0 col7\" >Overall Passing Rate</th>    </tr></thead><tbody>\n",
       "                <tr>\n",
       "                        <th id=\"T_c77f6d7a_c001_11ea_8438_3c15c2cd11eclevel0_row0\" class=\"row_heading level0 row0\" >0</th>\n",
       "                        <td id=\"T_c77f6d7a_c001_11ea_8438_3c15c2cd11ecrow0_col0\" class=\"data row0 col0\" >15</td>\n",
       "                        <td id=\"T_c77f6d7a_c001_11ea_8438_3c15c2cd11ecrow0_col1\" class=\"data row0 col1\" >39,170</td>\n",
       "                        <td id=\"T_c77f6d7a_c001_11ea_8438_3c15c2cd11ecrow0_col2\" class=\"data row0 col2\" >$24,649,428.00</td>\n",
       "                        <td id=\"T_c77f6d7a_c001_11ea_8438_3c15c2cd11ecrow0_col3\" class=\"data row0 col3\" >78.99</td>\n",
       "                        <td id=\"T_c77f6d7a_c001_11ea_8438_3c15c2cd11ecrow0_col4\" class=\"data row0 col4\" >81.88</td>\n",
       "                        <td id=\"T_c77f6d7a_c001_11ea_8438_3c15c2cd11ecrow0_col5\" class=\"data row0 col5\" >75.0%</td>\n",
       "                        <td id=\"T_c77f6d7a_c001_11ea_8438_3c15c2cd11ecrow0_col6\" class=\"data row0 col6\" >85.8%</td>\n",
       "                        <td id=\"T_c77f6d7a_c001_11ea_8438_3c15c2cd11ecrow0_col7\" class=\"data row0 col7\" >80.4%</td>\n",
       "            </tr>\n",
       "    </tbody></table>"
      ],
      "text/plain": [
       "<pandas.io.formats.style.Styler at 0x7fa188b73890>"
      ]
     },
     "execution_count": 62,
     "metadata": {},
     "output_type": "execute_result"
    }
   ],
   "source": [
    "district_summary = pd.DataFrame({\"Total Schools\":[total_schools],\n",
    "                                 \"Total Students\":[total_student_id],\n",
    "                                 \"Total Budget\":[total_budget],\n",
    "                                 \"Average Math Score\":[avg_math],\n",
    "                                 \"Average Reading Score\":[avg_reading],\n",
    "                                 \"% Passing Math\":[studs_passing_math],\n",
    "                                 \"% Passing Reading\":[studs_passing_reading],\n",
    "                                 \"Overall Passing Rate\":[overall_passing]                            \n",
    "                                })\n",
    "\n",
    "#cleaner formating\n",
    "district_summary['Total Budget'] = district_summary['Total Budget'].map(\"${:,.2f}\".format)\n",
    "district_summary['Average Math Score'] = district_summary['Average Math Score'].map(\"{:,.2f}\".format)\n",
    "district_summary['Average Reading Score'] = district_summary['Average Reading Score'].map(\"{:,.2f}\".format)\n",
    "district_summary['Total Students'] = district_summary['Total Students'].map(\"{:,}\".format)\n",
    "district_summary['Overall Passing Rate'] = district_summary['Overall Passing Rate'].map(\"{:.1%}\".format)\n",
    "district_summary['% Passing Math'] = district_summary['% Passing Math'].map(\"{:.1%}\".format)\n",
    "district_summary['% Passing Reading'] = district_summary['% Passing Reading'].map(\"{:.1%}\".format)\n",
    "\n",
    "\n",
    "#formating\n",
    "district_summary.style.set_caption(\"District Summary\").set_table_styles([{\n",
    "    'selector': 'caption',\n",
    "    'props': [\n",
    "        ('color', 'navy'),\n",
    "        ('font-size', '30px')\n",
    "    ]\n",
    "}])"
   ]
  },
  {
   "cell_type": "markdown",
   "metadata": {},
   "source": [
    "## School Summary"
   ]
  },
  {
   "cell_type": "markdown",
   "metadata": {},
   "source": [
    "* Create an overview table that summarizes key metrics about each school, including:"
   ]
  },
  {
   "cell_type": "markdown",
   "metadata": {},
   "source": [
    "* School Name"
   ]
  },
  {
   "cell_type": "code",
   "execution_count": 14,
   "metadata": {},
   "outputs": [],
   "source": [
    "school_by = school_data_complete.set_index('school_name').groupby(['school_name'])"
   ]
  },
  {
   "cell_type": "markdown",
   "metadata": {},
   "source": [
    "  * School Type"
   ]
  },
  {
   "cell_type": "code",
   "execution_count": 15,
   "metadata": {},
   "outputs": [],
   "source": [
    "school_district = school_data.set_index('school_name')['school_type']"
   ]
  },
  {
   "cell_type": "markdown",
   "metadata": {},
   "source": [
    "  * Total Students"
   ]
  },
  {
   "cell_type": "code",
   "execution_count": 16,
   "metadata": {},
   "outputs": [],
   "source": [
    "students_per_school = school_by[\"student_id\"].count()"
   ]
  },
  {
   "cell_type": "markdown",
   "metadata": {},
   "source": [
    "  * Total School Budget"
   ]
  },
  {
   "cell_type": "code",
   "execution_count": 17,
   "metadata": {},
   "outputs": [],
   "source": [
    "budget_per_school = school_data.set_index('school_name')['budget']"
   ]
  },
  {
   "cell_type": "markdown",
   "metadata": {},
   "source": [
    "  * Per Student Budget"
   ]
  },
  {
   "cell_type": "code",
   "execution_count": 18,
   "metadata": {},
   "outputs": [],
   "source": [
    "budget_per_student = budget_per_school/students_per_school"
   ]
  },
  {
   "cell_type": "markdown",
   "metadata": {},
   "source": [
    "  * Average Math Score"
   ]
  },
  {
   "cell_type": "code",
   "execution_count": 19,
   "metadata": {},
   "outputs": [],
   "source": [
    "avg_math_score = school_by[\"math_score\"].mean()"
   ]
  },
  {
   "cell_type": "markdown",
   "metadata": {},
   "source": [
    "  * Average Reading Score"
   ]
  },
  {
   "cell_type": "code",
   "execution_count": 20,
   "metadata": {},
   "outputs": [],
   "source": [
    "avg_reading_score = school_by['reading_score'].mean()"
   ]
  },
  {
   "cell_type": "markdown",
   "metadata": {},
   "source": [
    "  * % Passing Math"
   ]
  },
  {
   "cell_type": "code",
   "execution_count": 21,
   "metadata": {},
   "outputs": [],
   "source": [
    "percent_pass_math = school_data_complete[school_data_complete['math_score'] >= 70].groupby('school_name')['student_id'].count()/students_per_school"
   ]
  },
  {
   "cell_type": "markdown",
   "metadata": {},
   "source": [
    "  * % Passing Reading"
   ]
  },
  {
   "cell_type": "code",
   "execution_count": 22,
   "metadata": {},
   "outputs": [],
   "source": [
    "percent_pass_reading = school_data_complete[school_data_complete['reading_score'] >= 70].groupby('school_name')['student_id'].count()/students_per_school"
   ]
  },
  {
   "cell_type": "markdown",
   "metadata": {},
   "source": [
    "  * % Overall Passing (The percentage of students that passed math **and** reading.)"
   ]
  },
  {
   "cell_type": "code",
   "execution_count": 23,
   "metadata": {},
   "outputs": [],
   "source": [
    "overall_pass_rate = school_data_complete[(school_data_complete['reading_score'] >= 70) & (school_data_complete['math_score'] >= 70)].groupby('school_name')['student_id'].count()/students_per_school"
   ]
  },
  {
   "cell_type": "markdown",
   "metadata": {},
   "source": [
    "  \n",
    "* Create a dataframe to hold the above results"
   ]
  },
  {
   "cell_type": "code",
   "execution_count": 49,
   "metadata": {},
   "outputs": [
    {
     "data": {
      "text/html": [
       "<style  type=\"text/css\" >\n",
       "    #T_b19dfed6_c001_11ea_8438_3c15c2cd11ec caption {\n",
       "          color: navy;\n",
       "          font-size: 30px;\n",
       "    }</style><table id=\"T_b19dfed6_c001_11ea_8438_3c15c2cd11ec\" ><caption>School Summary</caption><thead>    <tr>        <th class=\"blank level0\" ></th>        <th class=\"col_heading level0 col0\" >School Type</th>        <th class=\"col_heading level0 col1\" >Total Students</th>        <th class=\"col_heading level0 col2\" >Total School Budget</th>        <th class=\"col_heading level0 col3\" >Per Student Budget</th>        <th class=\"col_heading level0 col4\" >Average Math Score</th>        <th class=\"col_heading level0 col5\" >Average Reading Score</th>        <th class=\"col_heading level0 col6\" >% Passing Math</th>        <th class=\"col_heading level0 col7\" >% Passing Reading</th>        <th class=\"col_heading level0 col8\" >Overall Passing Rate</th>    </tr></thead><tbody>\n",
       "                <tr>\n",
       "                        <th id=\"T_b19dfed6_c001_11ea_8438_3c15c2cd11eclevel0_row0\" class=\"row_heading level0 row0\" >Bailey High School</th>\n",
       "                        <td id=\"T_b19dfed6_c001_11ea_8438_3c15c2cd11ecrow0_col0\" class=\"data row0 col0\" >District</td>\n",
       "                        <td id=\"T_b19dfed6_c001_11ea_8438_3c15c2cd11ecrow0_col1\" class=\"data row0 col1\" >4,976</td>\n",
       "                        <td id=\"T_b19dfed6_c001_11ea_8438_3c15c2cd11ecrow0_col2\" class=\"data row0 col2\" >3,124,928</td>\n",
       "                        <td id=\"T_b19dfed6_c001_11ea_8438_3c15c2cd11ecrow0_col3\" class=\"data row0 col3\" >628.00</td>\n",
       "                        <td id=\"T_b19dfed6_c001_11ea_8438_3c15c2cd11ecrow0_col4\" class=\"data row0 col4\" >77.0</td>\n",
       "                        <td id=\"T_b19dfed6_c001_11ea_8438_3c15c2cd11ecrow0_col5\" class=\"data row0 col5\" >81.0</td>\n",
       "                        <td id=\"T_b19dfed6_c001_11ea_8438_3c15c2cd11ecrow0_col6\" class=\"data row0 col6\" >66.68%</td>\n",
       "                        <td id=\"T_b19dfed6_c001_11ea_8438_3c15c2cd11ecrow0_col7\" class=\"data row0 col7\" >81.93%</td>\n",
       "                        <td id=\"T_b19dfed6_c001_11ea_8438_3c15c2cd11ecrow0_col8\" class=\"data row0 col8\" >54.64%</td>\n",
       "            </tr>\n",
       "            <tr>\n",
       "                        <th id=\"T_b19dfed6_c001_11ea_8438_3c15c2cd11eclevel0_row1\" class=\"row_heading level0 row1\" >Cabrera High School</th>\n",
       "                        <td id=\"T_b19dfed6_c001_11ea_8438_3c15c2cd11ecrow1_col0\" class=\"data row1 col0\" >Charter</td>\n",
       "                        <td id=\"T_b19dfed6_c001_11ea_8438_3c15c2cd11ecrow1_col1\" class=\"data row1 col1\" >1,858</td>\n",
       "                        <td id=\"T_b19dfed6_c001_11ea_8438_3c15c2cd11ecrow1_col2\" class=\"data row1 col2\" >1,081,356</td>\n",
       "                        <td id=\"T_b19dfed6_c001_11ea_8438_3c15c2cd11ecrow1_col3\" class=\"data row1 col3\" >582.00</td>\n",
       "                        <td id=\"T_b19dfed6_c001_11ea_8438_3c15c2cd11ecrow1_col4\" class=\"data row1 col4\" >83.1</td>\n",
       "                        <td id=\"T_b19dfed6_c001_11ea_8438_3c15c2cd11ecrow1_col5\" class=\"data row1 col5\" >84.0</td>\n",
       "                        <td id=\"T_b19dfed6_c001_11ea_8438_3c15c2cd11ecrow1_col6\" class=\"data row1 col6\" >94.13%</td>\n",
       "                        <td id=\"T_b19dfed6_c001_11ea_8438_3c15c2cd11ecrow1_col7\" class=\"data row1 col7\" >97.04%</td>\n",
       "                        <td id=\"T_b19dfed6_c001_11ea_8438_3c15c2cd11ecrow1_col8\" class=\"data row1 col8\" >91.33%</td>\n",
       "            </tr>\n",
       "            <tr>\n",
       "                        <th id=\"T_b19dfed6_c001_11ea_8438_3c15c2cd11eclevel0_row2\" class=\"row_heading level0 row2\" >Figueroa High School</th>\n",
       "                        <td id=\"T_b19dfed6_c001_11ea_8438_3c15c2cd11ecrow2_col0\" class=\"data row2 col0\" >District</td>\n",
       "                        <td id=\"T_b19dfed6_c001_11ea_8438_3c15c2cd11ecrow2_col1\" class=\"data row2 col1\" >2,949</td>\n",
       "                        <td id=\"T_b19dfed6_c001_11ea_8438_3c15c2cd11ecrow2_col2\" class=\"data row2 col2\" >1,884,411</td>\n",
       "                        <td id=\"T_b19dfed6_c001_11ea_8438_3c15c2cd11ecrow2_col3\" class=\"data row2 col3\" >639.00</td>\n",
       "                        <td id=\"T_b19dfed6_c001_11ea_8438_3c15c2cd11ecrow2_col4\" class=\"data row2 col4\" >76.7</td>\n",
       "                        <td id=\"T_b19dfed6_c001_11ea_8438_3c15c2cd11ecrow2_col5\" class=\"data row2 col5\" >81.2</td>\n",
       "                        <td id=\"T_b19dfed6_c001_11ea_8438_3c15c2cd11ecrow2_col6\" class=\"data row2 col6\" >65.99%</td>\n",
       "                        <td id=\"T_b19dfed6_c001_11ea_8438_3c15c2cd11ecrow2_col7\" class=\"data row2 col7\" >80.74%</td>\n",
       "                        <td id=\"T_b19dfed6_c001_11ea_8438_3c15c2cd11ecrow2_col8\" class=\"data row2 col8\" >53.20%</td>\n",
       "            </tr>\n",
       "            <tr>\n",
       "                        <th id=\"T_b19dfed6_c001_11ea_8438_3c15c2cd11eclevel0_row3\" class=\"row_heading level0 row3\" >Ford High School</th>\n",
       "                        <td id=\"T_b19dfed6_c001_11ea_8438_3c15c2cd11ecrow3_col0\" class=\"data row3 col0\" >District</td>\n",
       "                        <td id=\"T_b19dfed6_c001_11ea_8438_3c15c2cd11ecrow3_col1\" class=\"data row3 col1\" >2,739</td>\n",
       "                        <td id=\"T_b19dfed6_c001_11ea_8438_3c15c2cd11ecrow3_col2\" class=\"data row3 col2\" >1,763,916</td>\n",
       "                        <td id=\"T_b19dfed6_c001_11ea_8438_3c15c2cd11ecrow3_col3\" class=\"data row3 col3\" >644.00</td>\n",
       "                        <td id=\"T_b19dfed6_c001_11ea_8438_3c15c2cd11ecrow3_col4\" class=\"data row3 col4\" >77.1</td>\n",
       "                        <td id=\"T_b19dfed6_c001_11ea_8438_3c15c2cd11ecrow3_col5\" class=\"data row3 col5\" >80.7</td>\n",
       "                        <td id=\"T_b19dfed6_c001_11ea_8438_3c15c2cd11ecrow3_col6\" class=\"data row3 col6\" >68.31%</td>\n",
       "                        <td id=\"T_b19dfed6_c001_11ea_8438_3c15c2cd11ecrow3_col7\" class=\"data row3 col7\" >79.30%</td>\n",
       "                        <td id=\"T_b19dfed6_c001_11ea_8438_3c15c2cd11ecrow3_col8\" class=\"data row3 col8\" >54.29%</td>\n",
       "            </tr>\n",
       "            <tr>\n",
       "                        <th id=\"T_b19dfed6_c001_11ea_8438_3c15c2cd11eclevel0_row4\" class=\"row_heading level0 row4\" >Griffin High School</th>\n",
       "                        <td id=\"T_b19dfed6_c001_11ea_8438_3c15c2cd11ecrow4_col0\" class=\"data row4 col0\" >Charter</td>\n",
       "                        <td id=\"T_b19dfed6_c001_11ea_8438_3c15c2cd11ecrow4_col1\" class=\"data row4 col1\" >1,468</td>\n",
       "                        <td id=\"T_b19dfed6_c001_11ea_8438_3c15c2cd11ecrow4_col2\" class=\"data row4 col2\" >917,500</td>\n",
       "                        <td id=\"T_b19dfed6_c001_11ea_8438_3c15c2cd11ecrow4_col3\" class=\"data row4 col3\" >625.00</td>\n",
       "                        <td id=\"T_b19dfed6_c001_11ea_8438_3c15c2cd11ecrow4_col4\" class=\"data row4 col4\" >83.4</td>\n",
       "                        <td id=\"T_b19dfed6_c001_11ea_8438_3c15c2cd11ecrow4_col5\" class=\"data row4 col5\" >83.8</td>\n",
       "                        <td id=\"T_b19dfed6_c001_11ea_8438_3c15c2cd11ecrow4_col6\" class=\"data row4 col6\" >93.39%</td>\n",
       "                        <td id=\"T_b19dfed6_c001_11ea_8438_3c15c2cd11ecrow4_col7\" class=\"data row4 col7\" >97.14%</td>\n",
       "                        <td id=\"T_b19dfed6_c001_11ea_8438_3c15c2cd11ecrow4_col8\" class=\"data row4 col8\" >90.60%</td>\n",
       "            </tr>\n",
       "            <tr>\n",
       "                        <th id=\"T_b19dfed6_c001_11ea_8438_3c15c2cd11eclevel0_row5\" class=\"row_heading level0 row5\" >Hernandez High School</th>\n",
       "                        <td id=\"T_b19dfed6_c001_11ea_8438_3c15c2cd11ecrow5_col0\" class=\"data row5 col0\" >District</td>\n",
       "                        <td id=\"T_b19dfed6_c001_11ea_8438_3c15c2cd11ecrow5_col1\" class=\"data row5 col1\" >4,635</td>\n",
       "                        <td id=\"T_b19dfed6_c001_11ea_8438_3c15c2cd11ecrow5_col2\" class=\"data row5 col2\" >3,022,020</td>\n",
       "                        <td id=\"T_b19dfed6_c001_11ea_8438_3c15c2cd11ecrow5_col3\" class=\"data row5 col3\" >652.00</td>\n",
       "                        <td id=\"T_b19dfed6_c001_11ea_8438_3c15c2cd11ecrow5_col4\" class=\"data row5 col4\" >77.3</td>\n",
       "                        <td id=\"T_b19dfed6_c001_11ea_8438_3c15c2cd11ecrow5_col5\" class=\"data row5 col5\" >80.9</td>\n",
       "                        <td id=\"T_b19dfed6_c001_11ea_8438_3c15c2cd11ecrow5_col6\" class=\"data row5 col6\" >66.75%</td>\n",
       "                        <td id=\"T_b19dfed6_c001_11ea_8438_3c15c2cd11ecrow5_col7\" class=\"data row5 col7\" >80.86%</td>\n",
       "                        <td id=\"T_b19dfed6_c001_11ea_8438_3c15c2cd11ecrow5_col8\" class=\"data row5 col8\" >53.53%</td>\n",
       "            </tr>\n",
       "            <tr>\n",
       "                        <th id=\"T_b19dfed6_c001_11ea_8438_3c15c2cd11eclevel0_row6\" class=\"row_heading level0 row6\" >Holden High School</th>\n",
       "                        <td id=\"T_b19dfed6_c001_11ea_8438_3c15c2cd11ecrow6_col0\" class=\"data row6 col0\" >Charter</td>\n",
       "                        <td id=\"T_b19dfed6_c001_11ea_8438_3c15c2cd11ecrow6_col1\" class=\"data row6 col1\" >427</td>\n",
       "                        <td id=\"T_b19dfed6_c001_11ea_8438_3c15c2cd11ecrow6_col2\" class=\"data row6 col2\" >248,087</td>\n",
       "                        <td id=\"T_b19dfed6_c001_11ea_8438_3c15c2cd11ecrow6_col3\" class=\"data row6 col3\" >581.00</td>\n",
       "                        <td id=\"T_b19dfed6_c001_11ea_8438_3c15c2cd11ecrow6_col4\" class=\"data row6 col4\" >83.8</td>\n",
       "                        <td id=\"T_b19dfed6_c001_11ea_8438_3c15c2cd11ecrow6_col5\" class=\"data row6 col5\" >83.8</td>\n",
       "                        <td id=\"T_b19dfed6_c001_11ea_8438_3c15c2cd11ecrow6_col6\" class=\"data row6 col6\" >92.51%</td>\n",
       "                        <td id=\"T_b19dfed6_c001_11ea_8438_3c15c2cd11ecrow6_col7\" class=\"data row6 col7\" >96.25%</td>\n",
       "                        <td id=\"T_b19dfed6_c001_11ea_8438_3c15c2cd11ecrow6_col8\" class=\"data row6 col8\" >89.23%</td>\n",
       "            </tr>\n",
       "            <tr>\n",
       "                        <th id=\"T_b19dfed6_c001_11ea_8438_3c15c2cd11eclevel0_row7\" class=\"row_heading level0 row7\" >Huang High School</th>\n",
       "                        <td id=\"T_b19dfed6_c001_11ea_8438_3c15c2cd11ecrow7_col0\" class=\"data row7 col0\" >District</td>\n",
       "                        <td id=\"T_b19dfed6_c001_11ea_8438_3c15c2cd11ecrow7_col1\" class=\"data row7 col1\" >2,917</td>\n",
       "                        <td id=\"T_b19dfed6_c001_11ea_8438_3c15c2cd11ecrow7_col2\" class=\"data row7 col2\" >1,910,635</td>\n",
       "                        <td id=\"T_b19dfed6_c001_11ea_8438_3c15c2cd11ecrow7_col3\" class=\"data row7 col3\" >655.00</td>\n",
       "                        <td id=\"T_b19dfed6_c001_11ea_8438_3c15c2cd11ecrow7_col4\" class=\"data row7 col4\" >76.6</td>\n",
       "                        <td id=\"T_b19dfed6_c001_11ea_8438_3c15c2cd11ecrow7_col5\" class=\"data row7 col5\" >81.2</td>\n",
       "                        <td id=\"T_b19dfed6_c001_11ea_8438_3c15c2cd11ecrow7_col6\" class=\"data row7 col6\" >65.68%</td>\n",
       "                        <td id=\"T_b19dfed6_c001_11ea_8438_3c15c2cd11ecrow7_col7\" class=\"data row7 col7\" >81.32%</td>\n",
       "                        <td id=\"T_b19dfed6_c001_11ea_8438_3c15c2cd11ecrow7_col8\" class=\"data row7 col8\" >53.51%</td>\n",
       "            </tr>\n",
       "            <tr>\n",
       "                        <th id=\"T_b19dfed6_c001_11ea_8438_3c15c2cd11eclevel0_row8\" class=\"row_heading level0 row8\" >Johnson High School</th>\n",
       "                        <td id=\"T_b19dfed6_c001_11ea_8438_3c15c2cd11ecrow8_col0\" class=\"data row8 col0\" >District</td>\n",
       "                        <td id=\"T_b19dfed6_c001_11ea_8438_3c15c2cd11ecrow8_col1\" class=\"data row8 col1\" >4,761</td>\n",
       "                        <td id=\"T_b19dfed6_c001_11ea_8438_3c15c2cd11ecrow8_col2\" class=\"data row8 col2\" >3,094,650</td>\n",
       "                        <td id=\"T_b19dfed6_c001_11ea_8438_3c15c2cd11ecrow8_col3\" class=\"data row8 col3\" >650.00</td>\n",
       "                        <td id=\"T_b19dfed6_c001_11ea_8438_3c15c2cd11ecrow8_col4\" class=\"data row8 col4\" >77.1</td>\n",
       "                        <td id=\"T_b19dfed6_c001_11ea_8438_3c15c2cd11ecrow8_col5\" class=\"data row8 col5\" >81.0</td>\n",
       "                        <td id=\"T_b19dfed6_c001_11ea_8438_3c15c2cd11ecrow8_col6\" class=\"data row8 col6\" >66.06%</td>\n",
       "                        <td id=\"T_b19dfed6_c001_11ea_8438_3c15c2cd11ecrow8_col7\" class=\"data row8 col7\" >81.22%</td>\n",
       "                        <td id=\"T_b19dfed6_c001_11ea_8438_3c15c2cd11ecrow8_col8\" class=\"data row8 col8\" >53.54%</td>\n",
       "            </tr>\n",
       "            <tr>\n",
       "                        <th id=\"T_b19dfed6_c001_11ea_8438_3c15c2cd11eclevel0_row9\" class=\"row_heading level0 row9\" >Pena High School</th>\n",
       "                        <td id=\"T_b19dfed6_c001_11ea_8438_3c15c2cd11ecrow9_col0\" class=\"data row9 col0\" >Charter</td>\n",
       "                        <td id=\"T_b19dfed6_c001_11ea_8438_3c15c2cd11ecrow9_col1\" class=\"data row9 col1\" >962</td>\n",
       "                        <td id=\"T_b19dfed6_c001_11ea_8438_3c15c2cd11ecrow9_col2\" class=\"data row9 col2\" >585,858</td>\n",
       "                        <td id=\"T_b19dfed6_c001_11ea_8438_3c15c2cd11ecrow9_col3\" class=\"data row9 col3\" >609.00</td>\n",
       "                        <td id=\"T_b19dfed6_c001_11ea_8438_3c15c2cd11ecrow9_col4\" class=\"data row9 col4\" >83.8</td>\n",
       "                        <td id=\"T_b19dfed6_c001_11ea_8438_3c15c2cd11ecrow9_col5\" class=\"data row9 col5\" >84.0</td>\n",
       "                        <td id=\"T_b19dfed6_c001_11ea_8438_3c15c2cd11ecrow9_col6\" class=\"data row9 col6\" >94.59%</td>\n",
       "                        <td id=\"T_b19dfed6_c001_11ea_8438_3c15c2cd11ecrow9_col7\" class=\"data row9 col7\" >95.95%</td>\n",
       "                        <td id=\"T_b19dfed6_c001_11ea_8438_3c15c2cd11ecrow9_col8\" class=\"data row9 col8\" >90.54%</td>\n",
       "            </tr>\n",
       "            <tr>\n",
       "                        <th id=\"T_b19dfed6_c001_11ea_8438_3c15c2cd11eclevel0_row10\" class=\"row_heading level0 row10\" >Rodriguez High School</th>\n",
       "                        <td id=\"T_b19dfed6_c001_11ea_8438_3c15c2cd11ecrow10_col0\" class=\"data row10 col0\" >District</td>\n",
       "                        <td id=\"T_b19dfed6_c001_11ea_8438_3c15c2cd11ecrow10_col1\" class=\"data row10 col1\" >3,999</td>\n",
       "                        <td id=\"T_b19dfed6_c001_11ea_8438_3c15c2cd11ecrow10_col2\" class=\"data row10 col2\" >2,547,363</td>\n",
       "                        <td id=\"T_b19dfed6_c001_11ea_8438_3c15c2cd11ecrow10_col3\" class=\"data row10 col3\" >637.00</td>\n",
       "                        <td id=\"T_b19dfed6_c001_11ea_8438_3c15c2cd11ecrow10_col4\" class=\"data row10 col4\" >76.8</td>\n",
       "                        <td id=\"T_b19dfed6_c001_11ea_8438_3c15c2cd11ecrow10_col5\" class=\"data row10 col5\" >80.7</td>\n",
       "                        <td id=\"T_b19dfed6_c001_11ea_8438_3c15c2cd11ecrow10_col6\" class=\"data row10 col6\" >66.37%</td>\n",
       "                        <td id=\"T_b19dfed6_c001_11ea_8438_3c15c2cd11ecrow10_col7\" class=\"data row10 col7\" >80.22%</td>\n",
       "                        <td id=\"T_b19dfed6_c001_11ea_8438_3c15c2cd11ecrow10_col8\" class=\"data row10 col8\" >52.99%</td>\n",
       "            </tr>\n",
       "            <tr>\n",
       "                        <th id=\"T_b19dfed6_c001_11ea_8438_3c15c2cd11eclevel0_row11\" class=\"row_heading level0 row11\" >Shelton High School</th>\n",
       "                        <td id=\"T_b19dfed6_c001_11ea_8438_3c15c2cd11ecrow11_col0\" class=\"data row11 col0\" >Charter</td>\n",
       "                        <td id=\"T_b19dfed6_c001_11ea_8438_3c15c2cd11ecrow11_col1\" class=\"data row11 col1\" >1,761</td>\n",
       "                        <td id=\"T_b19dfed6_c001_11ea_8438_3c15c2cd11ecrow11_col2\" class=\"data row11 col2\" >1,056,600</td>\n",
       "                        <td id=\"T_b19dfed6_c001_11ea_8438_3c15c2cd11ecrow11_col3\" class=\"data row11 col3\" >600.00</td>\n",
       "                        <td id=\"T_b19dfed6_c001_11ea_8438_3c15c2cd11ecrow11_col4\" class=\"data row11 col4\" >83.4</td>\n",
       "                        <td id=\"T_b19dfed6_c001_11ea_8438_3c15c2cd11ecrow11_col5\" class=\"data row11 col5\" >83.7</td>\n",
       "                        <td id=\"T_b19dfed6_c001_11ea_8438_3c15c2cd11ecrow11_col6\" class=\"data row11 col6\" >93.87%</td>\n",
       "                        <td id=\"T_b19dfed6_c001_11ea_8438_3c15c2cd11ecrow11_col7\" class=\"data row11 col7\" >95.85%</td>\n",
       "                        <td id=\"T_b19dfed6_c001_11ea_8438_3c15c2cd11ecrow11_col8\" class=\"data row11 col8\" >89.89%</td>\n",
       "            </tr>\n",
       "            <tr>\n",
       "                        <th id=\"T_b19dfed6_c001_11ea_8438_3c15c2cd11eclevel0_row12\" class=\"row_heading level0 row12\" >Thomas High School</th>\n",
       "                        <td id=\"T_b19dfed6_c001_11ea_8438_3c15c2cd11ecrow12_col0\" class=\"data row12 col0\" >Charter</td>\n",
       "                        <td id=\"T_b19dfed6_c001_11ea_8438_3c15c2cd11ecrow12_col1\" class=\"data row12 col1\" >1,635</td>\n",
       "                        <td id=\"T_b19dfed6_c001_11ea_8438_3c15c2cd11ecrow12_col2\" class=\"data row12 col2\" >1,043,130</td>\n",
       "                        <td id=\"T_b19dfed6_c001_11ea_8438_3c15c2cd11ecrow12_col3\" class=\"data row12 col3\" >638.00</td>\n",
       "                        <td id=\"T_b19dfed6_c001_11ea_8438_3c15c2cd11ecrow12_col4\" class=\"data row12 col4\" >83.4</td>\n",
       "                        <td id=\"T_b19dfed6_c001_11ea_8438_3c15c2cd11ecrow12_col5\" class=\"data row12 col5\" >83.8</td>\n",
       "                        <td id=\"T_b19dfed6_c001_11ea_8438_3c15c2cd11ecrow12_col6\" class=\"data row12 col6\" >93.27%</td>\n",
       "                        <td id=\"T_b19dfed6_c001_11ea_8438_3c15c2cd11ecrow12_col7\" class=\"data row12 col7\" >97.31%</td>\n",
       "                        <td id=\"T_b19dfed6_c001_11ea_8438_3c15c2cd11ecrow12_col8\" class=\"data row12 col8\" >90.95%</td>\n",
       "            </tr>\n",
       "            <tr>\n",
       "                        <th id=\"T_b19dfed6_c001_11ea_8438_3c15c2cd11eclevel0_row13\" class=\"row_heading level0 row13\" >Wilson High School</th>\n",
       "                        <td id=\"T_b19dfed6_c001_11ea_8438_3c15c2cd11ecrow13_col0\" class=\"data row13 col0\" >Charter</td>\n",
       "                        <td id=\"T_b19dfed6_c001_11ea_8438_3c15c2cd11ecrow13_col1\" class=\"data row13 col1\" >2,283</td>\n",
       "                        <td id=\"T_b19dfed6_c001_11ea_8438_3c15c2cd11ecrow13_col2\" class=\"data row13 col2\" >1,319,574</td>\n",
       "                        <td id=\"T_b19dfed6_c001_11ea_8438_3c15c2cd11ecrow13_col3\" class=\"data row13 col3\" >578.00</td>\n",
       "                        <td id=\"T_b19dfed6_c001_11ea_8438_3c15c2cd11ecrow13_col4\" class=\"data row13 col4\" >83.3</td>\n",
       "                        <td id=\"T_b19dfed6_c001_11ea_8438_3c15c2cd11ecrow13_col5\" class=\"data row13 col5\" >84.0</td>\n",
       "                        <td id=\"T_b19dfed6_c001_11ea_8438_3c15c2cd11ecrow13_col6\" class=\"data row13 col6\" >93.87%</td>\n",
       "                        <td id=\"T_b19dfed6_c001_11ea_8438_3c15c2cd11ecrow13_col7\" class=\"data row13 col7\" >96.54%</td>\n",
       "                        <td id=\"T_b19dfed6_c001_11ea_8438_3c15c2cd11ecrow13_col8\" class=\"data row13 col8\" >90.58%</td>\n",
       "            </tr>\n",
       "            <tr>\n",
       "                        <th id=\"T_b19dfed6_c001_11ea_8438_3c15c2cd11eclevel0_row14\" class=\"row_heading level0 row14\" >Wright High School</th>\n",
       "                        <td id=\"T_b19dfed6_c001_11ea_8438_3c15c2cd11ecrow14_col0\" class=\"data row14 col0\" >Charter</td>\n",
       "                        <td id=\"T_b19dfed6_c001_11ea_8438_3c15c2cd11ecrow14_col1\" class=\"data row14 col1\" >1,800</td>\n",
       "                        <td id=\"T_b19dfed6_c001_11ea_8438_3c15c2cd11ecrow14_col2\" class=\"data row14 col2\" >1,049,400</td>\n",
       "                        <td id=\"T_b19dfed6_c001_11ea_8438_3c15c2cd11ecrow14_col3\" class=\"data row14 col3\" >583.00</td>\n",
       "                        <td id=\"T_b19dfed6_c001_11ea_8438_3c15c2cd11ecrow14_col4\" class=\"data row14 col4\" >83.7</td>\n",
       "                        <td id=\"T_b19dfed6_c001_11ea_8438_3c15c2cd11ecrow14_col5\" class=\"data row14 col5\" >84.0</td>\n",
       "                        <td id=\"T_b19dfed6_c001_11ea_8438_3c15c2cd11ecrow14_col6\" class=\"data row14 col6\" >93.33%</td>\n",
       "                        <td id=\"T_b19dfed6_c001_11ea_8438_3c15c2cd11ecrow14_col7\" class=\"data row14 col7\" >96.61%</td>\n",
       "                        <td id=\"T_b19dfed6_c001_11ea_8438_3c15c2cd11ecrow14_col8\" class=\"data row14 col8\" >90.33%</td>\n",
       "            </tr>\n",
       "    </tbody></table>"
      ],
      "text/plain": [
       "<pandas.io.formats.style.Styler at 0x7fa188b74810>"
      ]
     },
     "execution_count": 49,
     "metadata": {},
     "output_type": "execute_result"
    }
   ],
   "source": [
    "school_summary = pd.DataFrame({\n",
    "                               \"School Type\" : school_district,\n",
    "                               \"Total Students\" : students_per_school,\n",
    "                               \"Total School Budget\" : budget_per_school,\n",
    "                               \"Per Student Budget\" : budget_per_student,\n",
    "                               \"Average Math Score\" : avg_math_score,\n",
    "                               \"Average Reading Score\" : avg_reading_score,\n",
    "                               \"% Passing Math\": percent_pass_math,\n",
    "                               \"% Passing Reading\" : percent_pass_reading,\n",
    "                               \"Overall Passing Rate\" : overall_pass_rate\n",
    "    \n",
    "                            })\n",
    "\n",
    "#cleaner formating\n",
    "\n",
    "school_summary['Total Students'] = school_summary['Total Students'].map(\"{:,}\".format)\n",
    "school_summary['Total School Budget'] = school_summary['Total School Budget'].map(\"{:,}\".format)\n",
    "school_summary['Per Student Budget'] = school_summary['Per Student Budget'].map(\"{:.2f}\".format)\n",
    "school_summary['Average Math Score'] = school_summary['Average Math Score'].map(\"{:.1f}\".format)\n",
    "school_summary['Average Reading Score'] = school_summary['Average Reading Score'].map(\"{:.1f}\".format)\n",
    "school_summary['% Passing Math'] = school_summary['% Passing Math'].map(\"{:.2%}\".format)\n",
    "school_summary['% Passing Reading'] = school_summary['% Passing Reading'].map(\"{:.2%}\".format)\n",
    "school_summary['Overall Passing Rate'] = school_summary['Overall Passing Rate'].map(\"{:.2%}\".format)\n",
    "\n",
    "\n",
    "\n",
    " \n",
    "#formating. adding caption\n",
    "school_summary.style.set_caption(\"School Summary\").set_table_styles([{\n",
    "    'selector': 'caption',\n",
    "    'props': [\n",
    "        ('color', 'navy'),\n",
    "        ('font-size', '30px')\n",
    "    ]\n",
    "}])"
   ]
  },
  {
   "cell_type": "code",
   "execution_count": null,
   "metadata": {},
   "outputs": [],
   "source": []
  },
  {
   "cell_type": "markdown",
   "metadata": {},
   "source": [
    "## Top Performing Schools (By % Overall Passing)"
   ]
  },
  {
   "cell_type": "markdown",
   "metadata": {},
   "source": [
    "* Sort and display the top five performing schools by % overall passing."
   ]
  },
  {
   "cell_type": "code",
   "execution_count": 48,
   "metadata": {
    "scrolled": true
   },
   "outputs": [
    {
     "data": {
      "text/html": [
       "<style  type=\"text/css\" >\n",
       "    #T_9d6d7ae0_c001_11ea_8438_3c15c2cd11ec caption {\n",
       "          color: navy;\n",
       "          font-size: 30px;\n",
       "    }</style><table id=\"T_9d6d7ae0_c001_11ea_8438_3c15c2cd11ec\" ><caption>Top Performing Schools</caption><thead>    <tr>        <th class=\"blank level0\" ></th>        <th class=\"col_heading level0 col0\" >School Type</th>        <th class=\"col_heading level0 col1\" >Total Students</th>        <th class=\"col_heading level0 col2\" >Total School Budget</th>        <th class=\"col_heading level0 col3\" >Per Student Budget</th>        <th class=\"col_heading level0 col4\" >Average Math Score</th>        <th class=\"col_heading level0 col5\" >Average Reading Score</th>        <th class=\"col_heading level0 col6\" >% Passing Math</th>        <th class=\"col_heading level0 col7\" >% Passing Reading</th>        <th class=\"col_heading level0 col8\" >Overall Passing Rate</th>    </tr></thead><tbody>\n",
       "                <tr>\n",
       "                        <th id=\"T_9d6d7ae0_c001_11ea_8438_3c15c2cd11eclevel0_row0\" class=\"row_heading level0 row0\" >Cabrera High School</th>\n",
       "                        <td id=\"T_9d6d7ae0_c001_11ea_8438_3c15c2cd11ecrow0_col0\" class=\"data row0 col0\" >Charter</td>\n",
       "                        <td id=\"T_9d6d7ae0_c001_11ea_8438_3c15c2cd11ecrow0_col1\" class=\"data row0 col1\" >1,858</td>\n",
       "                        <td id=\"T_9d6d7ae0_c001_11ea_8438_3c15c2cd11ecrow0_col2\" class=\"data row0 col2\" >1,081,356</td>\n",
       "                        <td id=\"T_9d6d7ae0_c001_11ea_8438_3c15c2cd11ecrow0_col3\" class=\"data row0 col3\" >582.00</td>\n",
       "                        <td id=\"T_9d6d7ae0_c001_11ea_8438_3c15c2cd11ecrow0_col4\" class=\"data row0 col4\" >83.1</td>\n",
       "                        <td id=\"T_9d6d7ae0_c001_11ea_8438_3c15c2cd11ecrow0_col5\" class=\"data row0 col5\" >84.0</td>\n",
       "                        <td id=\"T_9d6d7ae0_c001_11ea_8438_3c15c2cd11ecrow0_col6\" class=\"data row0 col6\" >94.13%</td>\n",
       "                        <td id=\"T_9d6d7ae0_c001_11ea_8438_3c15c2cd11ecrow0_col7\" class=\"data row0 col7\" >97.04%</td>\n",
       "                        <td id=\"T_9d6d7ae0_c001_11ea_8438_3c15c2cd11ecrow0_col8\" class=\"data row0 col8\" >91.33%</td>\n",
       "            </tr>\n",
       "            <tr>\n",
       "                        <th id=\"T_9d6d7ae0_c001_11ea_8438_3c15c2cd11eclevel0_row1\" class=\"row_heading level0 row1\" >Thomas High School</th>\n",
       "                        <td id=\"T_9d6d7ae0_c001_11ea_8438_3c15c2cd11ecrow1_col0\" class=\"data row1 col0\" >Charter</td>\n",
       "                        <td id=\"T_9d6d7ae0_c001_11ea_8438_3c15c2cd11ecrow1_col1\" class=\"data row1 col1\" >1,635</td>\n",
       "                        <td id=\"T_9d6d7ae0_c001_11ea_8438_3c15c2cd11ecrow1_col2\" class=\"data row1 col2\" >1,043,130</td>\n",
       "                        <td id=\"T_9d6d7ae0_c001_11ea_8438_3c15c2cd11ecrow1_col3\" class=\"data row1 col3\" >638.00</td>\n",
       "                        <td id=\"T_9d6d7ae0_c001_11ea_8438_3c15c2cd11ecrow1_col4\" class=\"data row1 col4\" >83.4</td>\n",
       "                        <td id=\"T_9d6d7ae0_c001_11ea_8438_3c15c2cd11ecrow1_col5\" class=\"data row1 col5\" >83.8</td>\n",
       "                        <td id=\"T_9d6d7ae0_c001_11ea_8438_3c15c2cd11ecrow1_col6\" class=\"data row1 col6\" >93.27%</td>\n",
       "                        <td id=\"T_9d6d7ae0_c001_11ea_8438_3c15c2cd11ecrow1_col7\" class=\"data row1 col7\" >97.31%</td>\n",
       "                        <td id=\"T_9d6d7ae0_c001_11ea_8438_3c15c2cd11ecrow1_col8\" class=\"data row1 col8\" >90.95%</td>\n",
       "            </tr>\n",
       "            <tr>\n",
       "                        <th id=\"T_9d6d7ae0_c001_11ea_8438_3c15c2cd11eclevel0_row2\" class=\"row_heading level0 row2\" >Griffin High School</th>\n",
       "                        <td id=\"T_9d6d7ae0_c001_11ea_8438_3c15c2cd11ecrow2_col0\" class=\"data row2 col0\" >Charter</td>\n",
       "                        <td id=\"T_9d6d7ae0_c001_11ea_8438_3c15c2cd11ecrow2_col1\" class=\"data row2 col1\" >1,468</td>\n",
       "                        <td id=\"T_9d6d7ae0_c001_11ea_8438_3c15c2cd11ecrow2_col2\" class=\"data row2 col2\" >917,500</td>\n",
       "                        <td id=\"T_9d6d7ae0_c001_11ea_8438_3c15c2cd11ecrow2_col3\" class=\"data row2 col3\" >625.00</td>\n",
       "                        <td id=\"T_9d6d7ae0_c001_11ea_8438_3c15c2cd11ecrow2_col4\" class=\"data row2 col4\" >83.4</td>\n",
       "                        <td id=\"T_9d6d7ae0_c001_11ea_8438_3c15c2cd11ecrow2_col5\" class=\"data row2 col5\" >83.8</td>\n",
       "                        <td id=\"T_9d6d7ae0_c001_11ea_8438_3c15c2cd11ecrow2_col6\" class=\"data row2 col6\" >93.39%</td>\n",
       "                        <td id=\"T_9d6d7ae0_c001_11ea_8438_3c15c2cd11ecrow2_col7\" class=\"data row2 col7\" >97.14%</td>\n",
       "                        <td id=\"T_9d6d7ae0_c001_11ea_8438_3c15c2cd11ecrow2_col8\" class=\"data row2 col8\" >90.60%</td>\n",
       "            </tr>\n",
       "            <tr>\n",
       "                        <th id=\"T_9d6d7ae0_c001_11ea_8438_3c15c2cd11eclevel0_row3\" class=\"row_heading level0 row3\" >Wilson High School</th>\n",
       "                        <td id=\"T_9d6d7ae0_c001_11ea_8438_3c15c2cd11ecrow3_col0\" class=\"data row3 col0\" >Charter</td>\n",
       "                        <td id=\"T_9d6d7ae0_c001_11ea_8438_3c15c2cd11ecrow3_col1\" class=\"data row3 col1\" >2,283</td>\n",
       "                        <td id=\"T_9d6d7ae0_c001_11ea_8438_3c15c2cd11ecrow3_col2\" class=\"data row3 col2\" >1,319,574</td>\n",
       "                        <td id=\"T_9d6d7ae0_c001_11ea_8438_3c15c2cd11ecrow3_col3\" class=\"data row3 col3\" >578.00</td>\n",
       "                        <td id=\"T_9d6d7ae0_c001_11ea_8438_3c15c2cd11ecrow3_col4\" class=\"data row3 col4\" >83.3</td>\n",
       "                        <td id=\"T_9d6d7ae0_c001_11ea_8438_3c15c2cd11ecrow3_col5\" class=\"data row3 col5\" >84.0</td>\n",
       "                        <td id=\"T_9d6d7ae0_c001_11ea_8438_3c15c2cd11ecrow3_col6\" class=\"data row3 col6\" >93.87%</td>\n",
       "                        <td id=\"T_9d6d7ae0_c001_11ea_8438_3c15c2cd11ecrow3_col7\" class=\"data row3 col7\" >96.54%</td>\n",
       "                        <td id=\"T_9d6d7ae0_c001_11ea_8438_3c15c2cd11ecrow3_col8\" class=\"data row3 col8\" >90.58%</td>\n",
       "            </tr>\n",
       "            <tr>\n",
       "                        <th id=\"T_9d6d7ae0_c001_11ea_8438_3c15c2cd11eclevel0_row4\" class=\"row_heading level0 row4\" >Pena High School</th>\n",
       "                        <td id=\"T_9d6d7ae0_c001_11ea_8438_3c15c2cd11ecrow4_col0\" class=\"data row4 col0\" >Charter</td>\n",
       "                        <td id=\"T_9d6d7ae0_c001_11ea_8438_3c15c2cd11ecrow4_col1\" class=\"data row4 col1\" >962</td>\n",
       "                        <td id=\"T_9d6d7ae0_c001_11ea_8438_3c15c2cd11ecrow4_col2\" class=\"data row4 col2\" >585,858</td>\n",
       "                        <td id=\"T_9d6d7ae0_c001_11ea_8438_3c15c2cd11ecrow4_col3\" class=\"data row4 col3\" >609.00</td>\n",
       "                        <td id=\"T_9d6d7ae0_c001_11ea_8438_3c15c2cd11ecrow4_col4\" class=\"data row4 col4\" >83.8</td>\n",
       "                        <td id=\"T_9d6d7ae0_c001_11ea_8438_3c15c2cd11ecrow4_col5\" class=\"data row4 col5\" >84.0</td>\n",
       "                        <td id=\"T_9d6d7ae0_c001_11ea_8438_3c15c2cd11ecrow4_col6\" class=\"data row4 col6\" >94.59%</td>\n",
       "                        <td id=\"T_9d6d7ae0_c001_11ea_8438_3c15c2cd11ecrow4_col7\" class=\"data row4 col7\" >95.95%</td>\n",
       "                        <td id=\"T_9d6d7ae0_c001_11ea_8438_3c15c2cd11ecrow4_col8\" class=\"data row4 col8\" >90.54%</td>\n",
       "            </tr>\n",
       "    </tbody></table>"
      ],
      "text/plain": [
       "<pandas.io.formats.style.Styler at 0x7fa188992450>"
      ]
     },
     "execution_count": 48,
     "metadata": {},
     "output_type": "execute_result"
    }
   ],
   "source": [
    "sorting_sch = school_summary.sort_values(['Overall Passing Rate'], ascending=[False])\n",
    "\n",
    "# formating with caption\n",
    "sorting_sch.head(5).style.set_caption(\"Top Performing Schools\").set_table_styles([{\n",
    "    'selector': 'caption',\n",
    "    'props': [\n",
    "        ('color', 'navy'),\n",
    "        ('font-size', '30px')\n",
    "    ]\n",
    "}])"
   ]
  },
  {
   "cell_type": "markdown",
   "metadata": {},
   "source": [
    "## Bottom Performing Schools (By % Overall Passing)"
   ]
  },
  {
   "cell_type": "markdown",
   "metadata": {},
   "source": [
    "* Sort and display the five worst-performing schools by % overall passing."
   ]
  },
  {
   "cell_type": "code",
   "execution_count": 47,
   "metadata": {},
   "outputs": [
    {
     "data": {
      "text/html": [
       "<style  type=\"text/css\" >\n",
       "    #T_8b36aa22_c001_11ea_8438_3c15c2cd11ec caption {\n",
       "          color: navy;\n",
       "          font-size: 30px;\n",
       "    }</style><table id=\"T_8b36aa22_c001_11ea_8438_3c15c2cd11ec\" ><caption>Bottom Performing Schools</caption><thead>    <tr>        <th class=\"blank level0\" ></th>        <th class=\"col_heading level0 col0\" >School Type</th>        <th class=\"col_heading level0 col1\" >Total Students</th>        <th class=\"col_heading level0 col2\" >Total School Budget</th>        <th class=\"col_heading level0 col3\" >Per Student Budget</th>        <th class=\"col_heading level0 col4\" >Average Math Score</th>        <th class=\"col_heading level0 col5\" >Average Reading Score</th>        <th class=\"col_heading level0 col6\" >% Passing Math</th>        <th class=\"col_heading level0 col7\" >% Passing Reading</th>        <th class=\"col_heading level0 col8\" >Overall Passing Rate</th>    </tr></thead><tbody>\n",
       "                <tr>\n",
       "                        <th id=\"T_8b36aa22_c001_11ea_8438_3c15c2cd11eclevel0_row0\" class=\"row_heading level0 row0\" >Johnson High School</th>\n",
       "                        <td id=\"T_8b36aa22_c001_11ea_8438_3c15c2cd11ecrow0_col0\" class=\"data row0 col0\" >District</td>\n",
       "                        <td id=\"T_8b36aa22_c001_11ea_8438_3c15c2cd11ecrow0_col1\" class=\"data row0 col1\" >4,761</td>\n",
       "                        <td id=\"T_8b36aa22_c001_11ea_8438_3c15c2cd11ecrow0_col2\" class=\"data row0 col2\" >3,094,650</td>\n",
       "                        <td id=\"T_8b36aa22_c001_11ea_8438_3c15c2cd11ecrow0_col3\" class=\"data row0 col3\" >650.00</td>\n",
       "                        <td id=\"T_8b36aa22_c001_11ea_8438_3c15c2cd11ecrow0_col4\" class=\"data row0 col4\" >77.1</td>\n",
       "                        <td id=\"T_8b36aa22_c001_11ea_8438_3c15c2cd11ecrow0_col5\" class=\"data row0 col5\" >81.0</td>\n",
       "                        <td id=\"T_8b36aa22_c001_11ea_8438_3c15c2cd11ecrow0_col6\" class=\"data row0 col6\" >66.06%</td>\n",
       "                        <td id=\"T_8b36aa22_c001_11ea_8438_3c15c2cd11ecrow0_col7\" class=\"data row0 col7\" >81.22%</td>\n",
       "                        <td id=\"T_8b36aa22_c001_11ea_8438_3c15c2cd11ecrow0_col8\" class=\"data row0 col8\" >53.54%</td>\n",
       "            </tr>\n",
       "            <tr>\n",
       "                        <th id=\"T_8b36aa22_c001_11ea_8438_3c15c2cd11eclevel0_row1\" class=\"row_heading level0 row1\" >Hernandez High School</th>\n",
       "                        <td id=\"T_8b36aa22_c001_11ea_8438_3c15c2cd11ecrow1_col0\" class=\"data row1 col0\" >District</td>\n",
       "                        <td id=\"T_8b36aa22_c001_11ea_8438_3c15c2cd11ecrow1_col1\" class=\"data row1 col1\" >4,635</td>\n",
       "                        <td id=\"T_8b36aa22_c001_11ea_8438_3c15c2cd11ecrow1_col2\" class=\"data row1 col2\" >3,022,020</td>\n",
       "                        <td id=\"T_8b36aa22_c001_11ea_8438_3c15c2cd11ecrow1_col3\" class=\"data row1 col3\" >652.00</td>\n",
       "                        <td id=\"T_8b36aa22_c001_11ea_8438_3c15c2cd11ecrow1_col4\" class=\"data row1 col4\" >77.3</td>\n",
       "                        <td id=\"T_8b36aa22_c001_11ea_8438_3c15c2cd11ecrow1_col5\" class=\"data row1 col5\" >80.9</td>\n",
       "                        <td id=\"T_8b36aa22_c001_11ea_8438_3c15c2cd11ecrow1_col6\" class=\"data row1 col6\" >66.75%</td>\n",
       "                        <td id=\"T_8b36aa22_c001_11ea_8438_3c15c2cd11ecrow1_col7\" class=\"data row1 col7\" >80.86%</td>\n",
       "                        <td id=\"T_8b36aa22_c001_11ea_8438_3c15c2cd11ecrow1_col8\" class=\"data row1 col8\" >53.53%</td>\n",
       "            </tr>\n",
       "            <tr>\n",
       "                        <th id=\"T_8b36aa22_c001_11ea_8438_3c15c2cd11eclevel0_row2\" class=\"row_heading level0 row2\" >Huang High School</th>\n",
       "                        <td id=\"T_8b36aa22_c001_11ea_8438_3c15c2cd11ecrow2_col0\" class=\"data row2 col0\" >District</td>\n",
       "                        <td id=\"T_8b36aa22_c001_11ea_8438_3c15c2cd11ecrow2_col1\" class=\"data row2 col1\" >2,917</td>\n",
       "                        <td id=\"T_8b36aa22_c001_11ea_8438_3c15c2cd11ecrow2_col2\" class=\"data row2 col2\" >1,910,635</td>\n",
       "                        <td id=\"T_8b36aa22_c001_11ea_8438_3c15c2cd11ecrow2_col3\" class=\"data row2 col3\" >655.00</td>\n",
       "                        <td id=\"T_8b36aa22_c001_11ea_8438_3c15c2cd11ecrow2_col4\" class=\"data row2 col4\" >76.6</td>\n",
       "                        <td id=\"T_8b36aa22_c001_11ea_8438_3c15c2cd11ecrow2_col5\" class=\"data row2 col5\" >81.2</td>\n",
       "                        <td id=\"T_8b36aa22_c001_11ea_8438_3c15c2cd11ecrow2_col6\" class=\"data row2 col6\" >65.68%</td>\n",
       "                        <td id=\"T_8b36aa22_c001_11ea_8438_3c15c2cd11ecrow2_col7\" class=\"data row2 col7\" >81.32%</td>\n",
       "                        <td id=\"T_8b36aa22_c001_11ea_8438_3c15c2cd11ecrow2_col8\" class=\"data row2 col8\" >53.51%</td>\n",
       "            </tr>\n",
       "            <tr>\n",
       "                        <th id=\"T_8b36aa22_c001_11ea_8438_3c15c2cd11eclevel0_row3\" class=\"row_heading level0 row3\" >Figueroa High School</th>\n",
       "                        <td id=\"T_8b36aa22_c001_11ea_8438_3c15c2cd11ecrow3_col0\" class=\"data row3 col0\" >District</td>\n",
       "                        <td id=\"T_8b36aa22_c001_11ea_8438_3c15c2cd11ecrow3_col1\" class=\"data row3 col1\" >2,949</td>\n",
       "                        <td id=\"T_8b36aa22_c001_11ea_8438_3c15c2cd11ecrow3_col2\" class=\"data row3 col2\" >1,884,411</td>\n",
       "                        <td id=\"T_8b36aa22_c001_11ea_8438_3c15c2cd11ecrow3_col3\" class=\"data row3 col3\" >639.00</td>\n",
       "                        <td id=\"T_8b36aa22_c001_11ea_8438_3c15c2cd11ecrow3_col4\" class=\"data row3 col4\" >76.7</td>\n",
       "                        <td id=\"T_8b36aa22_c001_11ea_8438_3c15c2cd11ecrow3_col5\" class=\"data row3 col5\" >81.2</td>\n",
       "                        <td id=\"T_8b36aa22_c001_11ea_8438_3c15c2cd11ecrow3_col6\" class=\"data row3 col6\" >65.99%</td>\n",
       "                        <td id=\"T_8b36aa22_c001_11ea_8438_3c15c2cd11ecrow3_col7\" class=\"data row3 col7\" >80.74%</td>\n",
       "                        <td id=\"T_8b36aa22_c001_11ea_8438_3c15c2cd11ecrow3_col8\" class=\"data row3 col8\" >53.20%</td>\n",
       "            </tr>\n",
       "            <tr>\n",
       "                        <th id=\"T_8b36aa22_c001_11ea_8438_3c15c2cd11eclevel0_row4\" class=\"row_heading level0 row4\" >Rodriguez High School</th>\n",
       "                        <td id=\"T_8b36aa22_c001_11ea_8438_3c15c2cd11ecrow4_col0\" class=\"data row4 col0\" >District</td>\n",
       "                        <td id=\"T_8b36aa22_c001_11ea_8438_3c15c2cd11ecrow4_col1\" class=\"data row4 col1\" >3,999</td>\n",
       "                        <td id=\"T_8b36aa22_c001_11ea_8438_3c15c2cd11ecrow4_col2\" class=\"data row4 col2\" >2,547,363</td>\n",
       "                        <td id=\"T_8b36aa22_c001_11ea_8438_3c15c2cd11ecrow4_col3\" class=\"data row4 col3\" >637.00</td>\n",
       "                        <td id=\"T_8b36aa22_c001_11ea_8438_3c15c2cd11ecrow4_col4\" class=\"data row4 col4\" >76.8</td>\n",
       "                        <td id=\"T_8b36aa22_c001_11ea_8438_3c15c2cd11ecrow4_col5\" class=\"data row4 col5\" >80.7</td>\n",
       "                        <td id=\"T_8b36aa22_c001_11ea_8438_3c15c2cd11ecrow4_col6\" class=\"data row4 col6\" >66.37%</td>\n",
       "                        <td id=\"T_8b36aa22_c001_11ea_8438_3c15c2cd11ecrow4_col7\" class=\"data row4 col7\" >80.22%</td>\n",
       "                        <td id=\"T_8b36aa22_c001_11ea_8438_3c15c2cd11ecrow4_col8\" class=\"data row4 col8\" >52.99%</td>\n",
       "            </tr>\n",
       "    </tbody></table>"
      ],
      "text/plain": [
       "<pandas.io.formats.style.Styler at 0x7fa188980290>"
      ]
     },
     "execution_count": 47,
     "metadata": {},
     "output_type": "execute_result"
    }
   ],
   "source": [
    "bottom_schools = sorting_sch.tail(5)\n",
    "bottom_schools.sort_values(['Overall Passing Rate'], ascending=[True])\n",
    "bottom_schools.head(5).style.set_caption(\"Bottom Performing Schools\").set_table_styles([{\n",
    "    'selector': 'caption',\n",
    "    'props': [\n",
    "        ('color', 'navy'),\n",
    "        ('font-size', '30px')\n",
    "    ]\n",
    "}])"
   ]
  },
  {
   "cell_type": "markdown",
   "metadata": {},
   "source": [
    "## Math Scores by Grade"
   ]
  },
  {
   "cell_type": "markdown",
   "metadata": {},
   "source": [
    "* Create a table that lists the average Reading Score for students of each grade level (9th, 10th, 11th, 12th) at each school.\n",
    "\n",
    "  * Create a pandas series for each grade. Hint: use a conditional statement.\n",
    "  * Group each series by school"
   ]
  },
  {
   "cell_type": "code",
   "execution_count": 27,
   "metadata": {},
   "outputs": [],
   "source": [
    "math_9th = school_data_complete.loc[school_data_complete[\"grade\"] == '9th'].groupby('school_name')['math_score'].mean()\n",
    "math_10th = school_data_complete.loc[school_data_complete[\"grade\"] == '10th'].groupby('school_name')['math_score'].mean()\n",
    "math_11th = school_data_complete.loc[school_data_complete[\"grade\"] == '11th'].groupby('school_name')['math_score'].mean()\n",
    "math_12th = school_data_complete.loc[school_data_complete[\"grade\"] == '12th'].groupby('school_name')['math_score'].mean()"
   ]
  },
  {
   "cell_type": "markdown",
   "metadata": {},
   "source": [
    "  \n",
    "  * Combine the series into a dataframe"
   ]
  },
  {
   "cell_type": "code",
   "execution_count": 28,
   "metadata": {},
   "outputs": [],
   "source": [
    "avg_math_df = pd.DataFrame({\"9th\": math_9th,\n",
    "                            \"10th\": math_10th,\n",
    "                            \"11th\": math_11th,\n",
    "                            \"12th\": math_12th,\n",
    "    \n",
    "                            })"
   ]
  },
  {
   "cell_type": "markdown",
   "metadata": {},
   "source": [
    "  \n",
    "  * Optional: give the displayed data cleaner formatting"
   ]
  },
  {
   "cell_type": "code",
   "execution_count": 75,
   "metadata": {},
   "outputs": [
    {
     "data": {
      "text/html": [
       "<style  type=\"text/css\" >\n",
       "    #T_d04a5be8_c003_11ea_8438_3c15c2cd11ec caption {\n",
       "          color: navy;\n",
       "          font-size: 30px;\n",
       "    }</style><table id=\"T_d04a5be8_c003_11ea_8438_3c15c2cd11ec\" ><caption>Math Scores by Grade</caption><thead>    <tr>        <th class=\"blank level0\" ></th>        <th class=\"col_heading level0 col0\" >9th</th>        <th class=\"col_heading level0 col1\" >10th</th>        <th class=\"col_heading level0 col2\" >11th</th>        <th class=\"col_heading level0 col3\" >12th</th>    </tr>    <tr>        <th class=\"index_name level0\" >school_name</th>        <th class=\"blank\" ></th>        <th class=\"blank\" ></th>        <th class=\"blank\" ></th>        <th class=\"blank\" ></th>    </tr></thead><tbody>\n",
       "                <tr>\n",
       "                        <th id=\"T_d04a5be8_c003_11ea_8438_3c15c2cd11eclevel0_row0\" class=\"row_heading level0 row0\" >Bailey High School</th>\n",
       "                        <td id=\"T_d04a5be8_c003_11ea_8438_3c15c2cd11ecrow0_col0\" class=\"data row0 col0\" >77.083676</td>\n",
       "                        <td id=\"T_d04a5be8_c003_11ea_8438_3c15c2cd11ecrow0_col1\" class=\"data row0 col1\" >76.996772</td>\n",
       "                        <td id=\"T_d04a5be8_c003_11ea_8438_3c15c2cd11ecrow0_col2\" class=\"data row0 col2\" >77.515588</td>\n",
       "                        <td id=\"T_d04a5be8_c003_11ea_8438_3c15c2cd11ecrow0_col3\" class=\"data row0 col3\" >76.492218</td>\n",
       "            </tr>\n",
       "            <tr>\n",
       "                        <th id=\"T_d04a5be8_c003_11ea_8438_3c15c2cd11eclevel0_row1\" class=\"row_heading level0 row1\" >Cabrera High School</th>\n",
       "                        <td id=\"T_d04a5be8_c003_11ea_8438_3c15c2cd11ecrow1_col0\" class=\"data row1 col0\" >83.094697</td>\n",
       "                        <td id=\"T_d04a5be8_c003_11ea_8438_3c15c2cd11ecrow1_col1\" class=\"data row1 col1\" >83.154506</td>\n",
       "                        <td id=\"T_d04a5be8_c003_11ea_8438_3c15c2cd11ecrow1_col2\" class=\"data row1 col2\" >82.765560</td>\n",
       "                        <td id=\"T_d04a5be8_c003_11ea_8438_3c15c2cd11ecrow1_col3\" class=\"data row1 col3\" >83.277487</td>\n",
       "            </tr>\n",
       "            <tr>\n",
       "                        <th id=\"T_d04a5be8_c003_11ea_8438_3c15c2cd11eclevel0_row2\" class=\"row_heading level0 row2\" >Figueroa High School</th>\n",
       "                        <td id=\"T_d04a5be8_c003_11ea_8438_3c15c2cd11ecrow2_col0\" class=\"data row2 col0\" >76.403037</td>\n",
       "                        <td id=\"T_d04a5be8_c003_11ea_8438_3c15c2cd11ecrow2_col1\" class=\"data row2 col1\" >76.539974</td>\n",
       "                        <td id=\"T_d04a5be8_c003_11ea_8438_3c15c2cd11ecrow2_col2\" class=\"data row2 col2\" >76.884344</td>\n",
       "                        <td id=\"T_d04a5be8_c003_11ea_8438_3c15c2cd11ecrow2_col3\" class=\"data row2 col3\" >77.151369</td>\n",
       "            </tr>\n",
       "            <tr>\n",
       "                        <th id=\"T_d04a5be8_c003_11ea_8438_3c15c2cd11eclevel0_row3\" class=\"row_heading level0 row3\" >Ford High School</th>\n",
       "                        <td id=\"T_d04a5be8_c003_11ea_8438_3c15c2cd11ecrow3_col0\" class=\"data row3 col0\" >77.361345</td>\n",
       "                        <td id=\"T_d04a5be8_c003_11ea_8438_3c15c2cd11ecrow3_col1\" class=\"data row3 col1\" >77.672316</td>\n",
       "                        <td id=\"T_d04a5be8_c003_11ea_8438_3c15c2cd11ecrow3_col2\" class=\"data row3 col2\" >76.918058</td>\n",
       "                        <td id=\"T_d04a5be8_c003_11ea_8438_3c15c2cd11ecrow3_col3\" class=\"data row3 col3\" >76.179963</td>\n",
       "            </tr>\n",
       "            <tr>\n",
       "                        <th id=\"T_d04a5be8_c003_11ea_8438_3c15c2cd11eclevel0_row4\" class=\"row_heading level0 row4\" >Griffin High School</th>\n",
       "                        <td id=\"T_d04a5be8_c003_11ea_8438_3c15c2cd11ecrow4_col0\" class=\"data row4 col0\" >82.044010</td>\n",
       "                        <td id=\"T_d04a5be8_c003_11ea_8438_3c15c2cd11ecrow4_col1\" class=\"data row4 col1\" >84.229064</td>\n",
       "                        <td id=\"T_d04a5be8_c003_11ea_8438_3c15c2cd11ecrow4_col2\" class=\"data row4 col2\" >83.842105</td>\n",
       "                        <td id=\"T_d04a5be8_c003_11ea_8438_3c15c2cd11ecrow4_col3\" class=\"data row4 col3\" >83.356164</td>\n",
       "            </tr>\n",
       "            <tr>\n",
       "                        <th id=\"T_d04a5be8_c003_11ea_8438_3c15c2cd11eclevel0_row5\" class=\"row_heading level0 row5\" >Hernandez High School</th>\n",
       "                        <td id=\"T_d04a5be8_c003_11ea_8438_3c15c2cd11ecrow5_col0\" class=\"data row5 col0\" >77.438495</td>\n",
       "                        <td id=\"T_d04a5be8_c003_11ea_8438_3c15c2cd11ecrow5_col1\" class=\"data row5 col1\" >77.337408</td>\n",
       "                        <td id=\"T_d04a5be8_c003_11ea_8438_3c15c2cd11ecrow5_col2\" class=\"data row5 col2\" >77.136029</td>\n",
       "                        <td id=\"T_d04a5be8_c003_11ea_8438_3c15c2cd11ecrow5_col3\" class=\"data row5 col3\" >77.186567</td>\n",
       "            </tr>\n",
       "            <tr>\n",
       "                        <th id=\"T_d04a5be8_c003_11ea_8438_3c15c2cd11eclevel0_row6\" class=\"row_heading level0 row6\" >Holden High School</th>\n",
       "                        <td id=\"T_d04a5be8_c003_11ea_8438_3c15c2cd11ecrow6_col0\" class=\"data row6 col0\" >83.787402</td>\n",
       "                        <td id=\"T_d04a5be8_c003_11ea_8438_3c15c2cd11ecrow6_col1\" class=\"data row6 col1\" >83.429825</td>\n",
       "                        <td id=\"T_d04a5be8_c003_11ea_8438_3c15c2cd11ecrow6_col2\" class=\"data row6 col2\" >85.000000</td>\n",
       "                        <td id=\"T_d04a5be8_c003_11ea_8438_3c15c2cd11ecrow6_col3\" class=\"data row6 col3\" >82.855422</td>\n",
       "            </tr>\n",
       "            <tr>\n",
       "                        <th id=\"T_d04a5be8_c003_11ea_8438_3c15c2cd11eclevel0_row7\" class=\"row_heading level0 row7\" >Huang High School</th>\n",
       "                        <td id=\"T_d04a5be8_c003_11ea_8438_3c15c2cd11ecrow7_col0\" class=\"data row7 col0\" >77.027251</td>\n",
       "                        <td id=\"T_d04a5be8_c003_11ea_8438_3c15c2cd11ecrow7_col1\" class=\"data row7 col1\" >75.908735</td>\n",
       "                        <td id=\"T_d04a5be8_c003_11ea_8438_3c15c2cd11ecrow7_col2\" class=\"data row7 col2\" >76.446602</td>\n",
       "                        <td id=\"T_d04a5be8_c003_11ea_8438_3c15c2cd11ecrow7_col3\" class=\"data row7 col3\" >77.225641</td>\n",
       "            </tr>\n",
       "            <tr>\n",
       "                        <th id=\"T_d04a5be8_c003_11ea_8438_3c15c2cd11eclevel0_row8\" class=\"row_heading level0 row8\" >Johnson High School</th>\n",
       "                        <td id=\"T_d04a5be8_c003_11ea_8438_3c15c2cd11ecrow8_col0\" class=\"data row8 col0\" >77.187857</td>\n",
       "                        <td id=\"T_d04a5be8_c003_11ea_8438_3c15c2cd11ecrow8_col1\" class=\"data row8 col1\" >76.691117</td>\n",
       "                        <td id=\"T_d04a5be8_c003_11ea_8438_3c15c2cd11ecrow8_col2\" class=\"data row8 col2\" >77.491653</td>\n",
       "                        <td id=\"T_d04a5be8_c003_11ea_8438_3c15c2cd11ecrow8_col3\" class=\"data row8 col3\" >76.863248</td>\n",
       "            </tr>\n",
       "            <tr>\n",
       "                        <th id=\"T_d04a5be8_c003_11ea_8438_3c15c2cd11eclevel0_row9\" class=\"row_heading level0 row9\" >Pena High School</th>\n",
       "                        <td id=\"T_d04a5be8_c003_11ea_8438_3c15c2cd11ecrow9_col0\" class=\"data row9 col0\" >83.625455</td>\n",
       "                        <td id=\"T_d04a5be8_c003_11ea_8438_3c15c2cd11ecrow9_col1\" class=\"data row9 col1\" >83.372000</td>\n",
       "                        <td id=\"T_d04a5be8_c003_11ea_8438_3c15c2cd11ecrow9_col2\" class=\"data row9 col2\" >84.328125</td>\n",
       "                        <td id=\"T_d04a5be8_c003_11ea_8438_3c15c2cd11ecrow9_col3\" class=\"data row9 col3\" >84.121547</td>\n",
       "            </tr>\n",
       "            <tr>\n",
       "                        <th id=\"T_d04a5be8_c003_11ea_8438_3c15c2cd11eclevel0_row10\" class=\"row_heading level0 row10\" >Rodriguez High School</th>\n",
       "                        <td id=\"T_d04a5be8_c003_11ea_8438_3c15c2cd11ecrow10_col0\" class=\"data row10 col0\" >76.859966</td>\n",
       "                        <td id=\"T_d04a5be8_c003_11ea_8438_3c15c2cd11ecrow10_col1\" class=\"data row10 col1\" >76.612500</td>\n",
       "                        <td id=\"T_d04a5be8_c003_11ea_8438_3c15c2cd11ecrow10_col2\" class=\"data row10 col2\" >76.395626</td>\n",
       "                        <td id=\"T_d04a5be8_c003_11ea_8438_3c15c2cd11ecrow10_col3\" class=\"data row10 col3\" >77.690748</td>\n",
       "            </tr>\n",
       "            <tr>\n",
       "                        <th id=\"T_d04a5be8_c003_11ea_8438_3c15c2cd11eclevel0_row11\" class=\"row_heading level0 row11\" >Shelton High School</th>\n",
       "                        <td id=\"T_d04a5be8_c003_11ea_8438_3c15c2cd11ecrow11_col0\" class=\"data row11 col0\" >83.420755</td>\n",
       "                        <td id=\"T_d04a5be8_c003_11ea_8438_3c15c2cd11ecrow11_col1\" class=\"data row11 col1\" >82.917411</td>\n",
       "                        <td id=\"T_d04a5be8_c003_11ea_8438_3c15c2cd11ecrow11_col2\" class=\"data row11 col2\" >83.383495</td>\n",
       "                        <td id=\"T_d04a5be8_c003_11ea_8438_3c15c2cd11ecrow11_col3\" class=\"data row11 col3\" >83.778976</td>\n",
       "            </tr>\n",
       "            <tr>\n",
       "                        <th id=\"T_d04a5be8_c003_11ea_8438_3c15c2cd11eclevel0_row12\" class=\"row_heading level0 row12\" >Thomas High School</th>\n",
       "                        <td id=\"T_d04a5be8_c003_11ea_8438_3c15c2cd11ecrow12_col0\" class=\"data row12 col0\" >83.590022</td>\n",
       "                        <td id=\"T_d04a5be8_c003_11ea_8438_3c15c2cd11ecrow12_col1\" class=\"data row12 col1\" >83.087886</td>\n",
       "                        <td id=\"T_d04a5be8_c003_11ea_8438_3c15c2cd11ecrow12_col2\" class=\"data row12 col2\" >83.498795</td>\n",
       "                        <td id=\"T_d04a5be8_c003_11ea_8438_3c15c2cd11ecrow12_col3\" class=\"data row12 col3\" >83.497041</td>\n",
       "            </tr>\n",
       "            <tr>\n",
       "                        <th id=\"T_d04a5be8_c003_11ea_8438_3c15c2cd11eclevel0_row13\" class=\"row_heading level0 row13\" >Wilson High School</th>\n",
       "                        <td id=\"T_d04a5be8_c003_11ea_8438_3c15c2cd11ecrow13_col0\" class=\"data row13 col0\" >83.085578</td>\n",
       "                        <td id=\"T_d04a5be8_c003_11ea_8438_3c15c2cd11ecrow13_col1\" class=\"data row13 col1\" >83.724422</td>\n",
       "                        <td id=\"T_d04a5be8_c003_11ea_8438_3c15c2cd11ecrow13_col2\" class=\"data row13 col2\" >83.195326</td>\n",
       "                        <td id=\"T_d04a5be8_c003_11ea_8438_3c15c2cd11ecrow13_col3\" class=\"data row13 col3\" >83.035794</td>\n",
       "            </tr>\n",
       "            <tr>\n",
       "                        <th id=\"T_d04a5be8_c003_11ea_8438_3c15c2cd11eclevel0_row14\" class=\"row_heading level0 row14\" >Wright High School</th>\n",
       "                        <td id=\"T_d04a5be8_c003_11ea_8438_3c15c2cd11ecrow14_col0\" class=\"data row14 col0\" >83.264706</td>\n",
       "                        <td id=\"T_d04a5be8_c003_11ea_8438_3c15c2cd11ecrow14_col1\" class=\"data row14 col1\" >84.010288</td>\n",
       "                        <td id=\"T_d04a5be8_c003_11ea_8438_3c15c2cd11ecrow14_col2\" class=\"data row14 col2\" >83.836782</td>\n",
       "                        <td id=\"T_d04a5be8_c003_11ea_8438_3c15c2cd11ecrow14_col3\" class=\"data row14 col3\" >83.644986</td>\n",
       "            </tr>\n",
       "    </tbody></table>"
      ],
      "text/plain": [
       "<pandas.io.formats.style.Styler at 0x7fa16d7ec390>"
      ]
     },
     "execution_count": 75,
     "metadata": {},
     "output_type": "execute_result"
    }
   ],
   "source": [
    "#setting the order\n",
    "avg_math_df = avg_math_df[[\"9th\",\"10th\",\"11th\",\"12th\"]]\n",
    "\n",
    "avg_math_df.style.set_caption(\"Math Scores by Grade\").set_table_styles([{\n",
    "    'selector': 'caption',\n",
    "    'props': [\n",
    "        ('color', 'navy'),\n",
    "        ('font-size', '30px')\n",
    "    ]\n",
    "}])"
   ]
  },
  {
   "cell_type": "markdown",
   "metadata": {},
   "source": [
    "## Reading Score by Grade "
   ]
  },
  {
   "cell_type": "markdown",
   "metadata": {},
   "source": [
    "* Perform the same operations as above for reading scores"
   ]
  },
  {
   "cell_type": "code",
   "execution_count": 77,
   "metadata": {},
   "outputs": [
    {
     "data": {
      "text/html": [
       "<style  type=\"text/css\" >\n",
       "    #T_ddc5fbf6_c003_11ea_8438_3c15c2cd11ec caption {\n",
       "          color: navy;\n",
       "          font-size: 30px;\n",
       "    }</style><table id=\"T_ddc5fbf6_c003_11ea_8438_3c15c2cd11ec\" ><caption>Reading Scores by Grade</caption><thead>    <tr>        <th class=\"blank level0\" ></th>        <th class=\"col_heading level0 col0\" >9th</th>        <th class=\"col_heading level0 col1\" >10th</th>        <th class=\"col_heading level0 col2\" >11th</th>        <th class=\"col_heading level0 col3\" >12th</th>    </tr>    <tr>        <th class=\"index_name level0\" >school_name</th>        <th class=\"blank\" ></th>        <th class=\"blank\" ></th>        <th class=\"blank\" ></th>        <th class=\"blank\" ></th>    </tr></thead><tbody>\n",
       "                <tr>\n",
       "                        <th id=\"T_ddc5fbf6_c003_11ea_8438_3c15c2cd11eclevel0_row0\" class=\"row_heading level0 row0\" >Bailey High School</th>\n",
       "                        <td id=\"T_ddc5fbf6_c003_11ea_8438_3c15c2cd11ecrow0_col0\" class=\"data row0 col0\" >81.303155</td>\n",
       "                        <td id=\"T_ddc5fbf6_c003_11ea_8438_3c15c2cd11ecrow0_col1\" class=\"data row0 col1\" >80.907183</td>\n",
       "                        <td id=\"T_ddc5fbf6_c003_11ea_8438_3c15c2cd11ecrow0_col2\" class=\"data row0 col2\" >80.945643</td>\n",
       "                        <td id=\"T_ddc5fbf6_c003_11ea_8438_3c15c2cd11ecrow0_col3\" class=\"data row0 col3\" >80.912451</td>\n",
       "            </tr>\n",
       "            <tr>\n",
       "                        <th id=\"T_ddc5fbf6_c003_11ea_8438_3c15c2cd11eclevel0_row1\" class=\"row_heading level0 row1\" >Cabrera High School</th>\n",
       "                        <td id=\"T_ddc5fbf6_c003_11ea_8438_3c15c2cd11ecrow1_col0\" class=\"data row1 col0\" >83.676136</td>\n",
       "                        <td id=\"T_ddc5fbf6_c003_11ea_8438_3c15c2cd11ecrow1_col1\" class=\"data row1 col1\" >84.253219</td>\n",
       "                        <td id=\"T_ddc5fbf6_c003_11ea_8438_3c15c2cd11ecrow1_col2\" class=\"data row1 col2\" >83.788382</td>\n",
       "                        <td id=\"T_ddc5fbf6_c003_11ea_8438_3c15c2cd11ecrow1_col3\" class=\"data row1 col3\" >84.287958</td>\n",
       "            </tr>\n",
       "            <tr>\n",
       "                        <th id=\"T_ddc5fbf6_c003_11ea_8438_3c15c2cd11eclevel0_row2\" class=\"row_heading level0 row2\" >Figueroa High School</th>\n",
       "                        <td id=\"T_ddc5fbf6_c003_11ea_8438_3c15c2cd11ecrow2_col0\" class=\"data row2 col0\" >81.198598</td>\n",
       "                        <td id=\"T_ddc5fbf6_c003_11ea_8438_3c15c2cd11ecrow2_col1\" class=\"data row2 col1\" >81.408912</td>\n",
       "                        <td id=\"T_ddc5fbf6_c003_11ea_8438_3c15c2cd11ecrow2_col2\" class=\"data row2 col2\" >80.640339</td>\n",
       "                        <td id=\"T_ddc5fbf6_c003_11ea_8438_3c15c2cd11ecrow2_col3\" class=\"data row2 col3\" >81.384863</td>\n",
       "            </tr>\n",
       "            <tr>\n",
       "                        <th id=\"T_ddc5fbf6_c003_11ea_8438_3c15c2cd11eclevel0_row3\" class=\"row_heading level0 row3\" >Ford High School</th>\n",
       "                        <td id=\"T_ddc5fbf6_c003_11ea_8438_3c15c2cd11ecrow3_col0\" class=\"data row3 col0\" >80.632653</td>\n",
       "                        <td id=\"T_ddc5fbf6_c003_11ea_8438_3c15c2cd11ecrow3_col1\" class=\"data row3 col1\" >81.262712</td>\n",
       "                        <td id=\"T_ddc5fbf6_c003_11ea_8438_3c15c2cd11ecrow3_col2\" class=\"data row3 col2\" >80.403642</td>\n",
       "                        <td id=\"T_ddc5fbf6_c003_11ea_8438_3c15c2cd11ecrow3_col3\" class=\"data row3 col3\" >80.662338</td>\n",
       "            </tr>\n",
       "            <tr>\n",
       "                        <th id=\"T_ddc5fbf6_c003_11ea_8438_3c15c2cd11eclevel0_row4\" class=\"row_heading level0 row4\" >Griffin High School</th>\n",
       "                        <td id=\"T_ddc5fbf6_c003_11ea_8438_3c15c2cd11ecrow4_col0\" class=\"data row4 col0\" >83.369193</td>\n",
       "                        <td id=\"T_ddc5fbf6_c003_11ea_8438_3c15c2cd11ecrow4_col1\" class=\"data row4 col1\" >83.706897</td>\n",
       "                        <td id=\"T_ddc5fbf6_c003_11ea_8438_3c15c2cd11ecrow4_col2\" class=\"data row4 col2\" >84.288089</td>\n",
       "                        <td id=\"T_ddc5fbf6_c003_11ea_8438_3c15c2cd11ecrow4_col3\" class=\"data row4 col3\" >84.013699</td>\n",
       "            </tr>\n",
       "            <tr>\n",
       "                        <th id=\"T_ddc5fbf6_c003_11ea_8438_3c15c2cd11eclevel0_row5\" class=\"row_heading level0 row5\" >Hernandez High School</th>\n",
       "                        <td id=\"T_ddc5fbf6_c003_11ea_8438_3c15c2cd11ecrow5_col0\" class=\"data row5 col0\" >80.866860</td>\n",
       "                        <td id=\"T_ddc5fbf6_c003_11ea_8438_3c15c2cd11ecrow5_col1\" class=\"data row5 col1\" >80.660147</td>\n",
       "                        <td id=\"T_ddc5fbf6_c003_11ea_8438_3c15c2cd11ecrow5_col2\" class=\"data row5 col2\" >81.396140</td>\n",
       "                        <td id=\"T_ddc5fbf6_c003_11ea_8438_3c15c2cd11ecrow5_col3\" class=\"data row5 col3\" >80.857143</td>\n",
       "            </tr>\n",
       "            <tr>\n",
       "                        <th id=\"T_ddc5fbf6_c003_11ea_8438_3c15c2cd11eclevel0_row6\" class=\"row_heading level0 row6\" >Holden High School</th>\n",
       "                        <td id=\"T_ddc5fbf6_c003_11ea_8438_3c15c2cd11ecrow6_col0\" class=\"data row6 col0\" >83.677165</td>\n",
       "                        <td id=\"T_ddc5fbf6_c003_11ea_8438_3c15c2cd11ecrow6_col1\" class=\"data row6 col1\" >83.324561</td>\n",
       "                        <td id=\"T_ddc5fbf6_c003_11ea_8438_3c15c2cd11ecrow6_col2\" class=\"data row6 col2\" >83.815534</td>\n",
       "                        <td id=\"T_ddc5fbf6_c003_11ea_8438_3c15c2cd11ecrow6_col3\" class=\"data row6 col3\" >84.698795</td>\n",
       "            </tr>\n",
       "            <tr>\n",
       "                        <th id=\"T_ddc5fbf6_c003_11ea_8438_3c15c2cd11eclevel0_row7\" class=\"row_heading level0 row7\" >Huang High School</th>\n",
       "                        <td id=\"T_ddc5fbf6_c003_11ea_8438_3c15c2cd11ecrow7_col0\" class=\"data row7 col0\" >81.290284</td>\n",
       "                        <td id=\"T_ddc5fbf6_c003_11ea_8438_3c15c2cd11ecrow7_col1\" class=\"data row7 col1\" >81.512386</td>\n",
       "                        <td id=\"T_ddc5fbf6_c003_11ea_8438_3c15c2cd11ecrow7_col2\" class=\"data row7 col2\" >81.417476</td>\n",
       "                        <td id=\"T_ddc5fbf6_c003_11ea_8438_3c15c2cd11ecrow7_col3\" class=\"data row7 col3\" >80.305983</td>\n",
       "            </tr>\n",
       "            <tr>\n",
       "                        <th id=\"T_ddc5fbf6_c003_11ea_8438_3c15c2cd11eclevel0_row8\" class=\"row_heading level0 row8\" >Johnson High School</th>\n",
       "                        <td id=\"T_ddc5fbf6_c003_11ea_8438_3c15c2cd11ecrow8_col0\" class=\"data row8 col0\" >81.260714</td>\n",
       "                        <td id=\"T_ddc5fbf6_c003_11ea_8438_3c15c2cd11ecrow8_col1\" class=\"data row8 col1\" >80.773431</td>\n",
       "                        <td id=\"T_ddc5fbf6_c003_11ea_8438_3c15c2cd11ecrow8_col2\" class=\"data row8 col2\" >80.616027</td>\n",
       "                        <td id=\"T_ddc5fbf6_c003_11ea_8438_3c15c2cd11ecrow8_col3\" class=\"data row8 col3\" >81.227564</td>\n",
       "            </tr>\n",
       "            <tr>\n",
       "                        <th id=\"T_ddc5fbf6_c003_11ea_8438_3c15c2cd11eclevel0_row9\" class=\"row_heading level0 row9\" >Pena High School</th>\n",
       "                        <td id=\"T_ddc5fbf6_c003_11ea_8438_3c15c2cd11ecrow9_col0\" class=\"data row9 col0\" >83.807273</td>\n",
       "                        <td id=\"T_ddc5fbf6_c003_11ea_8438_3c15c2cd11ecrow9_col1\" class=\"data row9 col1\" >83.612000</td>\n",
       "                        <td id=\"T_ddc5fbf6_c003_11ea_8438_3c15c2cd11ecrow9_col2\" class=\"data row9 col2\" >84.335938</td>\n",
       "                        <td id=\"T_ddc5fbf6_c003_11ea_8438_3c15c2cd11ecrow9_col3\" class=\"data row9 col3\" >84.591160</td>\n",
       "            </tr>\n",
       "            <tr>\n",
       "                        <th id=\"T_ddc5fbf6_c003_11ea_8438_3c15c2cd11eclevel0_row10\" class=\"row_heading level0 row10\" >Rodriguez High School</th>\n",
       "                        <td id=\"T_ddc5fbf6_c003_11ea_8438_3c15c2cd11ecrow10_col0\" class=\"data row10 col0\" >80.993127</td>\n",
       "                        <td id=\"T_ddc5fbf6_c003_11ea_8438_3c15c2cd11ecrow10_col1\" class=\"data row10 col1\" >80.629808</td>\n",
       "                        <td id=\"T_ddc5fbf6_c003_11ea_8438_3c15c2cd11ecrow10_col2\" class=\"data row10 col2\" >80.864811</td>\n",
       "                        <td id=\"T_ddc5fbf6_c003_11ea_8438_3c15c2cd11ecrow10_col3\" class=\"data row10 col3\" >80.376426</td>\n",
       "            </tr>\n",
       "            <tr>\n",
       "                        <th id=\"T_ddc5fbf6_c003_11ea_8438_3c15c2cd11eclevel0_row11\" class=\"row_heading level0 row11\" >Shelton High School</th>\n",
       "                        <td id=\"T_ddc5fbf6_c003_11ea_8438_3c15c2cd11ecrow11_col0\" class=\"data row11 col0\" >84.122642</td>\n",
       "                        <td id=\"T_ddc5fbf6_c003_11ea_8438_3c15c2cd11ecrow11_col1\" class=\"data row11 col1\" >83.441964</td>\n",
       "                        <td id=\"T_ddc5fbf6_c003_11ea_8438_3c15c2cd11ecrow11_col2\" class=\"data row11 col2\" >84.373786</td>\n",
       "                        <td id=\"T_ddc5fbf6_c003_11ea_8438_3c15c2cd11ecrow11_col3\" class=\"data row11 col3\" >82.781671</td>\n",
       "            </tr>\n",
       "            <tr>\n",
       "                        <th id=\"T_ddc5fbf6_c003_11ea_8438_3c15c2cd11eclevel0_row12\" class=\"row_heading level0 row12\" >Thomas High School</th>\n",
       "                        <td id=\"T_ddc5fbf6_c003_11ea_8438_3c15c2cd11ecrow12_col0\" class=\"data row12 col0\" >83.728850</td>\n",
       "                        <td id=\"T_ddc5fbf6_c003_11ea_8438_3c15c2cd11ecrow12_col1\" class=\"data row12 col1\" >84.254157</td>\n",
       "                        <td id=\"T_ddc5fbf6_c003_11ea_8438_3c15c2cd11ecrow12_col2\" class=\"data row12 col2\" >83.585542</td>\n",
       "                        <td id=\"T_ddc5fbf6_c003_11ea_8438_3c15c2cd11ecrow12_col3\" class=\"data row12 col3\" >83.831361</td>\n",
       "            </tr>\n",
       "            <tr>\n",
       "                        <th id=\"T_ddc5fbf6_c003_11ea_8438_3c15c2cd11eclevel0_row13\" class=\"row_heading level0 row13\" >Wilson High School</th>\n",
       "                        <td id=\"T_ddc5fbf6_c003_11ea_8438_3c15c2cd11ecrow13_col0\" class=\"data row13 col0\" >83.939778</td>\n",
       "                        <td id=\"T_ddc5fbf6_c003_11ea_8438_3c15c2cd11ecrow13_col1\" class=\"data row13 col1\" >84.021452</td>\n",
       "                        <td id=\"T_ddc5fbf6_c003_11ea_8438_3c15c2cd11ecrow13_col2\" class=\"data row13 col2\" >83.764608</td>\n",
       "                        <td id=\"T_ddc5fbf6_c003_11ea_8438_3c15c2cd11ecrow13_col3\" class=\"data row13 col3\" >84.317673</td>\n",
       "            </tr>\n",
       "            <tr>\n",
       "                        <th id=\"T_ddc5fbf6_c003_11ea_8438_3c15c2cd11eclevel0_row14\" class=\"row_heading level0 row14\" >Wright High School</th>\n",
       "                        <td id=\"T_ddc5fbf6_c003_11ea_8438_3c15c2cd11ecrow14_col0\" class=\"data row14 col0\" >83.833333</td>\n",
       "                        <td id=\"T_ddc5fbf6_c003_11ea_8438_3c15c2cd11ecrow14_col1\" class=\"data row14 col1\" >83.812757</td>\n",
       "                        <td id=\"T_ddc5fbf6_c003_11ea_8438_3c15c2cd11ecrow14_col2\" class=\"data row14 col2\" >84.156322</td>\n",
       "                        <td id=\"T_ddc5fbf6_c003_11ea_8438_3c15c2cd11ecrow14_col3\" class=\"data row14 col3\" >84.073171</td>\n",
       "            </tr>\n",
       "    </tbody></table>"
      ],
      "text/plain": [
       "<pandas.io.formats.style.Styler at 0x7fa186d3e290>"
      ]
     },
     "execution_count": 77,
     "metadata": {},
     "output_type": "execute_result"
    }
   ],
   "source": [
    "math_9th = school_data_complete.loc[school_data_complete[\"grade\"] == '9th'].groupby('school_name')['reading_score'].mean()\n",
    "math_10th = school_data_complete.loc[school_data_complete[\"grade\"] == '10th'].groupby('school_name')['reading_score'].mean()\n",
    "math_11th = school_data_complete.loc[school_data_complete[\"grade\"] == '11th'].groupby('school_name')['reading_score'].mean()\n",
    "math_12th = school_data_complete.loc[school_data_complete[\"grade\"] == '12th'].groupby('school_name')['reading_score'].mean()\n",
    "\n",
    "avg_reading_df = pd.DataFrame({\"9th\": math_9th,\n",
    "                            \"10th\": math_10th,\n",
    "                            \"11th\": math_11th,\n",
    "                            \"12th\": math_12th,\n",
    "    \n",
    "                            })\n",
    "#setting the order\n",
    "avg_reading_df = avg_reading_df[[\"9th\",\"10th\",\"11th\",\"12th\"]]\n",
    "\n",
    "avg_reading_df.style.set_caption(\"Reading Scores by Grade\").set_table_styles([{\n",
    "    'selector': 'caption',\n",
    "    'props': [\n",
    "        ('color', 'navy'),\n",
    "        ('font-size', '30px')\n",
    "    ]\n",
    "}])"
   ]
  },
  {
   "cell_type": "markdown",
   "metadata": {},
   "source": [
    "## Scores by School Spending"
   ]
  },
  {
   "cell_type": "markdown",
   "metadata": {},
   "source": [
    "* Create a table that breaks down school performances based on average Spending Ranges (Per Student). Use 4 reasonable bins to group school spending. Include in the table each of the following:"
   ]
  },
  {
   "cell_type": "code",
   "execution_count": 78,
   "metadata": {},
   "outputs": [],
   "source": [
    "bins = [0, 584.999, 614.999, 644.999, 999999]\n",
    "# create group of categories\n",
    "group_name = ['< $585', \"$585-615\", \"$615-645\", \"> $646\"]"
   ]
  },
  {
   "cell_type": "code",
   "execution_count": 79,
   "metadata": {},
   "outputs": [
    {
     "data": {
      "text/html": [
       "<style  type=\"text/css\" >\n",
       "    #T_e90f9b16_c003_11ea_8438_3c15c2cd11ec caption {\n",
       "          color: navy;\n",
       "          font-size: 30px;\n",
       "    }</style><table id=\"T_e90f9b16_c003_11ea_8438_3c15c2cd11ec\" ><caption>Scores by School Spending</caption><thead>    <tr>        <th class=\"blank level0\" ></th>        <th class=\"col_heading level0 col0\" >Average Math Score</th>        <th class=\"col_heading level0 col1\" >Average Reading Score</th>        <th class=\"col_heading level0 col2\" >% Passing Math</th>        <th class=\"col_heading level0 col3\" >% Passing Reading</th>        <th class=\"col_heading level0 col4\" >Overall Passing Rate</th>    </tr>    <tr>        <th class=\"index_name level0\" >Per Student Budget</th>        <th class=\"blank\" ></th>        <th class=\"blank\" ></th>        <th class=\"blank\" ></th>        <th class=\"blank\" ></th>        <th class=\"blank\" ></th>    </tr></thead><tbody>\n",
       "                <tr>\n",
       "                        <th id=\"T_e90f9b16_c003_11ea_8438_3c15c2cd11eclevel0_row0\" class=\"row_heading level0 row0\" >< $585</th>\n",
       "                        <td id=\"T_e90f9b16_c003_11ea_8438_3c15c2cd11ecrow0_col0\" class=\"data row0 col0\" >83.4</td>\n",
       "                        <td id=\"T_e90f9b16_c003_11ea_8438_3c15c2cd11ecrow0_col1\" class=\"data row0 col1\" >84.0</td>\n",
       "                        <td id=\"T_e90f9b16_c003_11ea_8438_3c15c2cd11ecrow0_col2\" class=\"data row0 col2\" >93.7%</td>\n",
       "                        <td id=\"T_e90f9b16_c003_11ea_8438_3c15c2cd11ecrow0_col3\" class=\"data row0 col3\" >96.7%</td>\n",
       "                        <td id=\"T_e90f9b16_c003_11ea_8438_3c15c2cd11ecrow0_col4\" class=\"data row0 col4\" >90.6%</td>\n",
       "            </tr>\n",
       "            <tr>\n",
       "                        <th id=\"T_e90f9b16_c003_11ea_8438_3c15c2cd11eclevel0_row1\" class=\"row_heading level0 row1\" >$585-615</th>\n",
       "                        <td id=\"T_e90f9b16_c003_11ea_8438_3c15c2cd11ecrow1_col0\" class=\"data row1 col0\" >83.5</td>\n",
       "                        <td id=\"T_e90f9b16_c003_11ea_8438_3c15c2cd11ecrow1_col1\" class=\"data row1 col1\" >83.8</td>\n",
       "                        <td id=\"T_e90f9b16_c003_11ea_8438_3c15c2cd11ecrow1_col2\" class=\"data row1 col2\" >94.1%</td>\n",
       "                        <td id=\"T_e90f9b16_c003_11ea_8438_3c15c2cd11ecrow1_col3\" class=\"data row1 col3\" >95.9%</td>\n",
       "                        <td id=\"T_e90f9b16_c003_11ea_8438_3c15c2cd11ecrow1_col4\" class=\"data row1 col4\" >90.1%</td>\n",
       "            </tr>\n",
       "            <tr>\n",
       "                        <th id=\"T_e90f9b16_c003_11ea_8438_3c15c2cd11eclevel0_row2\" class=\"row_heading level0 row2\" >$615-645</th>\n",
       "                        <td id=\"T_e90f9b16_c003_11ea_8438_3c15c2cd11ecrow2_col0\" class=\"data row2 col0\" >78.1</td>\n",
       "                        <td id=\"T_e90f9b16_c003_11ea_8438_3c15c2cd11ecrow2_col1\" class=\"data row2 col1\" >81.4</td>\n",
       "                        <td id=\"T_e90f9b16_c003_11ea_8438_3c15c2cd11ecrow2_col2\" class=\"data row2 col2\" >71.4%</td>\n",
       "                        <td id=\"T_e90f9b16_c003_11ea_8438_3c15c2cd11ecrow2_col3\" class=\"data row2 col3\" >83.6%</td>\n",
       "                        <td id=\"T_e90f9b16_c003_11ea_8438_3c15c2cd11ecrow2_col4\" class=\"data row2 col4\" >60.3%</td>\n",
       "            </tr>\n",
       "            <tr>\n",
       "                        <th id=\"T_e90f9b16_c003_11ea_8438_3c15c2cd11eclevel0_row3\" class=\"row_heading level0 row3\" >> $646</th>\n",
       "                        <td id=\"T_e90f9b16_c003_11ea_8438_3c15c2cd11ecrow3_col0\" class=\"data row3 col0\" >77.0</td>\n",
       "                        <td id=\"T_e90f9b16_c003_11ea_8438_3c15c2cd11ecrow3_col1\" class=\"data row3 col1\" >81.0</td>\n",
       "                        <td id=\"T_e90f9b16_c003_11ea_8438_3c15c2cd11ecrow3_col2\" class=\"data row3 col2\" >66.2%</td>\n",
       "                        <td id=\"T_e90f9b16_c003_11ea_8438_3c15c2cd11ecrow3_col3\" class=\"data row3 col3\" >81.1%</td>\n",
       "                        <td id=\"T_e90f9b16_c003_11ea_8438_3c15c2cd11ecrow3_col4\" class=\"data row3 col4\" >53.5%</td>\n",
       "            </tr>\n",
       "    </tbody></table>"
      ],
      "text/plain": [
       "<pandas.io.formats.style.Styler at 0x7fa18898ac50>"
      ]
     },
     "execution_count": 79,
     "metadata": {},
     "output_type": "execute_result"
    }
   ],
   "source": [
    "school_data_complete['spending_bins'] = pd.cut(school_data_complete['budget']/school_data_complete['size'], bins, labels = group_name)\n",
    "\n",
    "#group by spending\n",
    "by_spending = school_data_complete.groupby('spending_bins')\n",
    "\n",
    "#calculations\n",
    "avg_math = by_spending['math_score'].mean()\n",
    "avg_read = by_spending['reading_score'].mean()\n",
    "pass_math = school_data_complete[school_data_complete['math_score'] >= 70].groupby('spending_bins')['student_id'].count()/by_spending['student_id'].count()\n",
    "pass_read = school_data_complete[school_data_complete['reading_score'] >= 70].groupby('spending_bins')['student_id'].count()/by_spending['school_id'].count()\n",
    "overall = school_data_complete[(school_data_complete['reading_score'] >= 70) & (school_data_complete['math_score'] >= 70)].groupby('spending_bins')['student_id'].count()/by_spending['student_id'].count()\n",
    "\n",
    "            \n",
    "# df build            \n",
    "scores_by_spend = pd.DataFrame({\n",
    "    \"Average Math Score\": avg_math,\n",
    "    \"Average Reading Score\": avg_read,\n",
    "    '% Passing Math': pass_math,\n",
    "    '% Passing Reading': pass_read,\n",
    "    \"Overall Passing Rate\": overall\n",
    "            \n",
    "})\n",
    "            \n",
    "#reorder columns\n",
    "scores_by_spend = scores_by_spend[[\n",
    "    \"Average Math Score\",\n",
    "    \"Average Reading Score\",\n",
    "    '% Passing Math',\n",
    "    '% Passing Reading',\n",
    "    \"Overall Passing Rate\"\n",
    "]]\n",
    "\n",
    "scores_by_spend.index.name = \"Per Student Budget\"\n",
    "scores_by_spend = scores_by_spend.reindex(group_name)\n",
    "\n",
    "#formating\n",
    "scores_by_spend.style.format({'Average Math Score': '{:.1f}', \n",
    "                              'Average Reading Score': '{:.1f}', \n",
    "                              '% Passing Math': '{:.1%}', \n",
    "                              '% Passing Reading':'{:.1%}', \n",
    "                              'Overall Passing Rate': '{:.1%}'}).set_caption(\"Scores by School Spending\").set_table_styles([{\n",
    "    'selector': 'caption',\n",
    "    'props': [\n",
    "        ('color', 'navy'),\n",
    "        ('font-size', '30px')\n",
    "    ]\n",
    "}])\n"
   ]
  },
  {
   "cell_type": "markdown",
   "metadata": {},
   "source": [
    "## Scores by School Size"
   ]
  },
  {
   "cell_type": "markdown",
   "metadata": {},
   "source": [
    "* Perform the same operations as above, based on school size."
   ]
  },
  {
   "cell_type": "code",
   "execution_count": 80,
   "metadata": {
    "scrolled": true
   },
   "outputs": [
    {
     "data": {
      "text/html": [
       "<style  type=\"text/css\" >\n",
       "    #T_e9f2cd96_c003_11ea_8438_3c15c2cd11ec caption {\n",
       "          color: navy;\n",
       "          font-size: 30px;\n",
       "    }</style><table id=\"T_e9f2cd96_c003_11ea_8438_3c15c2cd11ec\" ><caption>Scores by School Size</caption><thead>    <tr>        <th class=\"blank level0\" ></th>        <th class=\"col_heading level0 col0\" >Average Math Score</th>        <th class=\"col_heading level0 col1\" >Average Reading Score</th>        <th class=\"col_heading level0 col2\" >% Passing Math</th>        <th class=\"col_heading level0 col3\" >% Passing Reading</th>        <th class=\"col_heading level0 col4\" >Overall Passing Rate</th>    </tr>    <tr>        <th class=\"index_name level0\" >Total Students</th>        <th class=\"blank\" ></th>        <th class=\"blank\" ></th>        <th class=\"blank\" ></th>        <th class=\"blank\" ></th>        <th class=\"blank\" ></th>    </tr></thead><tbody>\n",
       "                <tr>\n",
       "                        <th id=\"T_e9f2cd96_c003_11ea_8438_3c15c2cd11eclevel0_row0\" class=\"row_heading level0 row0\" >Small (<1000)</th>\n",
       "                        <td id=\"T_e9f2cd96_c003_11ea_8438_3c15c2cd11ecrow0_col0\" class=\"data row0 col0\" >83.8</td>\n",
       "                        <td id=\"T_e9f2cd96_c003_11ea_8438_3c15c2cd11ecrow0_col1\" class=\"data row0 col1\" >83.8</td>\n",
       "                        <td id=\"T_e9f2cd96_c003_11ea_8438_3c15c2cd11ecrow0_col2\" class=\"data row0 col2\" >94.0%</td>\n",
       "                        <td id=\"T_e9f2cd96_c003_11ea_8438_3c15c2cd11ecrow0_col3\" class=\"data row0 col3\" >96.0%</td>\n",
       "                        <td id=\"T_e9f2cd96_c003_11ea_8438_3c15c2cd11ecrow0_col4\" class=\"data row0 col4\" >90.1%</td>\n",
       "            </tr>\n",
       "            <tr>\n",
       "                        <th id=\"T_e9f2cd96_c003_11ea_8438_3c15c2cd11eclevel0_row1\" class=\"row_heading level0 row1\" >Medium (1000-2000)</th>\n",
       "                        <td id=\"T_e9f2cd96_c003_11ea_8438_3c15c2cd11ecrow1_col0\" class=\"data row1 col0\" >83.4</td>\n",
       "                        <td id=\"T_e9f2cd96_c003_11ea_8438_3c15c2cd11ecrow1_col1\" class=\"data row1 col1\" >83.4</td>\n",
       "                        <td id=\"T_e9f2cd96_c003_11ea_8438_3c15c2cd11ecrow1_col2\" class=\"data row1 col2\" >93.6%</td>\n",
       "                        <td id=\"T_e9f2cd96_c003_11ea_8438_3c15c2cd11ecrow1_col3\" class=\"data row1 col3\" >96.8%</td>\n",
       "                        <td id=\"T_e9f2cd96_c003_11ea_8438_3c15c2cd11ecrow1_col4\" class=\"data row1 col4\" >90.6%</td>\n",
       "            </tr>\n",
       "            <tr>\n",
       "                        <th id=\"T_e9f2cd96_c003_11ea_8438_3c15c2cd11eclevel0_row2\" class=\"row_heading level0 row2\" >Large (>2000)</th>\n",
       "                        <td id=\"T_e9f2cd96_c003_11ea_8438_3c15c2cd11ecrow2_col0\" class=\"data row2 col0\" >77.5</td>\n",
       "                        <td id=\"T_e9f2cd96_c003_11ea_8438_3c15c2cd11ecrow2_col1\" class=\"data row2 col1\" >77.5</td>\n",
       "                        <td id=\"T_e9f2cd96_c003_11ea_8438_3c15c2cd11ecrow2_col2\" class=\"data row2 col2\" >68.7%</td>\n",
       "                        <td id=\"T_e9f2cd96_c003_11ea_8438_3c15c2cd11ecrow2_col3\" class=\"data row2 col3\" >82.1%</td>\n",
       "                        <td id=\"T_e9f2cd96_c003_11ea_8438_3c15c2cd11ecrow2_col4\" class=\"data row2 col4\" >56.6%</td>\n",
       "            </tr>\n",
       "    </tbody></table>"
      ],
      "text/plain": [
       "<pandas.io.formats.style.Styler at 0x7fa16d753290>"
      ]
     },
     "execution_count": 80,
     "metadata": {},
     "output_type": "execute_result"
    }
   ],
   "source": [
    "# create size bins\n",
    "bins = [0, 999, 1999, 99999999999]\n",
    "group_name = [\"Small (<1000)\", \"Medium (1000-2000)\" , \"Large (>2000)\"]\n",
    "school_data_complete['size_bins'] = pd.cut(school_data_complete['size'], bins, labels = group_name)\n",
    "\n",
    "#group by spending\n",
    "size_by = school_data_complete.groupby('size_bins')\n",
    "\n",
    "#calculations \n",
    "avg_math = size_by['math_score'].mean()\n",
    "avg_read = size_by['math_score'].mean()\n",
    "pass_math = school_data_complete[school_data_complete['math_score'] >= 70].groupby('size_bins')['student_id'].count()/size_by['student_id'].count()\n",
    "pass_read = school_data_complete[school_data_complete['reading_score'] >= 70].groupby('size_bins')['student_id'].count()/size_by['student_id'].count()\n",
    "overall = school_data_complete[(school_data_complete['reading_score'] >= 70) & (school_data_complete['math_score'] >= 70)].groupby('size_bins')['student_id'].count()/size_by['student_id'].count()\n",
    "\n",
    "            \n",
    "# df build            \n",
    "scores_by_size = pd.DataFrame({\n",
    "    \"Average Math Score\": avg_math,\n",
    "    \"Average Reading Score\": avg_read,\n",
    "    '% Passing Math': pass_math,\n",
    "    '% Passing Reading': pass_read,\n",
    "    \"Overall Passing Rate\": overall\n",
    "            \n",
    "})\n",
    "            \n",
    "#reorder columns\n",
    "scores_by_size = scores_by_size[[\n",
    "    \"Average Math Score\",\n",
    "    \"Average Reading Score\",\n",
    "    '% Passing Math',\n",
    "    '% Passing Reading',\n",
    "    \"Overall Passing Rate\"\n",
    "]]\n",
    "\n",
    "scores_by_size.index.name = \"Total Students\"\n",
    "scores_by_size = scores_by_size.reindex(group_name)\n",
    "\n",
    "#formating\n",
    "scores_by_size.style.format({'Average Math Score': '{:.1f}', \n",
    "                              'Average Reading Score': '{:.1f}', \n",
    "                              '% Passing Math': '{:.1%}', \n",
    "                              '% Passing Reading':'{:.1%}', \n",
    "                              'Overall Passing Rate': '{:.1%}'}).set_caption(\"Scores by School Size\").set_table_styles([{\n",
    "    'selector': 'caption',\n",
    "    'props': [\n",
    "        ('color', 'navy'),\n",
    "        ('font-size', '30px')\n",
    "    ]\n",
    "}])\n",
    "  \n"
   ]
  },
  {
   "cell_type": "markdown",
   "metadata": {},
   "source": [
    "## Scores by School Type"
   ]
  },
  {
   "cell_type": "markdown",
   "metadata": {},
   "source": [
    "* Perform the same operations as above, based on school type"
   ]
  },
  {
   "cell_type": "code",
   "execution_count": 74,
   "metadata": {},
   "outputs": [
    {
     "data": {
      "text/html": [
       "<style  type=\"text/css\" >\n",
       "    #T_4e2c270a_c002_11ea_8438_3c15c2cd11ec caption {\n",
       "          color: navy;\n",
       "          font-size: 30px;\n",
       "    }</style><table id=\"T_4e2c270a_c002_11ea_8438_3c15c2cd11ec\" ><caption>Scores by School Type</caption><thead>    <tr>        <th class=\"blank level0\" ></th>        <th class=\"col_heading level0 col0\" >Average Math Score</th>        <th class=\"col_heading level0 col1\" >Average Reading Score</th>        <th class=\"col_heading level0 col2\" >% Passing Math</th>        <th class=\"col_heading level0 col3\" >% Passing Reading</th>        <th class=\"col_heading level0 col4\" >Overall Passing Rate</th>    </tr>    <tr>        <th class=\"index_name level0\" >Type of School</th>        <th class=\"blank\" ></th>        <th class=\"blank\" ></th>        <th class=\"blank\" ></th>        <th class=\"blank\" ></th>        <th class=\"blank\" ></th>    </tr></thead><tbody>\n",
       "                <tr>\n",
       "                        <th id=\"T_4e2c270a_c002_11ea_8438_3c15c2cd11eclevel0_row0\" class=\"row_heading level0 row0\" >Charter</th>\n",
       "                        <td id=\"T_4e2c270a_c002_11ea_8438_3c15c2cd11ecrow0_col0\" class=\"data row0 col0\" >83.4</td>\n",
       "                        <td id=\"T_4e2c270a_c002_11ea_8438_3c15c2cd11ecrow0_col1\" class=\"data row0 col1\" >83.4</td>\n",
       "                        <td id=\"T_4e2c270a_c002_11ea_8438_3c15c2cd11ecrow0_col2\" class=\"data row0 col2\" >93.7%</td>\n",
       "                        <td id=\"T_4e2c270a_c002_11ea_8438_3c15c2cd11ecrow0_col3\" class=\"data row0 col3\" >96.6%</td>\n",
       "                        <td id=\"T_4e2c270a_c002_11ea_8438_3c15c2cd11ecrow0_col4\" class=\"data row0 col4\" >90.6%</td>\n",
       "            </tr>\n",
       "            <tr>\n",
       "                        <th id=\"T_4e2c270a_c002_11ea_8438_3c15c2cd11eclevel0_row1\" class=\"row_heading level0 row1\" >District</th>\n",
       "                        <td id=\"T_4e2c270a_c002_11ea_8438_3c15c2cd11ecrow1_col0\" class=\"data row1 col0\" >77.0</td>\n",
       "                        <td id=\"T_4e2c270a_c002_11ea_8438_3c15c2cd11ecrow1_col1\" class=\"data row1 col1\" >77.0</td>\n",
       "                        <td id=\"T_4e2c270a_c002_11ea_8438_3c15c2cd11ecrow1_col2\" class=\"data row1 col2\" >66.5%</td>\n",
       "                        <td id=\"T_4e2c270a_c002_11ea_8438_3c15c2cd11ecrow1_col3\" class=\"data row1 col3\" >80.9%</td>\n",
       "                        <td id=\"T_4e2c270a_c002_11ea_8438_3c15c2cd11ecrow1_col4\" class=\"data row1 col4\" >53.7%</td>\n",
       "            </tr>\n",
       "    </tbody></table>"
      ],
      "text/plain": [
       "<pandas.io.formats.style.Styler at 0x7fa188978490>"
      ]
     },
     "execution_count": 74,
     "metadata": {},
     "output_type": "execute_result"
    }
   ],
   "source": [
    "# group by type of school\n",
    "by_type = school_data_complete.groupby(\"school_type\")\n",
    "\n",
    "#calculations \n",
    "avg_math = by_type['math_score'].mean()\n",
    "avg_read = by_type['math_score'].mean()\n",
    "pass_math = school_data_complete[school_data_complete['math_score'] >= 70].groupby('school_type')['student_id'].count()/by_type['student_id'].count()\n",
    "pass_read = school_data_complete[school_data_complete['reading_score'] >= 70].groupby('school_type')['student_id'].count()/by_type['student_id'].count()\n",
    "overall = school_data_complete[(school_data_complete['reading_score'] >= 70) & (school_data_complete['math_score'] >= 70)].groupby('school_type')['student_id'].count()/by_type['student_id'].count()\n",
    "\n",
    "# df build            \n",
    "scores_by_sch = pd.DataFrame({\n",
    "    \"Average Math Score\": avg_math,\n",
    "    \"Average Reading Score\": avg_read,\n",
    "    '% Passing Math': pass_math,\n",
    "    '% Passing Reading': pass_read,\n",
    "    \"Overall Passing Rate\": overall})\n",
    "    \n",
    "#reorder columns\n",
    "scores_by_sch = scores_by_sch[[\n",
    "    \"Average Math Score\",\n",
    "    \"Average Reading Score\",\n",
    "    '% Passing Math',\n",
    "    '% Passing Reading',\n",
    "    \"Overall Passing Rate\"\n",
    "]]\n",
    "scores_by_sch.index.name = \"Type of School\"\n",
    "\n",
    "\n",
    "#formating\n",
    "scores_by_sch.style.format({'Average Math Score': '{:.1f}', \n",
    "                              'Average Reading Score': '{:.1f}', \n",
    "                              '% Passing Math': '{:.1%}', \n",
    "                              '% Passing Reading':'{:.1%}', \n",
    "                              'Overall Passing Rate': '{:.1%}'}).set_caption(\"Scores by School Type\").set_table_styles([{\n",
    "    'selector': 'caption',\n",
    "    'props': [\n",
    "        ('color', 'navy'),\n",
    "        ('font-size', '30px')\n",
    "    ]\n",
    "}])\n",
    "\n"
   ]
  },
  {
   "cell_type": "code",
   "execution_count": null,
   "metadata": {},
   "outputs": [],
   "source": []
  }
 ],
 "metadata": {
  "anaconda-cloud": {},
  "kernel_info": {
   "name": "python3"
  },
  "kernelspec": {
   "display_name": "Python 3",
   "language": "python",
   "name": "python3"
  },
  "language_info": {
   "codemirror_mode": {
    "name": "ipython",
    "version": 3
   },
   "file_extension": ".py",
   "mimetype": "text/x-python",
   "name": "python",
   "nbconvert_exporter": "python",
   "pygments_lexer": "ipython3",
   "version": "3.7.6"
  },
  "latex_envs": {
   "LaTeX_envs_menu_present": true,
   "autoclose": false,
   "autocomplete": true,
   "bibliofile": "biblio.bib",
   "cite_by": "apalike",
   "current_citInitial": 1,
   "eqLabelWithNumbers": true,
   "eqNumInitial": 1,
   "hotkeys": {
    "equation": "Ctrl-E",
    "itemize": "Ctrl-I"
   },
   "labels_anchors": false,
   "latex_user_defs": false,
   "report_style_numbering": false,
   "user_envs_cfg": false
  },
  "nteract": {
   "version": "0.8.4"
  }
 },
 "nbformat": 4,
 "nbformat_minor": 4
}
