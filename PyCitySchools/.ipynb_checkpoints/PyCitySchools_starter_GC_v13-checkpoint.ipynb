{
 "cells": [
  {
   "cell_type": "markdown",
   "metadata": {},
   "source": [
    "### Note\n",
    "* Instructions have been included for each segment. You do not have to follow them exactly, but they are included to help you think through the steps."
   ]
  },
  {
   "cell_type": "code",
   "execution_count": 197,
   "metadata": {},
   "outputs": [],
   "source": [
    "# Dependencies and Setup\n",
    "import pandas as pd\n",
    "import numpy as np\n",
    "\n",
    "# File to Load (Remember to Change These)\n",
    "school_data_to_load = \"Resources/schools_complete.csv\"\n",
    "student_data_to_load = \"Resources/students_complete.csv\"\n",
    "\n",
    "# Read School and Student Data File and store into Pandas DataFrames\n",
    "school_data = pd.read_csv(school_data_to_load)\n",
    "student_data = pd.read_csv(student_data_to_load)\n"
   ]
  },
  {
   "cell_type": "code",
   "execution_count": 198,
   "metadata": {},
   "outputs": [],
   "source": [
    "#change Student ID and School ID column names to school_id and student_id. Better name conventions.\n",
    "school_data=school_data.rename(columns = {'School ID':'school_id'})\n",
    "school_data=school_data.rename(columns = {'type':'school_type'})\n",
    "student_data=student_data.rename(columns = {'Student ID':'student_id'})"
   ]
  },
  {
   "cell_type": "code",
   "execution_count": 199,
   "metadata": {},
   "outputs": [],
   "source": [
    "# Combine the data into a single dataset.  \n",
    "school_data_complete = pd.merge(student_data, school_data, how=\"left\", on=[\"school_name\", \"school_name\"])\n",
    "school_data_complete\n",
    "\n",
    "#convert budget and size data type to integer \n",
    "school_data[\"budget\"] = pd.to_numeric(school_data[\"budget\"])\n",
    "school_data[\"size\"] = pd.to_numeric(school_data[\"size\"])\n",
    "\n",
    "#convert score / size / budget data type to integer \n",
    "school_data_complete[\"reading_score\"] = pd.to_numeric(school_data_complete[\"reading_score\"])\n",
    "school_data_complete[\"math_score\"] = pd.to_numeric(school_data_complete[\"math_score\"])\n",
    "school_data_complete[\"size\"] = pd.to_numeric(school_data_complete[\"size\"])\n",
    "school_data_complete[\"budget\"] = pd.to_numeric(school_data_complete[\"budget\"])\n"
   ]
  },
  {
   "cell_type": "markdown",
   "metadata": {},
   "source": [
    "## District Summary\n",
    "\n",
    "* Calculate the total number of schools"
   ]
  },
  {
   "cell_type": "code",
   "execution_count": 200,
   "metadata": {},
   "outputs": [
    {
     "data": {
      "text/plain": [
       "15"
      ]
     },
     "execution_count": 200,
     "metadata": {},
     "output_type": "execute_result"
    }
   ],
   "source": [
    "total_schools = school_data['school_name'].nunique()\n",
    "total_schools"
   ]
  },
  {
   "cell_type": "markdown",
   "metadata": {},
   "source": [
    "* Calculate the total number of students"
   ]
  },
  {
   "cell_type": "code",
   "execution_count": 201,
   "metadata": {},
   "outputs": [
    {
     "data": {
      "text/plain": [
       "39170"
      ]
     },
     "execution_count": 201,
     "metadata": {},
     "output_type": "execute_result"
    }
   ],
   "source": [
    "total_student_id = student_data['student_id'].nunique()\n",
    "total_student_id"
   ]
  },
  {
   "cell_type": "markdown",
   "metadata": {},
   "source": [
    "* Calculate the total budget"
   ]
  },
  {
   "cell_type": "code",
   "execution_count": 202,
   "metadata": {},
   "outputs": [
    {
     "data": {
      "text/plain": [
       "24649428"
      ]
     },
     "execution_count": 202,
     "metadata": {},
     "output_type": "execute_result"
    }
   ],
   "source": [
    "total_budget = school_data['budget'].sum()\n",
    "total_budget"
   ]
  },
  {
   "cell_type": "markdown",
   "metadata": {},
   "source": [
    "* Calculate the average math score"
   ]
  },
  {
   "cell_type": "code",
   "execution_count": 203,
   "metadata": {},
   "outputs": [
    {
     "data": {
      "text/plain": [
       "78.985371"
      ]
     },
     "execution_count": 203,
     "metadata": {},
     "output_type": "execute_result"
    }
   ],
   "source": [
    "avg_math = round(student_data['math_score'].mean(), 6)\n",
    "avg_math"
   ]
  },
  {
   "cell_type": "markdown",
   "metadata": {},
   "source": [
    " * Calculate the average reading score"
   ]
  },
  {
   "cell_type": "code",
   "execution_count": 204,
   "metadata": {},
   "outputs": [
    {
     "data": {
      "text/plain": [
       "81.87784"
      ]
     },
     "execution_count": 204,
     "metadata": {},
     "output_type": "execute_result"
    }
   ],
   "source": [
    "avg_reading = round(student_data['reading_score'].mean(), 6)\n",
    "avg_reading"
   ]
  },
  {
   "cell_type": "markdown",
   "metadata": {},
   "source": [
    "* Calculate the percentage of students with a passing math score (70 or greater)"
   ]
  },
  {
   "cell_type": "code",
   "execution_count": 205,
   "metadata": {},
   "outputs": [],
   "source": [
    "#Find the percentage of math students scoring above 70%\n",
    "studs_passing_math = school_data_complete.loc[school_data_complete[\"math_score\"]>=70][\"math_score\"].count()/total_student_id\n"
   ]
  },
  {
   "cell_type": "markdown",
   "metadata": {},
   "source": [
    "* Calculate the percentage of students with a passing reading score (70 or greater)"
   ]
  },
  {
   "cell_type": "code",
   "execution_count": 206,
   "metadata": {},
   "outputs": [],
   "source": [
    "#Find the percentage of reading students scoring above 70%\n",
    "studs_passing_reading = school_data_complete.loc[school_data_complete[\"reading_score\"]>=70][\"reading_score\"].count()/total_student_id\n"
   ]
  },
  {
   "cell_type": "markdown",
   "metadata": {},
   "source": [
    "* Calculate the percentage of students who passed math **and** reading (% Overall Passing)"
   ]
  },
  {
   "cell_type": "code",
   "execution_count": 207,
   "metadata": {},
   "outputs": [],
   "source": [
    "overall_passing = (studs_passing_reading + studs_passing_math)/2\n",
    "#pct_overall_passing = round((overall_passing)*100,6)\n"
   ]
  },
  {
   "cell_type": "markdown",
   "metadata": {},
   "source": [
    "* Create a dataframe to hold the above results"
   ]
  },
  {
   "cell_type": "code",
   "execution_count": 210,
   "metadata": {},
   "outputs": [
    {
     "data": {
      "text/html": [
       "<div>\n",
       "<style scoped>\n",
       "    .dataframe tbody tr th:only-of-type {\n",
       "        vertical-align: middle;\n",
       "    }\n",
       "\n",
       "    .dataframe tbody tr th {\n",
       "        vertical-align: top;\n",
       "    }\n",
       "\n",
       "    .dataframe thead th {\n",
       "        text-align: right;\n",
       "    }\n",
       "</style>\n",
       "<table border=\"1\" class=\"dataframe\">\n",
       "  <thead>\n",
       "    <tr style=\"text-align: right;\">\n",
       "      <th></th>\n",
       "      <th>Total Schools</th>\n",
       "      <th>Total Students</th>\n",
       "      <th>Total Budget</th>\n",
       "      <th>Average Math Score</th>\n",
       "      <th>Average Reading Score</th>\n",
       "      <th>% Passing Math</th>\n",
       "      <th>% Passing Reading</th>\n",
       "      <th>Overall Passing Rate</th>\n",
       "    </tr>\n",
       "  </thead>\n",
       "  <tbody>\n",
       "    <tr>\n",
       "      <th>0</th>\n",
       "      <td>15</td>\n",
       "      <td>39,170</td>\n",
       "      <td>$24,649,428.00</td>\n",
       "      <td>78.99</td>\n",
       "      <td>81.88</td>\n",
       "      <td>75.0%</td>\n",
       "      <td>85.8%</td>\n",
       "      <td>80.4%</td>\n",
       "    </tr>\n",
       "  </tbody>\n",
       "</table>\n",
       "</div>"
      ],
      "text/plain": [
       "   Total Schools Total Students    Total Budget Average Math Score  \\\n",
       "0             15         39,170  $24,649,428.00              78.99   \n",
       "\n",
       "  Average Reading Score % Passing Math % Passing Reading Overall Passing Rate  \n",
       "0                 81.88          75.0%             85.8%                80.4%  "
      ]
     },
     "execution_count": 210,
     "metadata": {},
     "output_type": "execute_result"
    }
   ],
   "source": [
    "#create a new dataframe for summary\n",
    "district_summary = pd.DataFrame({\"Total Schools\":[total_schools],\n",
    "                                 \"Total Students\":[total_student_id],\n",
    "                                 \"Total Budget\":[total_budget],\n",
    "                                 \"Average Math Score\":[avg_math],\n",
    "                                 \"Average Reading Score\":[avg_reading],\n",
    "                                 \"% Passing Math\":[studs_passing_math],\n",
    "                                 \"% Passing Reading\":[studs_passing_reading],\n",
    "                                 \"Overall Passing Rate\":[overall_passing]                            \n",
    "                                })\n",
    "\n",
    "#rearrange columns\n",
    "district_summary = district_summary[[\"Total Schools\",\n",
    "                                 \"Total Students\",\n",
    "                                 \"Total Budget\",\n",
    "                                 \"Average Math Score\",\n",
    "                                 \"Average Reading Score\",\n",
    "                                 \"% Passing Math\",\n",
    "                                 \"% Passing Reading\",\n",
    "                                 \"Overall Passing Rate\"                            \n",
    "                                    ]]\n",
    "\n",
    "#change format \n",
    "district_summary['Total Budget'] = district_summary['Total Budget'].map(\"${:,.2f}\".format)\n",
    "district_summary['Average Math Score'] = district_summary['Average Math Score'].map(\"{:,.2f}\".format)\n",
    "district_summary['Average Reading Score'] = district_summary['Average Reading Score'].map(\"{:,.2f}\".format)\n",
    "district_summary['Total Students'] = district_summary['Total Students'].map(\"{:,}\".format)\n",
    "district_summary['Overall Passing Rate'] = district_summary['Overall Passing Rate'].map(\"{:.1%}\".format)\n",
    "district_summary['% Passing Math'] = district_summary['% Passing Math'].map(\"{:.1%}\".format)\n",
    "district_summary['% Passing Reading'] = district_summary['% Passing Reading'].map(\"{:.1%}\".format)\n",
    "\n",
    "district_summary"
   ]
  },
  {
   "cell_type": "markdown",
   "metadata": {},
   "source": [
    "## School Summary"
   ]
  },
  {
   "cell_type": "markdown",
   "metadata": {},
   "source": [
    "* Create an overview table that summarizes key metrics about each school, including:"
   ]
  },
  {
   "cell_type": "markdown",
   "metadata": {},
   "source": [
    "* School Name"
   ]
  },
  {
   "cell_type": "code",
   "execution_count": 211,
   "metadata": {},
   "outputs": [],
   "source": [
    "#school_by = school_data_complete.set_index('school_name').groupby(['school_name'])\n",
    "#school_by = school_data_complete.groupby(['school_name'])\n",
    "school_by = school_data_complete.set_index('school_name').groupby(['school_name'])"
   ]
  },
  {
   "cell_type": "markdown",
   "metadata": {},
   "source": [
    "  * School Type"
   ]
  },
  {
   "cell_type": "code",
   "execution_count": 223,
   "metadata": {},
   "outputs": [],
   "source": [
    "#school_district = school_by['school_type'].first()\n",
    "school_district = school_data.set_index('school_name')['school_type']"
   ]
  },
  {
   "cell_type": "markdown",
   "metadata": {},
   "source": [
    "  * Total Students"
   ]
  },
  {
   "cell_type": "code",
   "execution_count": 224,
   "metadata": {},
   "outputs": [],
   "source": [
    "#students_per_school = school_by['student_id'].count()\n",
    "students_per_school = school_by[\"student_id\"].count()"
   ]
  },
  {
   "cell_type": "markdown",
   "metadata": {},
   "source": [
    "  * Total School Budget"
   ]
  },
  {
   "cell_type": "code",
   "execution_count": 225,
   "metadata": {},
   "outputs": [],
   "source": [
    "#budget_per_school = school_data.set_index('school_name')['budget']\n",
    "budget_per_school = school_data.set_index('school_name')['budget']"
   ]
  },
  {
   "cell_type": "markdown",
   "metadata": {},
   "source": [
    "  * Per Student Budget"
   ]
  },
  {
   "cell_type": "code",
   "execution_count": 226,
   "metadata": {},
   "outputs": [],
   "source": [
    "#budget_per_student = school_data.set_index('school_name')['budget']/school_data.set_index('school_name')['size']\n",
    "budget_per_student = budget_per_school/students_per_school"
   ]
  },
  {
   "cell_type": "markdown",
   "metadata": {},
   "source": [
    "  * Average Math Score"
   ]
  },
  {
   "cell_type": "code",
   "execution_count": 227,
   "metadata": {},
   "outputs": [],
   "source": [
    "#avg_math_per_school = school_by['math_score'].mean()\n",
    "avg_math_score = school_by[\"math_score\"].mean()"
   ]
  },
  {
   "cell_type": "markdown",
   "metadata": {},
   "source": [
    "  * Average Reading Score"
   ]
  },
  {
   "cell_type": "code",
   "execution_count": 228,
   "metadata": {},
   "outputs": [],
   "source": [
    "avg_reading_score = school_by['reading_score'].mean()"
   ]
  },
  {
   "cell_type": "markdown",
   "metadata": {},
   "source": [
    "  * % Passing Math"
   ]
  },
  {
   "cell_type": "code",
   "execution_count": 229,
   "metadata": {},
   "outputs": [],
   "source": [
    "percent_pass_math = school_data_complete[school_data_complete['math_score'] >= 70].groupby('school_name')['student_id'].count()/students_per_school"
   ]
  },
  {
   "cell_type": "markdown",
   "metadata": {},
   "source": [
    "  * % Passing Reading"
   ]
  },
  {
   "cell_type": "code",
   "execution_count": 230,
   "metadata": {},
   "outputs": [],
   "source": [
    "percent_pass_reading = school_data_complete[school_data_complete['reading_score'] >= 70].groupby('school_name')['student_id'].count()/students_per_school"
   ]
  },
  {
   "cell_type": "markdown",
   "metadata": {},
   "source": [
    "  * % Overall Passing (The percentage of students that passed math **and** reading.)"
   ]
  },
  {
   "cell_type": "code",
   "execution_count": 231,
   "metadata": {},
   "outputs": [],
   "source": [
    "overall_pass_rate = school_data_complete[(school_data_complete['reading_score'] >= 70) & (school_data_complete['math_score'] >= 70)].groupby('school_name')['student_id'].count()/students_per_school"
   ]
  },
  {
   "cell_type": "markdown",
   "metadata": {},
   "source": [
    "  \n",
    "* Create a dataframe to hold the above results"
   ]
  },
  {
   "cell_type": "code",
   "execution_count": 237,
   "metadata": {},
   "outputs": [
    {
     "data": {
      "text/html": [
       "<div>\n",
       "<style scoped>\n",
       "    .dataframe tbody tr th:only-of-type {\n",
       "        vertical-align: middle;\n",
       "    }\n",
       "\n",
       "    .dataframe tbody tr th {\n",
       "        vertical-align: top;\n",
       "    }\n",
       "\n",
       "    .dataframe thead th {\n",
       "        text-align: right;\n",
       "    }\n",
       "</style>\n",
       "<table border=\"1\" class=\"dataframe\">\n",
       "  <thead>\n",
       "    <tr style=\"text-align: right;\">\n",
       "      <th></th>\n",
       "      <th>School Type</th>\n",
       "      <th>Total Students</th>\n",
       "      <th>Total School Budget</th>\n",
       "      <th>Per Student Budget</th>\n",
       "      <th>Average Math Score</th>\n",
       "      <th>Average Reading Score</th>\n",
       "      <th>% Passing Math</th>\n",
       "      <th>% Passing Reading</th>\n",
       "      <th>Overall Passing Rate</th>\n",
       "    </tr>\n",
       "  </thead>\n",
       "  <tbody>\n",
       "    <tr>\n",
       "      <th>Bailey High School</th>\n",
       "      <td>District</td>\n",
       "      <td>4,976</td>\n",
       "      <td>3,124,928</td>\n",
       "      <td>628.00</td>\n",
       "      <td>77.0</td>\n",
       "      <td>81.0</td>\n",
       "      <td>66.68%</td>\n",
       "      <td>81.93%</td>\n",
       "      <td>54.64%</td>\n",
       "    </tr>\n",
       "    <tr>\n",
       "      <th>Cabrera High School</th>\n",
       "      <td>Charter</td>\n",
       "      <td>1,858</td>\n",
       "      <td>1,081,356</td>\n",
       "      <td>582.00</td>\n",
       "      <td>83.1</td>\n",
       "      <td>84.0</td>\n",
       "      <td>94.13%</td>\n",
       "      <td>97.04%</td>\n",
       "      <td>91.33%</td>\n",
       "    </tr>\n",
       "    <tr>\n",
       "      <th>Figueroa High School</th>\n",
       "      <td>District</td>\n",
       "      <td>2,949</td>\n",
       "      <td>1,884,411</td>\n",
       "      <td>639.00</td>\n",
       "      <td>76.7</td>\n",
       "      <td>81.2</td>\n",
       "      <td>65.99%</td>\n",
       "      <td>80.74%</td>\n",
       "      <td>53.20%</td>\n",
       "    </tr>\n",
       "    <tr>\n",
       "      <th>Ford High School</th>\n",
       "      <td>District</td>\n",
       "      <td>2,739</td>\n",
       "      <td>1,763,916</td>\n",
       "      <td>644.00</td>\n",
       "      <td>77.1</td>\n",
       "      <td>80.7</td>\n",
       "      <td>68.31%</td>\n",
       "      <td>79.30%</td>\n",
       "      <td>54.29%</td>\n",
       "    </tr>\n",
       "    <tr>\n",
       "      <th>Griffin High School</th>\n",
       "      <td>Charter</td>\n",
       "      <td>1,468</td>\n",
       "      <td>917,500</td>\n",
       "      <td>625.00</td>\n",
       "      <td>83.4</td>\n",
       "      <td>83.8</td>\n",
       "      <td>93.39%</td>\n",
       "      <td>97.14%</td>\n",
       "      <td>90.60%</td>\n",
       "    </tr>\n",
       "    <tr>\n",
       "      <th>Hernandez High School</th>\n",
       "      <td>District</td>\n",
       "      <td>4,635</td>\n",
       "      <td>3,022,020</td>\n",
       "      <td>652.00</td>\n",
       "      <td>77.3</td>\n",
       "      <td>80.9</td>\n",
       "      <td>66.75%</td>\n",
       "      <td>80.86%</td>\n",
       "      <td>53.53%</td>\n",
       "    </tr>\n",
       "    <tr>\n",
       "      <th>Holden High School</th>\n",
       "      <td>Charter</td>\n",
       "      <td>427</td>\n",
       "      <td>248,087</td>\n",
       "      <td>581.00</td>\n",
       "      <td>83.8</td>\n",
       "      <td>83.8</td>\n",
       "      <td>92.51%</td>\n",
       "      <td>96.25%</td>\n",
       "      <td>89.23%</td>\n",
       "    </tr>\n",
       "    <tr>\n",
       "      <th>Huang High School</th>\n",
       "      <td>District</td>\n",
       "      <td>2,917</td>\n",
       "      <td>1,910,635</td>\n",
       "      <td>655.00</td>\n",
       "      <td>76.6</td>\n",
       "      <td>81.2</td>\n",
       "      <td>65.68%</td>\n",
       "      <td>81.32%</td>\n",
       "      <td>53.51%</td>\n",
       "    </tr>\n",
       "    <tr>\n",
       "      <th>Johnson High School</th>\n",
       "      <td>District</td>\n",
       "      <td>4,761</td>\n",
       "      <td>3,094,650</td>\n",
       "      <td>650.00</td>\n",
       "      <td>77.1</td>\n",
       "      <td>81.0</td>\n",
       "      <td>66.06%</td>\n",
       "      <td>81.22%</td>\n",
       "      <td>53.54%</td>\n",
       "    </tr>\n",
       "    <tr>\n",
       "      <th>Pena High School</th>\n",
       "      <td>Charter</td>\n",
       "      <td>962</td>\n",
       "      <td>585,858</td>\n",
       "      <td>609.00</td>\n",
       "      <td>83.8</td>\n",
       "      <td>84.0</td>\n",
       "      <td>94.59%</td>\n",
       "      <td>95.95%</td>\n",
       "      <td>90.54%</td>\n",
       "    </tr>\n",
       "    <tr>\n",
       "      <th>Rodriguez High School</th>\n",
       "      <td>District</td>\n",
       "      <td>3,999</td>\n",
       "      <td>2,547,363</td>\n",
       "      <td>637.00</td>\n",
       "      <td>76.8</td>\n",
       "      <td>80.7</td>\n",
       "      <td>66.37%</td>\n",
       "      <td>80.22%</td>\n",
       "      <td>52.99%</td>\n",
       "    </tr>\n",
       "    <tr>\n",
       "      <th>Shelton High School</th>\n",
       "      <td>Charter</td>\n",
       "      <td>1,761</td>\n",
       "      <td>1,056,600</td>\n",
       "      <td>600.00</td>\n",
       "      <td>83.4</td>\n",
       "      <td>83.7</td>\n",
       "      <td>93.87%</td>\n",
       "      <td>95.85%</td>\n",
       "      <td>89.89%</td>\n",
       "    </tr>\n",
       "    <tr>\n",
       "      <th>Thomas High School</th>\n",
       "      <td>Charter</td>\n",
       "      <td>1,635</td>\n",
       "      <td>1,043,130</td>\n",
       "      <td>638.00</td>\n",
       "      <td>83.4</td>\n",
       "      <td>83.8</td>\n",
       "      <td>93.27%</td>\n",
       "      <td>97.31%</td>\n",
       "      <td>90.95%</td>\n",
       "    </tr>\n",
       "    <tr>\n",
       "      <th>Wilson High School</th>\n",
       "      <td>Charter</td>\n",
       "      <td>2,283</td>\n",
       "      <td>1,319,574</td>\n",
       "      <td>578.00</td>\n",
       "      <td>83.3</td>\n",
       "      <td>84.0</td>\n",
       "      <td>93.87%</td>\n",
       "      <td>96.54%</td>\n",
       "      <td>90.58%</td>\n",
       "    </tr>\n",
       "    <tr>\n",
       "      <th>Wright High School</th>\n",
       "      <td>Charter</td>\n",
       "      <td>1,800</td>\n",
       "      <td>1,049,400</td>\n",
       "      <td>583.00</td>\n",
       "      <td>83.7</td>\n",
       "      <td>84.0</td>\n",
       "      <td>93.33%</td>\n",
       "      <td>96.61%</td>\n",
       "      <td>90.33%</td>\n",
       "    </tr>\n",
       "  </tbody>\n",
       "</table>\n",
       "</div>"
      ],
      "text/plain": [
       "                      School Type Total Students Total School Budget  \\\n",
       "Bailey High School       District          4,976           3,124,928   \n",
       "Cabrera High School       Charter          1,858           1,081,356   \n",
       "Figueroa High School     District          2,949           1,884,411   \n",
       "Ford High School         District          2,739           1,763,916   \n",
       "Griffin High School       Charter          1,468             917,500   \n",
       "Hernandez High School    District          4,635           3,022,020   \n",
       "Holden High School        Charter            427             248,087   \n",
       "Huang High School        District          2,917           1,910,635   \n",
       "Johnson High School      District          4,761           3,094,650   \n",
       "Pena High School          Charter            962             585,858   \n",
       "Rodriguez High School    District          3,999           2,547,363   \n",
       "Shelton High School       Charter          1,761           1,056,600   \n",
       "Thomas High School        Charter          1,635           1,043,130   \n",
       "Wilson High School        Charter          2,283           1,319,574   \n",
       "Wright High School        Charter          1,800           1,049,400   \n",
       "\n",
       "                      Per Student Budget Average Math Score  \\\n",
       "Bailey High School                628.00               77.0   \n",
       "Cabrera High School               582.00               83.1   \n",
       "Figueroa High School              639.00               76.7   \n",
       "Ford High School                  644.00               77.1   \n",
       "Griffin High School               625.00               83.4   \n",
       "Hernandez High School             652.00               77.3   \n",
       "Holden High School                581.00               83.8   \n",
       "Huang High School                 655.00               76.6   \n",
       "Johnson High School               650.00               77.1   \n",
       "Pena High School                  609.00               83.8   \n",
       "Rodriguez High School             637.00               76.8   \n",
       "Shelton High School               600.00               83.4   \n",
       "Thomas High School                638.00               83.4   \n",
       "Wilson High School                578.00               83.3   \n",
       "Wright High School                583.00               83.7   \n",
       "\n",
       "                      Average Reading Score % Passing Math % Passing Reading  \\\n",
       "Bailey High School                     81.0         66.68%            81.93%   \n",
       "Cabrera High School                    84.0         94.13%            97.04%   \n",
       "Figueroa High School                   81.2         65.99%            80.74%   \n",
       "Ford High School                       80.7         68.31%            79.30%   \n",
       "Griffin High School                    83.8         93.39%            97.14%   \n",
       "Hernandez High School                  80.9         66.75%            80.86%   \n",
       "Holden High School                     83.8         92.51%            96.25%   \n",
       "Huang High School                      81.2         65.68%            81.32%   \n",
       "Johnson High School                    81.0         66.06%            81.22%   \n",
       "Pena High School                       84.0         94.59%            95.95%   \n",
       "Rodriguez High School                  80.7         66.37%            80.22%   \n",
       "Shelton High School                    83.7         93.87%            95.85%   \n",
       "Thomas High School                     83.8         93.27%            97.31%   \n",
       "Wilson High School                     84.0         93.87%            96.54%   \n",
       "Wright High School                     84.0         93.33%            96.61%   \n",
       "\n",
       "                      Overall Passing Rate  \n",
       "Bailey High School                  54.64%  \n",
       "Cabrera High School                 91.33%  \n",
       "Figueroa High School                53.20%  \n",
       "Ford High School                    54.29%  \n",
       "Griffin High School                 90.60%  \n",
       "Hernandez High School               53.53%  \n",
       "Holden High School                  89.23%  \n",
       "Huang High School                   53.51%  \n",
       "Johnson High School                 53.54%  \n",
       "Pena High School                    90.54%  \n",
       "Rodriguez High School               52.99%  \n",
       "Shelton High School                 89.89%  \n",
       "Thomas High School                  90.95%  \n",
       "Wilson High School                  90.58%  \n",
       "Wright High School                  90.33%  "
      ]
     },
     "execution_count": 237,
     "metadata": {},
     "output_type": "execute_result"
    }
   ],
   "source": [
    "school_summary = pd.DataFrame({\n",
    "                               \"School Type\" : school_district,\n",
    "                               \"Total Students\" : students_per_school,\n",
    "                               \"Total School Budget\" : budget_per_school,\n",
    "                               \"Per Student Budget\" : budget_per_student,\n",
    "                               \"Average Math Score\" : avg_math_score,\n",
    "                               \"Average Reading Score\" : avg_reading_score,\n",
    "                               \"% Passing Math\": percent_pass_math,\n",
    "                               \"% Passing Reading\" : percent_pass_reading,\n",
    "                               \"Overall Passing Rate\" : overall_pass_rate\n",
    "    \n",
    "                            })\n",
    "\n",
    "#rearrange the order\n",
    "\n",
    "#school_summary = school_summary [[ \"School Type\", \n",
    "                                   #\"Total Students\", \n",
    "                                   #\"Total School Budget\",\n",
    "                                   #\"Per Student Budget\",\n",
    "                                   #\"Average Math Score\",\n",
    "                                   #\"Average Reading Score\",\n",
    "                                  # \"% Passing Math\",\n",
    "                                  # \"% Passing Reading\",\n",
    "                                  # \"Overall Passing Rate\"\n",
    "                                   \n",
    "                                  # ]]\n",
    "#cleaner format\n",
    "\n",
    "school_summary['Total Students'] = school_summary['Total Students'].map(\"{:,}\".format)\n",
    "school_summary['Total School Budget'] = school_summary['Total School Budget'].map(\"{:,}\".format)\n",
    "school_summary['Per Student Budget'] = school_summary['Per Student Budget'].map(\"{:.2f}\".format)\n",
    "school_summary['Average Math Score'] = school_summary['Average Math Score'].map(\"{:.1f}\".format)\n",
    "school_summary['Average Reading Score'] = school_summary['Average Reading Score'].map(\"{:.1f}\".format)\n",
    "school_summary['% Passing Math'] = school_summary['% Passing Math'].map(\"{:.2%}\".format)\n",
    "school_summary['% Passing Reading'] = school_summary['% Passing Reading'].map(\"{:.2%}\".format)\n",
    "school_summary['Overall Passing Rate'] = school_summary['Overall Passing Rate'].map(\"{:.2%}\".format)\n",
    "\n",
    "school_summary "
   ]
  },
  {
   "cell_type": "code",
   "execution_count": null,
   "metadata": {},
   "outputs": [],
   "source": []
  },
  {
   "cell_type": "markdown",
   "metadata": {},
   "source": [
    "## Top Performing Schools (By % Overall Passing)"
   ]
  },
  {
   "cell_type": "markdown",
   "metadata": {},
   "source": [
    "* Sort and display the top five performing schools by % overall passing."
   ]
  },
  {
   "cell_type": "code",
   "execution_count": null,
   "metadata": {
    "scrolled": true
   },
   "outputs": [],
   "source": []
  },
  {
   "cell_type": "markdown",
   "metadata": {},
   "source": [
    "## Bottom Performing Schools (By % Overall Passing)"
   ]
  },
  {
   "cell_type": "markdown",
   "metadata": {},
   "source": [
    "* Sort and display the five worst-performing schools by % overall passing."
   ]
  },
  {
   "cell_type": "code",
   "execution_count": null,
   "metadata": {},
   "outputs": [],
   "source": []
  },
  {
   "cell_type": "markdown",
   "metadata": {},
   "source": [
    "## Math Scores by Grade"
   ]
  },
  {
   "cell_type": "markdown",
   "metadata": {},
   "source": [
    "* Create a table that lists the average Reading Score for students of each grade level (9th, 10th, 11th, 12th) at each school.\n",
    "\n",
    "  * Create a pandas series for each grade. Hint: use a conditional statement.\n",
    "  \n",
    "  * Group each series by school\n",
    "  \n",
    "  * Combine the series into a dataframe\n",
    "  \n",
    "  * Optional: give the displayed data cleaner formatting"
   ]
  },
  {
   "cell_type": "code",
   "execution_count": null,
   "metadata": {},
   "outputs": [],
   "source": []
  },
  {
   "cell_type": "markdown",
   "metadata": {},
   "source": [
    "## Reading Score by Grade "
   ]
  },
  {
   "cell_type": "markdown",
   "metadata": {},
   "source": [
    "* Perform the same operations as above for reading scores"
   ]
  },
  {
   "cell_type": "code",
   "execution_count": null,
   "metadata": {},
   "outputs": [],
   "source": []
  },
  {
   "cell_type": "markdown",
   "metadata": {},
   "source": [
    "## Scores by School Spending"
   ]
  },
  {
   "cell_type": "markdown",
   "metadata": {},
   "source": [
    "* Create a table that breaks down school performances based on average Spending Ranges (Per Student). Use 4 reasonable bins to group school spending. Include in the table each of the following:\n",
    "  * Average Math Score\n",
    "  * Average Reading Score\n",
    "  * % Passing Math\n",
    "  * % Passing Reading\n",
    "  * Overall Passing Rate (Average of the above two)"
   ]
  },
  {
   "cell_type": "code",
   "execution_count": null,
   "metadata": {},
   "outputs": [],
   "source": []
  },
  {
   "cell_type": "markdown",
   "metadata": {},
   "source": [
    "## Scores by School Size"
   ]
  },
  {
   "cell_type": "markdown",
   "metadata": {},
   "source": [
    "* Perform the same operations as above, based on school size."
   ]
  },
  {
   "cell_type": "code",
   "execution_count": null,
   "metadata": {
    "scrolled": true
   },
   "outputs": [],
   "source": []
  },
  {
   "cell_type": "markdown",
   "metadata": {},
   "source": [
    "## Scores by School Type"
   ]
  },
  {
   "cell_type": "markdown",
   "metadata": {},
   "source": [
    "* Perform the same operations as above, based on school type"
   ]
  },
  {
   "cell_type": "code",
   "execution_count": null,
   "metadata": {},
   "outputs": [],
   "source": []
  },
  {
   "cell_type": "code",
   "execution_count": null,
   "metadata": {},
   "outputs": [],
   "source": []
  }
 ],
 "metadata": {
  "anaconda-cloud": {},
  "kernel_info": {
   "name": "python3"
  },
  "kernelspec": {
   "display_name": "Python 3",
   "language": "python",
   "name": "python3"
  },
  "language_info": {
   "codemirror_mode": {
    "name": "ipython",
    "version": 3
   },
   "file_extension": ".py",
   "mimetype": "text/x-python",
   "name": "python",
   "nbconvert_exporter": "python",
   "pygments_lexer": "ipython3",
   "version": "3.7.6"
  },
  "latex_envs": {
   "LaTeX_envs_menu_present": true,
   "autoclose": false,
   "autocomplete": true,
   "bibliofile": "biblio.bib",
   "cite_by": "apalike",
   "current_citInitial": 1,
   "eqLabelWithNumbers": true,
   "eqNumInitial": 1,
   "hotkeys": {
    "equation": "Ctrl-E",
    "itemize": "Ctrl-I"
   },
   "labels_anchors": false,
   "latex_user_defs": false,
   "report_style_numbering": false,
   "user_envs_cfg": false
  },
  "nteract": {
   "version": "0.8.4"
  }
 },
 "nbformat": 4,
 "nbformat_minor": 4
}
